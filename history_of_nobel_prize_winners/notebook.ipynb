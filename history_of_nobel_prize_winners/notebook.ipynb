{
 "cells": [
  {
   "cell_type": "markdown",
   "id": "db5bd2ce-918a-4f7d-a927-a3ea74c4b456",
   "metadata": {},
   "source": [
    "The Nobel Prize has been among the most prestigious international awards since 1901. Each year, awards are bestowed in chemistry, literature, physics, physiology or medicine, economics, and peace. In addition to the honor, prestige, and substantial prize money, the recipient also gets a gold medal with an image of Alfred Nobel (1833 - 1896), who established the prize.\n",
    "\n",
    "![](Nobel_Prize.png)\n",
    "\n",
    "The Nobel Foundation has made a dataset available of all prize winners from the outset of the awards from 1901 to 2023. The dataset used in this project is from the Nobel Prize API and is available in the `nobel.csv` file in the `data` folder.\n",
    "\n",
    "In this project, you'll get a chance to explore and answer several questions related to this prizewinning data. And we encourage you then to explore further questions that you're interested in!"
   ]
  },
  {
   "cell_type": "code",
   "execution_count": 87,
   "id": "11fd5946-7bd1-495c-aa7f-ff6e7e4a350b",
   "metadata": {},
   "outputs": [],
   "source": [
    "# Loading in required libraries\n",
    "import pandas as pd\n",
    "import seaborn as sns\n",
    "import numpy as np"
   ]
  },
  {
   "cell_type": "markdown",
   "id": "d06fe27a",
   "metadata": {},
   "source": [
    "### Load the dataset and find the most common gender and birth country"
   ]
  },
  {
   "cell_type": "code",
   "execution_count": 88,
   "id": "ee40e3cb",
   "metadata": {},
   "outputs": [],
   "source": [
    "nobel_winners = pd.read_csv(\"data/nobel.csv\")\n",
    "top_gender = nobel_winners.sex.mode()\n",
    "top_country = nobel_winners.birth_country.mode()"
   ]
  },
  {
   "cell_type": "markdown",
   "id": "eab81cb9",
   "metadata": {},
   "source": [
    "### Identify the decade with the highest ratio of US-born winners"
   ]
  },
  {
   "cell_type": "code",
   "execution_count": 89,
   "id": "684295f2",
   "metadata": {},
   "outputs": [],
   "source": [
    "#  create a column with a flag for winners whose birth country is \"United States of America\"\n",
    "nobel_winners.loc[:, \"birth_country_usa\"] = nobel_winners[\"birth_country\"] == 'United States of America'\n",
    "# create a decade column\n",
    "nobel_winners[\"decade\"] = (nobel_winners[\"year\"] // 10) * 10\n",
    "# find the ratio\n",
    "total_winners_per_decade = nobel_winners.groupby(\"decade\")[\"birth_country\"].count()\n",
    "usa_winners_per_decade = nobel_winners.groupby(\"decade\")[\"birth_country_usa\"].sum()\n",
    "winners_per_decade = pd.concat([total_winners_per_decade, usa_winners_per_decade], axis=1).reset_index()\n",
    "winners_per_decade[\"ratio\"] = (winners_per_decade[\"birth_country_usa\"] / winners_per_decade[\"birth_country\"]) \n",
    "max_decade_usa = winners_per_decade[winners_per_decade[\"ratio\"] == winners_per_decade[\"ratio\"].max()][\"decade\"].iloc[0]"
   ]
  }
 ],
 "metadata": {
  "editor": "DataCamp Workspace",
  "kernelspec": {
   "display_name": ".venv",
   "language": "python",
   "name": "python3"
  },
  "language_info": {
   "codemirror_mode": {
    "name": "ipython",
    "version": 3
   },
   "file_extension": ".py",
   "mimetype": "text/x-python",
   "name": "python",
   "nbconvert_exporter": "python",
   "pygments_lexer": "ipython3",
   "version": "3.12.3"
  }
 },
 "nbformat": 4,
 "nbformat_minor": 5
}
