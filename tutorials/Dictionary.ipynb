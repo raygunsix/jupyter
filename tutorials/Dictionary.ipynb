{
 "cells": [
  {
   "cell_type": "code",
   "execution_count": 2,
   "id": "573510cf-7ab6-46c7-8593-5aa8c4340c1c",
   "metadata": {},
   "outputs": [],
   "source": [
    "import pandas as pd"
   ]
  },
  {
   "cell_type": "code",
   "execution_count": 3,
   "id": "93249d3f-9add-4c09-8025-4f224715d7b2",
   "metadata": {},
   "outputs": [],
   "source": [
    "df = pd.read_csv(\"data/dictionary.csv\")"
   ]
  },
  {
   "cell_type": "code",
   "execution_count": 3,
   "id": "152349e0-b985-489e-bdba-b6010fa2cdcc",
   "metadata": {},
   "outputs": [
    {
     "data": {
      "text/html": [
       "<div>\n",
       "<style scoped>\n",
       "    .dataframe tbody tr th:only-of-type {\n",
       "        vertical-align: middle;\n",
       "    }\n",
       "\n",
       "    .dataframe tbody tr th {\n",
       "        vertical-align: top;\n",
       "    }\n",
       "\n",
       "    .dataframe thead th {\n",
       "        text-align: right;\n",
       "    }\n",
       "</style>\n",
       "<table border=\"1\" class=\"dataframe\">\n",
       "  <thead>\n",
       "    <tr style=\"text-align: right;\">\n",
       "      <th></th>\n",
       "      <th>word</th>\n",
       "      <th>definition</th>\n",
       "    </tr>\n",
       "  </thead>\n",
       "  <tbody>\n",
       "    <tr>\n",
       "      <th>0</th>\n",
       "      <td>abandoned industrial site</td>\n",
       "      <td>Site that cannot be used for any purpose, bein...</td>\n",
       "    </tr>\n",
       "    <tr>\n",
       "      <th>1</th>\n",
       "      <td>abandoned vehicle</td>\n",
       "      <td>A vehicle that has been discarded in the envir...</td>\n",
       "    </tr>\n",
       "    <tr>\n",
       "      <th>2</th>\n",
       "      <td>abiotic factor</td>\n",
       "      <td>Physical, chemical and other non-living enviro...</td>\n",
       "    </tr>\n",
       "    <tr>\n",
       "      <th>3</th>\n",
       "      <td>access road</td>\n",
       "      <td>Any street or narrow stretch of paved surface ...</td>\n",
       "    </tr>\n",
       "    <tr>\n",
       "      <th>4</th>\n",
       "      <td>access to the sea</td>\n",
       "      <td>The ability to bring goods to and from a port ...</td>\n",
       "    </tr>\n",
       "    <tr>\n",
       "      <th>...</th>\n",
       "      <td>...</td>\n",
       "      <td>...</td>\n",
       "    </tr>\n",
       "    <tr>\n",
       "      <th>49532</th>\n",
       "      <td>casing</td>\n",
       "      <td>Something put around something else, usually i...</td>\n",
       "    </tr>\n",
       "    <tr>\n",
       "      <th>49533</th>\n",
       "      <td>facing</td>\n",
       "      <td>Something put around something else, usually i...</td>\n",
       "    </tr>\n",
       "    <tr>\n",
       "      <th>49534</th>\n",
       "      <td>lining</td>\n",
       "      <td>Something put around something else, usually i...</td>\n",
       "    </tr>\n",
       "    <tr>\n",
       "      <th>49535</th>\n",
       "      <td>assumption of Mary</td>\n",
       "      <td>Catholic holiday on August 15, remembering the...</td>\n",
       "    </tr>\n",
       "    <tr>\n",
       "      <th>49536</th>\n",
       "      <td>auscultation</td>\n",
       "      <td>Listening to the heart and lungs using a steth...</td>\n",
       "    </tr>\n",
       "  </tbody>\n",
       "</table>\n",
       "<p>49537 rows × 2 columns</p>\n",
       "</div>"
      ],
      "text/plain": [
       "                            word  \\\n",
       "0      abandoned industrial site   \n",
       "1              abandoned vehicle   \n",
       "2                 abiotic factor   \n",
       "3                    access road   \n",
       "4              access to the sea   \n",
       "...                          ...   \n",
       "49532                     casing   \n",
       "49533                     facing   \n",
       "49534                     lining   \n",
       "49535         assumption of Mary   \n",
       "49536               auscultation   \n",
       "\n",
       "                                              definition  \n",
       "0      Site that cannot be used for any purpose, bein...  \n",
       "1      A vehicle that has been discarded in the envir...  \n",
       "2      Physical, chemical and other non-living enviro...  \n",
       "3      Any street or narrow stretch of paved surface ...  \n",
       "4      The ability to bring goods to and from a port ...  \n",
       "...                                                  ...  \n",
       "49532  Something put around something else, usually i...  \n",
       "49533  Something put around something else, usually i...  \n",
       "49534  Something put around something else, usually i...  \n",
       "49535  Catholic holiday on August 15, remembering the...  \n",
       "49536  Listening to the heart and lungs using a steth...  \n",
       "\n",
       "[49537 rows x 2 columns]"
      ]
     },
     "execution_count": 3,
     "metadata": {},
     "output_type": "execute_result"
    }
   ],
   "source": [
    "df"
   ]
  },
  {
   "cell_type": "code",
   "execution_count": 8,
   "id": "ca46aded-f56e-42f0-8385-8600ffd621d9",
   "metadata": {},
   "outputs": [
    {
     "data": {
      "text/plain": [
       "'1. A compound capable of transferring a hydrogen ion in solution.\\n2. Being harsh or corrosive in tone.\\n3. Having an acid, sharp or tangy taste.\\n4. A powerful hallucinogenic drug manufactured from lysergic acid.\\n5. Having a pH less than 7, or being sour, or having the strength to neutralize  alkalis, or turning a litmus paper red.\\n'"
      ]
     },
     "execution_count": 8,
     "metadata": {},
     "output_type": "execute_result"
    }
   ],
   "source": [
    "df.loc[df['word'] == \"acid\"]['definition'].squeeze()"
   ]
  },
  {
   "cell_type": "code",
   "execution_count": 6,
   "id": "c477caa3-3540-4a9b-825b-eb964e62c11e",
   "metadata": {},
   "outputs": [],
   "source": [
    "word = \"acid\""
   ]
  },
  {
   "cell_type": "code",
   "execution_count": 7,
   "id": "d508deae-ba68-42b9-af76-312e6975b714",
   "metadata": {},
   "outputs": [],
   "source": [
    "definition = df.loc[df['word'] == word]['definition'].squeeze()"
   ]
  },
  {
   "cell_type": "code",
   "execution_count": 9,
   "id": "f5497a33-8a62-47dd-8315-77229934e006",
   "metadata": {},
   "outputs": [
    {
     "name": "stdout",
     "output_type": "stream",
     "text": [
      "1. A compound capable of transferring a hydrogen ion in solution.\n",
      "2. Being harsh or corrosive in tone.\n",
      "3. Having an acid, sharp or tangy taste.\n",
      "4. A powerful hallucinogenic drug manufactured from lysergic acid.\n",
      "5. Having a pH less than 7, or being sour, or having the strength to neutralize  alkalis, or turning a litmus paper red.\n",
      "\n"
     ]
    }
   ],
   "source": [
    "print(definition)"
   ]
  }
 ],
 "metadata": {
  "kernelspec": {
   "display_name": ".venv",
   "language": "python",
   "name": "python3"
  },
  "language_info": {
   "codemirror_mode": {
    "name": "ipython",
    "version": 3
   },
   "file_extension": ".py",
   "mimetype": "text/x-python",
   "name": "python",
   "nbconvert_exporter": "python",
   "pygments_lexer": "ipython3",
   "version": "3.12.3"
  }
 },
 "nbformat": 4,
 "nbformat_minor": 5
}
