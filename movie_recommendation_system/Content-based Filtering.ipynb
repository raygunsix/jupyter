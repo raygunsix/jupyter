{
 "cells": [
  {
   "cell_type": "markdown",
   "metadata": {
    "cell_id": "1b599b6948a44b9482361e772916ba59",
    "deepnote_cell_type": "text-cell-h1",
    "formattedRanges": []
   },
   "source": [
    "# Content-based Filtering"
   ]
  },
  {
   "cell_type": "markdown",
   "metadata": {
    "cell_id": "6ab5d5bac495492c9fe8cdddc245d0e3",
    "deepnote_cell_type": "text-cell-h3",
    "formattedRanges": []
   },
   "source": [
    "### Load Data"
   ]
  },
  {
   "cell_type": "code",
   "execution_count": 1,
   "metadata": {
    "cell_id": "e37c3af76543481e8edd8e029fb17dbf",
    "deepnote_cell_type": "code",
    "execution_context_id": "39b709e7-ae6f-4c3e-ad49-a0bbfbf219ca",
    "execution_millis": 209,
    "execution_start": 1735427609059,
    "source_hash": "c7304589"
   },
   "outputs": [],
   "source": [
    "import pandas as pd\n",
    "movies = pd.read_csv('data/movies_small.csv', sep=';')"
   ]
  },
  {
   "cell_type": "code",
   "execution_count": 9,
   "metadata": {
    "cell_id": "b3c8666bf3cf4049bd535505f6138159",
    "deepnote_cell_type": "code",
    "execution_context_id": "39b709e7-ae6f-4c3e-ad49-a0bbfbf219ca",
    "execution_millis": 79,
    "execution_start": 1735427612005,
    "source_hash": "c2fe4ca"
   },
   "outputs": [
    {
     "data": {
      "application/vnd.deepnote.dataframe.v3+json": {
       "column_count": 20,
       "columns": [
        {
         "dtype": "int64",
         "name": "budget",
         "stats": {
          "histogram": [
           {
            "bin_end": 156500000,
            "bin_start": 145000000,
            "count": 1
           },
           {
            "bin_end": 168000000,
            "bin_start": 156500000,
            "count": 0
           },
           {
            "bin_end": 179500000,
            "bin_start": 168000000,
            "count": 1
           },
           {
            "bin_end": 191000000,
            "bin_start": 179500000,
            "count": 1
           },
           {
            "bin_end": 202500000,
            "bin_start": 191000000,
            "count": 1
           },
           {
            "bin_end": 214000000,
            "bin_start": 202500000,
            "count": 0
           },
           {
            "bin_end": 225500000,
            "bin_start": 214000000,
            "count": 0
           },
           {
            "bin_end": 237000000,
            "bin_start": 225500000,
            "count": 0
           },
           {
            "bin_end": 248500000,
            "bin_start": 237000000,
            "count": 0
           },
           {
            "bin_end": 260000000,
            "bin_start": 248500000,
            "count": 2
           }
          ],
          "max": "260000000",
          "min": "145000000",
          "nan_count": 0,
          "unique_count": 6
         }
        },
        {
         "dtype": "object",
         "name": "genres",
         "stats": {
          "categories": [
           {
            "count": 1,
            "name": "[{\"id\": 28, \"name\": \"Action\"}]"
           },
           {
            "count": 1,
            "name": "[{\"id\": 16, \"name\": \"Animation\"}, {\"id\": 10751, \"name\": \"Family\"}, {\"id\": 12, \"name\": \"Adventure\"}, {\"id\": 35, \"name\": \"Comedy\"}]"
           },
           {
            "count": 4,
            "name": "4 others"
           }
          ],
          "nan_count": 0,
          "unique_count": 6
         }
        },
        {
         "dtype": "object",
         "name": "homepage",
         "stats": {
          "categories": [
           {
            "count": 1,
            "name": "http://www.furious7.com/"
           },
           {
            "count": 1,
            "name": "http://www.disney.go.com/cars/"
           },
           {
            "count": 4,
            "name": "4 others"
           }
          ],
          "nan_count": 0,
          "unique_count": 6
         }
        },
        {
         "dtype": "int64",
         "name": "id",
         "stats": {
          "histogram": [
           {
            "bin_end": 60937.6,
            "bin_start": 49013,
            "count": 3
           },
           {
            "bin_end": 72862.2,
            "bin_start": 60937.6,
            "count": 0
           },
           {
            "bin_end": 84786.8,
            "bin_start": 72862.2,
            "count": 0
           },
           {
            "bin_end": 96711.4,
            "bin_start": 84786.8,
            "count": 0
           },
           {
            "bin_end": 108636,
            "bin_start": 96711.4,
            "count": 0
           },
           {
            "bin_end": 120560.6,
            "bin_start": 108636,
            "count": 1
           },
           {
            "bin_end": 132485.2,
            "bin_start": 120560.6,
            "count": 0
           },
           {
            "bin_end": 144409.8,
            "bin_start": 132485.2,
            "count": 1
           },
           {
            "bin_end": 156334.40000000002,
            "bin_start": 144409.8,
            "count": 0
           },
           {
            "bin_end": 168259,
            "bin_start": 156334.40000000002,
            "count": 1
           }
          ],
          "max": "168259",
          "min": "49013",
          "nan_count": 0,
          "unique_count": 6
         }
        },
        {
         "dtype": "object",
         "name": "keywords",
         "stats": {
          "categories": [
           {
            "count": 1,
            "name": "[{\"id\": 830, \"name\": \"car race\"}, {\"id\": 3428, \"name\": \"speed\"}, {\"id\": 9748, \"name\": \"revenge\"}, {\"id\": 9937, \"name\": \"suspense\"}, {\"id\": 33885, \"name\": \"car\"}, {\"id\": 40870, \"name\": \"race\"}, {\"id\": 205399, \"name\": \"muscle car\"}]"
           },
           {
            "count": 1,
            "name": "[{\"id\": 830, \"name\": \"car race\"}, {\"id\": 9663, \"name\": \"sequel\"}, {\"id\": 10267, \"name\": \"comedy\"}, {\"id\": 11500, \"name\": \"anthropomorphism\"}, {\"id\": 12392, \"name\": \"best friend\"}, {\"id\": 179431, \"name\": \"duringcreditsstinger\"}]"
           },
           {
            "count": 4,
            "name": "4 others"
           }
          ],
          "nan_count": 0,
          "unique_count": 6
         }
        },
        {
         "dtype": "object",
         "name": "original_language",
         "stats": {
          "categories": [
           {
            "count": 6,
            "name": "en"
           }
          ],
          "nan_count": 0,
          "unique_count": 1
         }
        },
        {
         "dtype": "object",
         "name": "original_title",
         "stats": {
          "categories": [
           {
            "count": 1,
            "name": "Furious 7"
           },
           {
            "count": 1,
            "name": "Cars 2"
           },
           {
            "count": 4,
            "name": "4 others"
           }
          ],
          "nan_count": 0,
          "unique_count": 6
         }
        },
        {
         "dtype": "object",
         "name": "overview",
         "stats": {
          "categories": [
           {
            "count": 1,
            "name": "Deckard Shaw seeks revenge against Dominic Toretto and his family for his comatose brother."
           },
           {
            "count": 1,
            "name": "Star race car Lightning McQueen and his pal Mater head overseas to compete in the World Grand Prix race. But the road to the championship becomes rocky as Mater gets caught up in an intriguing adventure of his own: international espionage."
           },
           {
            "count": 4,
            "name": "4 others"
           }
          ],
          "nan_count": 0,
          "unique_count": 6
         }
        },
        {
         "dtype": "float64",
         "name": "popularity",
         "stats": {
          "histogram": [
           {
            "bin_end": 87.6441579,
            "bin_start": 43.926995,
            "count": 3
           },
           {
            "bin_end": 131.3613208,
            "bin_start": 87.6441579,
            "count": 2
           },
           {
            "bin_end": 175.0784837,
            "bin_start": 131.3613208,
            "count": 0
           },
           {
            "bin_end": 218.7956466,
            "bin_start": 175.0784837,
            "count": 0
           },
           {
            "bin_end": 262.5128095,
            "bin_start": 218.7956466,
            "count": 0
           },
           {
            "bin_end": 306.22997239999995,
            "bin_start": 262.5128095,
            "count": 0
           },
           {
            "bin_end": 349.94713529999996,
            "bin_start": 306.22997239999995,
            "count": 0
           },
           {
            "bin_end": 393.66429819999996,
            "bin_start": 349.94713529999996,
            "count": 0
           },
           {
            "bin_end": 437.38146109999997,
            "bin_start": 393.66429819999996,
            "count": 0
           },
           {
            "bin_end": 481.098624,
            "bin_start": 437.38146109999997,
            "count": 1
           }
          ],
          "max": "481.098624",
          "min": "43.926995",
          "nan_count": 0,
          "unique_count": 6
         }
        },
        {
         "dtype": "object",
         "name": "production_companies",
         "stats": {
          "categories": [
           {
            "count": 1,
            "name": "[{\"name\": \"Universal Pictures\", \"id\": 33}, {\"name\": \"Original Film\", \"id\": 333}, {\"name\": \"Fuji Television Network\", \"id\": 3341}, {\"name\": \"Dentsu\", \"id\": 6452}, {\"name\": \"One Race Films\", \"id\": 7154}, {\"name\": \"China Film Co.\", \"id\": 40890}, {\"name\": \"Qu\\u00e9bec Production Services Tax Credit\", \"id\": 86352}, {\"name\": \"Media Rights Capital (MRC)\", \"id\": 86655}, {\"name\": \"Abu Dhabi Film Commission\", \"id\": 87857}, {\"name\": \"Colorado Office of Film, Television & Media\", \"id\": 87858}]"
           },
           {
            "count": 1,
            "name": "[{\"name\": \"Walt Disney Pictures\", \"id\": 2}, {\"name\": \"Pixar Animation Studios\", \"id\": 3}]"
           },
           {
            "count": 4,
            "name": "4 others"
           }
          ],
          "nan_count": 0,
          "unique_count": 6
         }
        },
        {
         "dtype": "object",
         "name": "production_countries",
         "stats": {
          "categories": [
           {
            "count": 3,
            "name": "[{\"iso_3166_1\": \"US\", \"name\": \"United States of America\"}]"
           },
           {
            "count": 1,
            "name": "[{\"iso_3166_1\": \"JP\", \"name\": \"Japan\"}, {\"iso_3166_1\": \"US\", \"name\": \"United States of America\"}]"
           },
           {
            "count": 2,
            "name": "2 others"
           }
          ],
          "nan_count": 0,
          "unique_count": 4
         }
        },
        {
         "dtype": "object",
         "name": "release_date",
         "stats": {
          "categories": [
           {
            "count": 1,
            "name": "2015-04-01"
           },
           {
            "count": 1,
            "name": "2011-06-11"
           },
           {
            "count": 4,
            "name": "4 others"
           }
          ],
          "nan_count": 0,
          "unique_count": 6
         }
        },
        {
         "dtype": "int64",
         "name": "revenue",
         "stats": {
          "histogram": [
           {
            "bin_end": 406350126,
            "bin_start": 284139100,
            "count": 1
           },
           {
            "bin_end": 528561152,
            "bin_start": 406350126,
            "count": 1
           },
           {
            "bin_end": 650772178,
            "bin_start": 528561152,
            "count": 1
           },
           {
            "bin_end": 772983204,
            "bin_start": 650772178,
            "count": 0
           },
           {
            "bin_end": 895194230,
            "bin_start": 772983204,
            "count": 1
           },
           {
            "bin_end": 1017405256,
            "bin_start": 895194230,
            "count": 0
           },
           {
            "bin_end": 1139616282,
            "bin_start": 1017405256,
            "count": 1
           },
           {
            "bin_end": 1261827308,
            "bin_start": 1139616282,
            "count": 0
           },
           {
            "bin_end": 1384038334,
            "bin_start": 1261827308,
            "count": 0
           },
           {
            "bin_end": 1506249360,
            "bin_start": 1384038334,
            "count": 1
           }
          ],
          "max": "1506249360",
          "min": "284139100",
          "nan_count": 0,
          "unique_count": 6
         }
        },
        {
         "dtype": "int64",
         "name": "runtime",
         "stats": {
          "histogram": [
           {
            "bin_end": 102,
            "bin_start": 95,
            "count": 1
           },
           {
            "bin_end": 109,
            "bin_start": 102,
            "count": 1
           },
           {
            "bin_end": 116,
            "bin_start": 109,
            "count": 0
           },
           {
            "bin_end": 123,
            "bin_start": 116,
            "count": 1
           },
           {
            "bin_end": 130,
            "bin_start": 123,
            "count": 0
           },
           {
            "bin_end": 137,
            "bin_start": 130,
            "count": 1
           },
           {
            "bin_end": 144,
            "bin_start": 137,
            "count": 1
           },
           {
            "bin_end": 151,
            "bin_start": 144,
            "count": 0
           },
           {
            "bin_end": 158,
            "bin_start": 151,
            "count": 0
           },
           {
            "bin_end": 165,
            "bin_start": 158,
            "count": 1
           }
          ],
          "max": "165",
          "min": "95",
          "nan_count": 0,
          "unique_count": 6
         }
        },
        {
         "dtype": "object",
         "name": "spoken_languages",
         "stats": {
          "categories": [
           {
            "count": 5,
            "name": "[{\"iso_639_1\": \"en\", \"name\": \"English\"}]"
           },
           {
            "count": 1,
            "name": "[{\"iso_639_1\": \"en\", \"name\": \"English\"}, {\"iso_639_1\": \"ja\", \"name\": \"\\u65e5\\u672c\\u8a9e\"}, {\"iso_639_1\": \"it\", \"name\": \"Italiano\"}, {\"iso_639_1\": \"fr\", \"name\": \"Fran\\u00e7ais\"}]"
           }
          ],
          "nan_count": 0,
          "unique_count": 2
         }
        },
        {
         "dtype": "object",
         "name": "status",
         "stats": {
          "categories": [
           {
            "count": 6,
            "name": "Released"
           }
          ],
          "nan_count": 0,
          "unique_count": 1
         }
        },
        {
         "dtype": "object",
         "name": "tagline",
         "stats": {
          "categories": [
           {
            "count": 1,
            "name": "Vengeance Hits Home"
           },
           {
            "count": 1,
            "name": "Ka-ciao!"
           },
           {
            "count": 4,
            "name": "4 others"
           }
          ],
          "nan_count": 0,
          "unique_count": 6
         }
        },
        {
         "dtype": "object",
         "name": "title",
         "stats": {
          "categories": [
           {
            "count": 1,
            "name": "Furious 7"
           },
           {
            "count": 1,
            "name": "Cars 2"
           },
           {
            "count": 4,
            "name": "4 others"
           }
          ],
          "nan_count": 0,
          "unique_count": 6
         }
        },
        {
         "dtype": "float64",
         "name": "vote_average",
         "stats": {
          "histogram": [
           {
            "bin_end": 6.01,
            "bin_start": 5.8,
            "count": 1
           },
           {
            "bin_end": 6.22,
            "bin_start": 6.01,
            "count": 1
           },
           {
            "bin_end": 6.43,
            "bin_start": 6.22,
            "count": 0
           },
           {
            "bin_end": 6.64,
            "bin_start": 6.43,
            "count": 0
           },
           {
            "bin_end": 6.85,
            "bin_start": 6.64,
            "count": 1
           },
           {
            "bin_end": 7.0600000000000005,
            "bin_start": 6.85,
            "count": 0
           },
           {
            "bin_end": 7.2700000000000005,
            "bin_start": 7.0600000000000005,
            "count": 0
           },
           {
            "bin_end": 7.48,
            "bin_start": 7.2700000000000005,
            "count": 1
           },
           {
            "bin_end": 7.69,
            "bin_start": 7.48,
            "count": 1
           },
           {
            "bin_end": 7.9,
            "bin_start": 7.69,
            "count": 1
           }
          ],
          "max": "7.9",
          "min": "5.8",
          "nan_count": 0,
          "unique_count": 6
         }
        },
        {
         "dtype": "int64",
         "name": "vote_count",
         "stats": {
          "histogram": [
           {
            "bin_end": 2416.9,
            "bin_start": 1603,
            "count": 3
           },
           {
            "bin_end": 3230.8,
            "bin_start": 2416.9,
            "count": 0
           },
           {
            "bin_end": 4044.7,
            "bin_start": 3230.8,
            "count": 0
           },
           {
            "bin_end": 4858.6,
            "bin_start": 4044.7,
            "count": 1
           },
           {
            "bin_end": 5672.5,
            "bin_start": 4858.6,
            "count": 0
           },
           {
            "bin_end": 6486.4,
            "bin_start": 5672.5,
            "count": 0
           },
           {
            "bin_end": 7300.3,
            "bin_start": 6486.4,
            "count": 0
           },
           {
            "bin_end": 8114.2,
            "bin_start": 7300.3,
            "count": 0
           },
           {
            "bin_end": 8928.099999999999,
            "bin_start": 8114.2,
            "count": 0
           },
           {
            "bin_end": 9742,
            "bin_start": 8928.099999999999,
            "count": 2
           }
          ],
          "max": "9742",
          "min": "1603",
          "nan_count": 0,
          "unique_count": 6
         }
        },
        {
         "dtype": "int64",
         "name": "_deepnote_index_column"
        }
       ],
       "row_count": 6,
       "rows": [
        {
         "_deepnote_index_column": 0,
         "budget": 190000000,
         "genres": "[{\"id\": 28, \"name\": \"Action\"}]",
         "homepage": "http://www.furious7.com/",
         "id": 168259,
         "keywords": "[{\"id\": 830, \"name\": \"car race\"}, {\"id\": 3428, \"name\": \"speed\"}, {\"id\": 9748, \"name\": \"revenge\"}, {\"id\": 9937, \"name\": \"suspense\"}, {\"id\": 33885, \"name\": \"car\"}, {\"id\": 40870, \"name\": \"race\"}, {\"id\": 205399, \"name\": \"muscle car\"}]",
         "original_language": "en",
         "original_title": "Furious 7",
         "overview": "Deckard Shaw seeks revenge against Dominic Toretto and his family for his comatose brother.",
         "popularity": 102.322217,
         "production_companies": "[{\"name\": \"Universal Pictures\", \"id\": 33}, {\"name\": \"Original Film\", \"id\": 333}, {\"name\": \"Fuji Television Network\", \"id\": 3341}, {\"name\": \"Dentsu\", \"id\": 6452}, {\"name\": \"One Race Films\", \"id\": 7154}, {\"name\": \"China Film Co.\", \"id\": 40890}, {\"name\": \"Qu\\u00e9bec Production Services Tax Credit\", \"id\": 86352}, {\"name\": \"Media Rights Capital (MRC)\", \"id\": 86655}, {\"name\": \"Abu Dhabi Film Commission\", \"id\": 87857}, {\"name\": \"Colorado Office of Film, Television & Media\", \"id\": 87858}]",
         "production_countries": "[{\"iso_3166_1\": \"JP\", \"name\": \"Japan\"}, {\"iso_3166_1\": \"US\", \"name\": \"United States of America\"}]",
         "release_date": "2015-04-01",
         "revenue": 1506249360,
         "runtime": 137,
         "spoken_languages": "[{\"iso_639_1\": \"en\", \"name\": \"English\"}]",
         "status": "Released",
         "tagline": "Vengeance Hits Home",
         "title": "Furious 7",
         "vote_average": 7.3,
         "vote_count": 4176
        },
        {
         "_deepnote_index_column": 1,
         "budget": 200000000,
         "genres": "[{\"id\": 16, \"name\": \"Animation\"}, {\"id\": 10751, \"name\": \"Family\"}, {\"id\": 12, \"name\": \"Adventure\"}, {\"id\": 35, \"name\": \"Comedy\"}]",
         "homepage": "http://www.disney.go.com/cars/",
         "id": 49013,
         "keywords": "[{\"id\": 830, \"name\": \"car race\"}, {\"id\": 9663, \"name\": \"sequel\"}, {\"id\": 10267, \"name\": \"comedy\"}, {\"id\": 11500, \"name\": \"anthropomorphism\"}, {\"id\": 12392, \"name\": \"best friend\"}, {\"id\": 179431, \"name\": \"duringcreditsstinger\"}]",
         "original_language": "en",
         "original_title": "Cars 2",
         "overview": "Star race car Lightning McQueen and his pal Mater head overseas to compete in the World Grand Prix race. But the road to the championship becomes rocky as Mater gets caught up in an intriguing adventure of his own: international espionage.",
         "popularity": 49.98659,
         "production_companies": "[{\"name\": \"Walt Disney Pictures\", \"id\": 2}, {\"name\": \"Pixar Animation Studios\", \"id\": 3}]",
         "production_countries": "[{\"iso_3166_1\": \"US\", \"name\": \"United States of America\"}]",
         "release_date": "2011-06-11",
         "revenue": 559852396,
         "runtime": 106,
         "spoken_languages": "[{\"iso_639_1\": \"en\", \"name\": \"English\"}, {\"iso_639_1\": \"ja\", \"name\": \"\\u65e5\\u672c\\u8a9e\"}, {\"iso_639_1\": \"it\", \"name\": \"Italiano\"}, {\"iso_639_1\": \"fr\", \"name\": \"Fran\\u00e7ais\"}]",
         "status": "Released",
         "tagline": "Ka-ciao!",
         "title": "Cars 2",
         "vote_average": 5.8,
         "vote_count": 2033
        },
        {
         "_deepnote_index_column": 2,
         "budget": 170000000,
         "genres": "[{\"id\": 28, \"name\": \"Action\"}, {\"id\": 878, \"name\": \"Science Fiction\"}, {\"id\": 12, \"name\": \"Adventure\"}]",
         "homepage": "http://marvel.com/guardians",
         "id": 118340,
         "keywords": "[{\"id\": 8828, \"name\": \"marvel comic\"}, {\"id\": 9831, \"name\": \"spaceship\"}, {\"id\": 9882, \"name\": \"space\"}, {\"id\": 12405, \"name\": \"outer space\"}, {\"id\": 13014, \"name\": \"orphan\"}, {\"id\": 175428, \"name\": \"adventurer\"}, {\"id\": 179430, \"name\": \"aftercreditsstinger\"}, {\"id\": 179431, \"name\": \"duringcreditsstinger\"}, {\"id\": 180547, \"name\": \"marvel cinematic universe\"}]",
         "original_language": "en",
         "original_title": "Guardians of the Galaxy",
         "overview": "Light years from Earth, 26 years after being abducted, Peter Quill finds himself the prime target of a manhunt after discovering an orb wanted by Ronan the Accuser.",
         "popularity": 481.098624,
         "production_companies": "[{\"name\": \"Marvel Studios\", \"id\": 420}, {\"name\": \"Moving Picture Company (MPC)\", \"id\": 20478}, {\"name\": \"Bulletproof Cupid\", \"id\": 54850}, {\"name\": \"Revolution Sun Studios\", \"id\": 76043}]",
         "production_countries": "[{\"iso_3166_1\": \"GB\", \"name\": \"United Kingdom\"}, {\"iso_3166_1\": \"US\", \"name\": \"United States of America\"}]",
         "release_date": "2014-07-30",
         "revenue": 773328629,
         "runtime": 121,
         "spoken_languages": "[{\"iso_639_1\": \"en\", \"name\": \"English\"}]",
         "status": "Released",
         "tagline": "All heroes start somewhere.",
         "title": "Guardians of the Galaxy",
         "vote_average": 7.9,
         "vote_count": 9742
        },
        {
         "_deepnote_index_column": 3,
         "budget": 145000000,
         "genres": "[{\"id\": 28, \"name\": \"Action\"}, {\"id\": 12, \"name\": \"Adventure\"}, {\"id\": 16, \"name\": \"Animation\"}, {\"id\": 35, \"name\": \"Comedy\"}, {\"id\": 10751, \"name\": \"Family\"}]",
         "homepage": "http://www.kungfupanda.com/",
         "id": 140300,
         "keywords": "[{\"id\": 478, \"name\": \"china\"}, {\"id\": 779, \"name\": \"martial arts\"}, {\"id\": 780, \"name\": \"kung fu\"}, {\"id\": 5331, \"name\": \"village\"}, {\"id\": 8531, \"name\": \"panda\"}, {\"id\": 9663, \"name\": \"sequel\"}, {\"id\": 11477, \"name\": \"talking animal\"}, {\"id\": 11500, \"name\": \"anthropomorphism\"}, {\"id\": 12554, \"name\": \"dragon\"}, {\"id\": 15036, \"name\": \"ancient china\"}, {\"id\": 184656, \"name\": \"wuxia\"}, {\"id\": 187056, \"name\": \"woman director\"}]",
         "original_language": "en",
         "original_title": "Kung Fu Panda 3",
         "overview": "Continuing his \"legendary adventures of awesomeness\", Po must face two hugely epic, but different threats: one supernatural and the other a little closer to his home.",
         "popularity": 56.747978,
         "production_companies": "[{\"name\": \"Twentieth Century Fox Film Corporation\", \"id\": 306}, {\"name\": \"DreamWorks Animation\", \"id\": 521}, {\"name\": \"China Film Co.\", \"id\": 40890}, {\"name\": \"Oriental DreamWorks\", \"id\": 76266}]",
         "production_countries": "[{\"iso_3166_1\": \"CN\", \"name\": \"China\"}, {\"iso_3166_1\": \"US\", \"name\": \"United States of America\"}]",
         "release_date": "2016-01-23",
         "revenue": 521170825,
         "runtime": 95,
         "spoken_languages": "[{\"iso_639_1\": \"en\", \"name\": \"English\"}]",
         "status": "Released",
         "tagline": "Grab destiny by the rice dumplings.",
         "title": "Kung Fu Panda 3",
         "vote_average": 6.7,
         "vote_count": 1603
        },
        {
         "_deepnote_index_column": 4,
         "budget": 250000000,
         "genres": "[{\"id\": 28, \"name\": \"Action\"}, {\"id\": 80, \"name\": \"Crime\"}, {\"id\": 18, \"name\": \"Drama\"}, {\"id\": 53, \"name\": \"Thriller\"}]",
         "homepage": "http://www.thedarkknightrises.com/",
         "id": 49026,
         "keywords": "[{\"id\": 849, \"name\": \"dc comics\"}, {\"id\": 853, \"name\": \"crime fighter\"}, {\"id\": 949, \"name\": \"terrorist\"}, {\"id\": 1308, \"name\": \"secret identity\"}, {\"id\": 1437, \"name\": \"burglar\"}, {\"id\": 3051, \"name\": \"hostage drama\"}, {\"id\": 3562, \"name\": \"time bomb\"}, {\"id\": 6969, \"name\": \"gotham city\"}, {\"id\": 7002, \"name\": \"vigilante\"}, {\"id\": 9665, \"name\": \"cover-up\"}, {\"id\": 9715, \"name\": \"superhero\"}, {\"id\": 9990, \"name\": \"villainess\"}, {\"id\": 10044, \"name\": \"tragic hero\"}, {\"id\": 13015, \"name\": \"terrorism\"}, {\"id\": 14796, \"name\": \"destruction\"}, {\"id\": 18933, \"name\": \"catwoman\"}, {\"id\": 156082, \"name\": \"cat burglar\"}, {\"id\": 156395, \"name\": \"imax\"}, {\"id\": 173272, \"name\": \"flood\"}, {\"id\": 179093, \"name\": \"criminal underworld\"}, {\"id\": 230775, \"name\": \"batman\"}]",
         "original_language": "en",
         "original_title": "The Dark Knight Rises",
         "overview": "Following the death of District Attorney Harvey Dent, Batman assumes responsibility for Dent's crimes to protect the late attorney's reputation and is subsequently hunted by the Gotham City Police Department. Eight years later, Batman encounters the mysterious Selina Kyle and the villainous Bane, a new terrorist leader who overwhelms Gotham's finest. The Dark Knight resurfaces to protect a city that has branded him an enemy.",
         "popularity": 112.31295,
         "production_companies": "[{\"name\": \"Legendary Pictures\", \"id\": 923}, {\"name\": \"Warner Bros.\", \"id\": 6194}, {\"name\": \"DC Entertainment\", \"id\": 9993}, {\"name\": \"Syncopy\", \"id\": 9996}]",
         "production_countries": "[{\"iso_3166_1\": \"US\", \"name\": \"United States of America\"}]",
         "release_date": "2012-07-16",
         "revenue": 1084939099,
         "runtime": 165,
         "spoken_languages": "[{\"iso_639_1\": \"en\", \"name\": \"English\"}]",
         "status": "Released",
         "tagline": "The Legend Ends",
         "title": "The Dark Knight Rises",
         "vote_average": 7.6,
         "vote_count": 9106
        },
        {
         "_deepnote_index_column": 5,
         "budget": 260000000,
         "genres": "[{\"id\": 28, \"name\": \"Action\"}, {\"id\": 12, \"name\": \"Adventure\"}, {\"id\": 878, \"name\": \"Science Fiction\"}]",
         "homepage": "http://movies.disney.com/john-carter",
         "id": 49529,
         "keywords": "[{\"id\": 818, \"name\": \"based on novel\"}, {\"id\": 839, \"name\": \"mars\"}, {\"id\": 1456, \"name\": \"medallion\"}, {\"id\": 3801, \"name\": \"space travel\"}, {\"id\": 7376, \"name\": \"princess\"}, {\"id\": 9951, \"name\": \"alien\"}, {\"id\": 10028, \"name\": \"steampunk\"}, {\"id\": 10539, \"name\": \"martian\"}, {\"id\": 10685, \"name\": \"escape\"}, {\"id\": 161511, \"name\": \"edgar rice burroughs\"}, {\"id\": 163252, \"name\": \"alien race\"}, {\"id\": 179102, \"name\": \"superhuman strength\"}, {\"id\": 190320, \"name\": \"mars civilization\"}, {\"id\": 195446, \"name\": \"sword and planet\"}, {\"id\": 207928, \"name\": \"19th century\"}, {\"id\": 209714, \"name\": \"3d\"}]",
         "original_language": "en",
         "original_title": "John Carter",
         "overview": "John Carter is a war-weary, former military captain who's inexplicably transported to the mysterious and exotic planet of Barsoom (Mars) and reluctantly becomes embroiled in an epic conflict. It's a world on the brink of collapse, and Carter rediscovers his humanity when he realizes the survival of Barsoom and its people rests in his hands.",
         "popularity": 43.926995,
         "production_companies": "[{\"name\": \"Walt Disney Pictures\", \"id\": 2}]",
         "production_countries": "[{\"iso_3166_1\": \"US\", \"name\": \"United States of America\"}]",
         "release_date": "2012-03-07",
         "revenue": 284139100,
         "runtime": 132,
         "spoken_languages": "[{\"iso_639_1\": \"en\", \"name\": \"English\"}]",
         "status": "Released",
         "tagline": "Lost in our world, found in another.",
         "title": "John Carter",
         "vote_average": 6.1,
         "vote_count": 2124
        }
       ]
      },
      "text/html": [
       "<div>\n",
       "<style scoped>\n",
       "    .dataframe tbody tr th:only-of-type {\n",
       "        vertical-align: middle;\n",
       "    }\n",
       "\n",
       "    .dataframe tbody tr th {\n",
       "        vertical-align: top;\n",
       "    }\n",
       "\n",
       "    .dataframe thead th {\n",
       "        text-align: right;\n",
       "    }\n",
       "</style>\n",
       "<table border=\"1\" class=\"dataframe\">\n",
       "  <thead>\n",
       "    <tr style=\"text-align: right;\">\n",
       "      <th></th>\n",
       "      <th>budget</th>\n",
       "      <th>genres</th>\n",
       "      <th>homepage</th>\n",
       "      <th>id</th>\n",
       "      <th>keywords</th>\n",
       "      <th>original_language</th>\n",
       "      <th>original_title</th>\n",
       "      <th>overview</th>\n",
       "      <th>popularity</th>\n",
       "      <th>production_companies</th>\n",
       "      <th>production_countries</th>\n",
       "      <th>release_date</th>\n",
       "      <th>revenue</th>\n",
       "      <th>runtime</th>\n",
       "      <th>spoken_languages</th>\n",
       "      <th>status</th>\n",
       "      <th>tagline</th>\n",
       "      <th>title</th>\n",
       "      <th>vote_average</th>\n",
       "      <th>vote_count</th>\n",
       "    </tr>\n",
       "  </thead>\n",
       "  <tbody>\n",
       "    <tr>\n",
       "      <th>0</th>\n",
       "      <td>190000000</td>\n",
       "      <td>[{\"id\": 28, \"name\": \"Action\"}]</td>\n",
       "      <td>http://www.furious7.com/</td>\n",
       "      <td>168259</td>\n",
       "      <td>[{\"id\": 830, \"name\": \"car race\"}, {\"id\": 3428,...</td>\n",
       "      <td>en</td>\n",
       "      <td>Furious 7</td>\n",
       "      <td>Deckard Shaw seeks revenge against Dominic Tor...</td>\n",
       "      <td>102.322217</td>\n",
       "      <td>[{\"name\": \"Universal Pictures\", \"id\": 33}, {\"n...</td>\n",
       "      <td>[{\"iso_3166_1\": \"JP\", \"name\": \"Japan\"}, {\"iso_...</td>\n",
       "      <td>2015-04-01</td>\n",
       "      <td>1506249360</td>\n",
       "      <td>137</td>\n",
       "      <td>[{\"iso_639_1\": \"en\", \"name\": \"English\"}]</td>\n",
       "      <td>Released</td>\n",
       "      <td>Vengeance Hits Home</td>\n",
       "      <td>Furious 7</td>\n",
       "      <td>7.3</td>\n",
       "      <td>4176</td>\n",
       "    </tr>\n",
       "    <tr>\n",
       "      <th>1</th>\n",
       "      <td>200000000</td>\n",
       "      <td>[{\"id\": 16, \"name\": \"Animation\"}, {\"id\": 10751...</td>\n",
       "      <td>http://www.disney.go.com/cars/</td>\n",
       "      <td>49013</td>\n",
       "      <td>[{\"id\": 830, \"name\": \"car race\"}, {\"id\": 9663,...</td>\n",
       "      <td>en</td>\n",
       "      <td>Cars 2</td>\n",
       "      <td>Star race car Lightning McQueen and his pal Ma...</td>\n",
       "      <td>49.986590</td>\n",
       "      <td>[{\"name\": \"Walt Disney Pictures\", \"id\": 2}, {\"...</td>\n",
       "      <td>[{\"iso_3166_1\": \"US\", \"name\": \"United States o...</td>\n",
       "      <td>2011-06-11</td>\n",
       "      <td>559852396</td>\n",
       "      <td>106</td>\n",
       "      <td>[{\"iso_639_1\": \"en\", \"name\": \"English\"}, {\"iso...</td>\n",
       "      <td>Released</td>\n",
       "      <td>Ka-ciao!</td>\n",
       "      <td>Cars 2</td>\n",
       "      <td>5.8</td>\n",
       "      <td>2033</td>\n",
       "    </tr>\n",
       "    <tr>\n",
       "      <th>2</th>\n",
       "      <td>170000000</td>\n",
       "      <td>[{\"id\": 28, \"name\": \"Action\"}, {\"id\": 878, \"na...</td>\n",
       "      <td>http://marvel.com/guardians</td>\n",
       "      <td>118340</td>\n",
       "      <td>[{\"id\": 8828, \"name\": \"marvel comic\"}, {\"id\": ...</td>\n",
       "      <td>en</td>\n",
       "      <td>Guardians of the Galaxy</td>\n",
       "      <td>Light years from Earth, 26 years after being a...</td>\n",
       "      <td>481.098624</td>\n",
       "      <td>[{\"name\": \"Marvel Studios\", \"id\": 420}, {\"name...</td>\n",
       "      <td>[{\"iso_3166_1\": \"GB\", \"name\": \"United Kingdom\"...</td>\n",
       "      <td>2014-07-30</td>\n",
       "      <td>773328629</td>\n",
       "      <td>121</td>\n",
       "      <td>[{\"iso_639_1\": \"en\", \"name\": \"English\"}]</td>\n",
       "      <td>Released</td>\n",
       "      <td>All heroes start somewhere.</td>\n",
       "      <td>Guardians of the Galaxy</td>\n",
       "      <td>7.9</td>\n",
       "      <td>9742</td>\n",
       "    </tr>\n",
       "    <tr>\n",
       "      <th>3</th>\n",
       "      <td>145000000</td>\n",
       "      <td>[{\"id\": 28, \"name\": \"Action\"}, {\"id\": 12, \"nam...</td>\n",
       "      <td>http://www.kungfupanda.com/</td>\n",
       "      <td>140300</td>\n",
       "      <td>[{\"id\": 478, \"name\": \"china\"}, {\"id\": 779, \"na...</td>\n",
       "      <td>en</td>\n",
       "      <td>Kung Fu Panda 3</td>\n",
       "      <td>Continuing his \"legendary adventures of awesom...</td>\n",
       "      <td>56.747978</td>\n",
       "      <td>[{\"name\": \"Twentieth Century Fox Film Corporat...</td>\n",
       "      <td>[{\"iso_3166_1\": \"CN\", \"name\": \"China\"}, {\"iso_...</td>\n",
       "      <td>2016-01-23</td>\n",
       "      <td>521170825</td>\n",
       "      <td>95</td>\n",
       "      <td>[{\"iso_639_1\": \"en\", \"name\": \"English\"}]</td>\n",
       "      <td>Released</td>\n",
       "      <td>Grab destiny by the rice dumplings.</td>\n",
       "      <td>Kung Fu Panda 3</td>\n",
       "      <td>6.7</td>\n",
       "      <td>1603</td>\n",
       "    </tr>\n",
       "    <tr>\n",
       "      <th>4</th>\n",
       "      <td>250000000</td>\n",
       "      <td>[{\"id\": 28, \"name\": \"Action\"}, {\"id\": 80, \"nam...</td>\n",
       "      <td>http://www.thedarkknightrises.com/</td>\n",
       "      <td>49026</td>\n",
       "      <td>[{\"id\": 849, \"name\": \"dc comics\"}, {\"id\": 853,...</td>\n",
       "      <td>en</td>\n",
       "      <td>The Dark Knight Rises</td>\n",
       "      <td>Following the death of District Attorney Harve...</td>\n",
       "      <td>112.312950</td>\n",
       "      <td>[{\"name\": \"Legendary Pictures\", \"id\": 923}, {\"...</td>\n",
       "      <td>[{\"iso_3166_1\": \"US\", \"name\": \"United States o...</td>\n",
       "      <td>2012-07-16</td>\n",
       "      <td>1084939099</td>\n",
       "      <td>165</td>\n",
       "      <td>[{\"iso_639_1\": \"en\", \"name\": \"English\"}]</td>\n",
       "      <td>Released</td>\n",
       "      <td>The Legend Ends</td>\n",
       "      <td>The Dark Knight Rises</td>\n",
       "      <td>7.6</td>\n",
       "      <td>9106</td>\n",
       "    </tr>\n",
       "    <tr>\n",
       "      <th>5</th>\n",
       "      <td>260000000</td>\n",
       "      <td>[{\"id\": 28, \"name\": \"Action\"}, {\"id\": 12, \"nam...</td>\n",
       "      <td>http://movies.disney.com/john-carter</td>\n",
       "      <td>49529</td>\n",
       "      <td>[{\"id\": 818, \"name\": \"based on novel\"}, {\"id\":...</td>\n",
       "      <td>en</td>\n",
       "      <td>John Carter</td>\n",
       "      <td>John Carter is a war-weary, former military ca...</td>\n",
       "      <td>43.926995</td>\n",
       "      <td>[{\"name\": \"Walt Disney Pictures\", \"id\": 2}]</td>\n",
       "      <td>[{\"iso_3166_1\": \"US\", \"name\": \"United States o...</td>\n",
       "      <td>2012-03-07</td>\n",
       "      <td>284139100</td>\n",
       "      <td>132</td>\n",
       "      <td>[{\"iso_639_1\": \"en\", \"name\": \"English\"}]</td>\n",
       "      <td>Released</td>\n",
       "      <td>Lost in our world, found in another.</td>\n",
       "      <td>John Carter</td>\n",
       "      <td>6.1</td>\n",
       "      <td>2124</td>\n",
       "    </tr>\n",
       "  </tbody>\n",
       "</table>\n",
       "</div>"
      ],
      "text/plain": [
       "      budget                                             genres  \\\n",
       "0  190000000                     [{\"id\": 28, \"name\": \"Action\"}]   \n",
       "1  200000000  [{\"id\": 16, \"name\": \"Animation\"}, {\"id\": 10751...   \n",
       "2  170000000  [{\"id\": 28, \"name\": \"Action\"}, {\"id\": 878, \"na...   \n",
       "3  145000000  [{\"id\": 28, \"name\": \"Action\"}, {\"id\": 12, \"nam...   \n",
       "4  250000000  [{\"id\": 28, \"name\": \"Action\"}, {\"id\": 80, \"nam...   \n",
       "5  260000000  [{\"id\": 28, \"name\": \"Action\"}, {\"id\": 12, \"nam...   \n",
       "\n",
       "                               homepage      id  \\\n",
       "0              http://www.furious7.com/  168259   \n",
       "1        http://www.disney.go.com/cars/   49013   \n",
       "2           http://marvel.com/guardians  118340   \n",
       "3           http://www.kungfupanda.com/  140300   \n",
       "4    http://www.thedarkknightrises.com/   49026   \n",
       "5  http://movies.disney.com/john-carter   49529   \n",
       "\n",
       "                                            keywords original_language  \\\n",
       "0  [{\"id\": 830, \"name\": \"car race\"}, {\"id\": 3428,...                en   \n",
       "1  [{\"id\": 830, \"name\": \"car race\"}, {\"id\": 9663,...                en   \n",
       "2  [{\"id\": 8828, \"name\": \"marvel comic\"}, {\"id\": ...                en   \n",
       "3  [{\"id\": 478, \"name\": \"china\"}, {\"id\": 779, \"na...                en   \n",
       "4  [{\"id\": 849, \"name\": \"dc comics\"}, {\"id\": 853,...                en   \n",
       "5  [{\"id\": 818, \"name\": \"based on novel\"}, {\"id\":...                en   \n",
       "\n",
       "            original_title                                           overview  \\\n",
       "0                Furious 7  Deckard Shaw seeks revenge against Dominic Tor...   \n",
       "1                   Cars 2  Star race car Lightning McQueen and his pal Ma...   \n",
       "2  Guardians of the Galaxy  Light years from Earth, 26 years after being a...   \n",
       "3          Kung Fu Panda 3  Continuing his \"legendary adventures of awesom...   \n",
       "4    The Dark Knight Rises  Following the death of District Attorney Harve...   \n",
       "5              John Carter  John Carter is a war-weary, former military ca...   \n",
       "\n",
       "   popularity                               production_companies  \\\n",
       "0  102.322217  [{\"name\": \"Universal Pictures\", \"id\": 33}, {\"n...   \n",
       "1   49.986590  [{\"name\": \"Walt Disney Pictures\", \"id\": 2}, {\"...   \n",
       "2  481.098624  [{\"name\": \"Marvel Studios\", \"id\": 420}, {\"name...   \n",
       "3   56.747978  [{\"name\": \"Twentieth Century Fox Film Corporat...   \n",
       "4  112.312950  [{\"name\": \"Legendary Pictures\", \"id\": 923}, {\"...   \n",
       "5   43.926995        [{\"name\": \"Walt Disney Pictures\", \"id\": 2}]   \n",
       "\n",
       "                                production_countries release_date     revenue  \\\n",
       "0  [{\"iso_3166_1\": \"JP\", \"name\": \"Japan\"}, {\"iso_...   2015-04-01  1506249360   \n",
       "1  [{\"iso_3166_1\": \"US\", \"name\": \"United States o...   2011-06-11   559852396   \n",
       "2  [{\"iso_3166_1\": \"GB\", \"name\": \"United Kingdom\"...   2014-07-30   773328629   \n",
       "3  [{\"iso_3166_1\": \"CN\", \"name\": \"China\"}, {\"iso_...   2016-01-23   521170825   \n",
       "4  [{\"iso_3166_1\": \"US\", \"name\": \"United States o...   2012-07-16  1084939099   \n",
       "5  [{\"iso_3166_1\": \"US\", \"name\": \"United States o...   2012-03-07   284139100   \n",
       "\n",
       "   runtime                                   spoken_languages    status  \\\n",
       "0      137           [{\"iso_639_1\": \"en\", \"name\": \"English\"}]  Released   \n",
       "1      106  [{\"iso_639_1\": \"en\", \"name\": \"English\"}, {\"iso...  Released   \n",
       "2      121           [{\"iso_639_1\": \"en\", \"name\": \"English\"}]  Released   \n",
       "3       95           [{\"iso_639_1\": \"en\", \"name\": \"English\"}]  Released   \n",
       "4      165           [{\"iso_639_1\": \"en\", \"name\": \"English\"}]  Released   \n",
       "5      132           [{\"iso_639_1\": \"en\", \"name\": \"English\"}]  Released   \n",
       "\n",
       "                                tagline                    title  \\\n",
       "0                   Vengeance Hits Home                Furious 7   \n",
       "1                              Ka-ciao!                   Cars 2   \n",
       "2           All heroes start somewhere.  Guardians of the Galaxy   \n",
       "3   Grab destiny by the rice dumplings.          Kung Fu Panda 3   \n",
       "4                       The Legend Ends    The Dark Knight Rises   \n",
       "5  Lost in our world, found in another.              John Carter   \n",
       "\n",
       "   vote_average  vote_count  \n",
       "0           7.3        4176  \n",
       "1           5.8        2033  \n",
       "2           7.9        9742  \n",
       "3           6.7        1603  \n",
       "4           7.6        9106  \n",
       "5           6.1        2124  "
      ]
     },
     "execution_count": 9,
     "metadata": {},
     "output_type": "execute_result"
    }
   ],
   "source": [
    "movies"
   ]
  },
  {
   "cell_type": "code",
   "execution_count": 11,
   "metadata": {
    "cell_id": "2085c043c97c46388a3fbad087956366",
    "deepnote_cell_type": "code",
    "execution_context_id": "39b709e7-ae6f-4c3e-ad49-a0bbfbf219ca",
    "execution_millis": 466,
    "execution_start": 1735427880503,
    "source_hash": "4cc175a2"
   },
   "outputs": [],
   "source": [
    "# pip install scikit-learn\n",
    "from sklearn.feature_extraction.text import TfidfVectorizer\n",
    "tfidf = TfidfVectorizer(stop_words=\"english\")\n",
    "movies[\"overview\"] = movies[\"overview\"].fillna(\"\")"
   ]
  },
  {
   "cell_type": "code",
   "execution_count": 13,
   "metadata": {
    "cell_id": "882780e3d6154682a0d2dc66b650a029",
    "deepnote_cell_type": "code",
    "execution_context_id": "39b709e7-ae6f-4c3e-ad49-a0bbfbf219ca",
    "execution_millis": 0,
    "execution_start": 1735427903715,
    "source_hash": "3d237171"
   },
   "outputs": [],
   "source": [
    "tfidf_matrix = tfidf.fit_transform(movies[\"overview\"])"
   ]
  },
  {
   "cell_type": "code",
   "execution_count": 15,
   "metadata": {
    "cell_id": "df0479a382314b7ba43cc8ae70ece440",
    "deepnote_cell_type": "code",
    "execution_context_id": "39b709e7-ae6f-4c3e-ad49-a0bbfbf219ca",
    "execution_millis": 366,
    "execution_start": 1735427940605,
    "source_hash": "914f6c35"
   },
   "outputs": [
    {
     "name": "stderr",
     "output_type": "stream",
     "text": [
      "/shared-libs/python3.9/py/lib/python3.9/site-packages/sklearn/utils/deprecation.py:87: FutureWarning: Function get_feature_names is deprecated; get_feature_names is deprecated in 1.0 and will be removed in 1.2. Please use get_feature_names_out instead.\n",
      "  warnings.warn(msg, category=FutureWarning)\n"
     ]
    },
    {
     "data": {
      "application/vnd.deepnote.dataframe.v3+json": {
       "column_count": 121,
       "columns": [
        {
         "dtype": "float64",
         "name": "26",
         "stats": {
          "histogram": [
           {
            "bin_end": 0.023776057462757454,
            "bin_start": 0,
            "count": 5
           },
           {
            "bin_end": 0.04755211492551491,
            "bin_start": 0.023776057462757454,
            "count": 0
           },
           {
            "bin_end": 0.07132817238827235,
            "bin_start": 0.04755211492551491,
            "count": 0
           },
           {
            "bin_end": 0.09510422985102981,
            "bin_start": 0.07132817238827235,
            "count": 0
           },
           {
            "bin_end": 0.11888028731378728,
            "bin_start": 0.09510422985102981,
            "count": 0
           },
           {
            "bin_end": 0.1426563447765447,
            "bin_start": 0.11888028731378728,
            "count": 0
           },
           {
            "bin_end": 0.16643240223930217,
            "bin_start": 0.1426563447765447,
            "count": 0
           },
           {
            "bin_end": 0.19020845970205963,
            "bin_start": 0.16643240223930217,
            "count": 0
           },
           {
            "bin_end": 0.2139845171648171,
            "bin_start": 0.19020845970205963,
            "count": 0
           },
           {
            "bin_end": 0.23776057462757455,
            "bin_start": 0.2139845171648171,
            "count": 1
           }
          ],
          "max": "0.23776057462757455",
          "min": "0.0",
          "nan_count": 0,
          "unique_count": 2
         }
        },
        {
         "dtype": "float64",
         "name": "abducted",
         "stats": {
          "histogram": [
           {
            "bin_end": 0.023776057462757454,
            "bin_start": 0,
            "count": 5
           },
           {
            "bin_end": 0.04755211492551491,
            "bin_start": 0.023776057462757454,
            "count": 0
           },
           {
            "bin_end": 0.07132817238827235,
            "bin_start": 0.04755211492551491,
            "count": 0
           },
           {
            "bin_end": 0.09510422985102981,
            "bin_start": 0.07132817238827235,
            "count": 0
           },
           {
            "bin_end": 0.11888028731378728,
            "bin_start": 0.09510422985102981,
            "count": 0
           },
           {
            "bin_end": 0.1426563447765447,
            "bin_start": 0.11888028731378728,
            "count": 0
           },
           {
            "bin_end": 0.16643240223930217,
            "bin_start": 0.1426563447765447,
            "count": 0
           },
           {
            "bin_end": 0.19020845970205963,
            "bin_start": 0.16643240223930217,
            "count": 0
           },
           {
            "bin_end": 0.2139845171648171,
            "bin_start": 0.19020845970205963,
            "count": 0
           },
           {
            "bin_end": 0.23776057462757455,
            "bin_start": 0.2139845171648171,
            "count": 1
           }
          ],
          "max": "0.23776057462757455",
          "min": "0.0",
          "nan_count": 0,
          "unique_count": 2
         }
        },
        {
         "dtype": "float64",
         "name": "accuser",
         "stats": {
          "histogram": [
           {
            "bin_end": 0.023776057462757454,
            "bin_start": 0,
            "count": 5
           },
           {
            "bin_end": 0.04755211492551491,
            "bin_start": 0.023776057462757454,
            "count": 0
           },
           {
            "bin_end": 0.07132817238827235,
            "bin_start": 0.04755211492551491,
            "count": 0
           },
           {
            "bin_end": 0.09510422985102981,
            "bin_start": 0.07132817238827235,
            "count": 0
           },
           {
            "bin_end": 0.11888028731378728,
            "bin_start": 0.09510422985102981,
            "count": 0
           },
           {
            "bin_end": 0.1426563447765447,
            "bin_start": 0.11888028731378728,
            "count": 0
           },
           {
            "bin_end": 0.16643240223930217,
            "bin_start": 0.1426563447765447,
            "count": 0
           },
           {
            "bin_end": 0.19020845970205963,
            "bin_start": 0.16643240223930217,
            "count": 0
           },
           {
            "bin_end": 0.2139845171648171,
            "bin_start": 0.19020845970205963,
            "count": 0
           },
           {
            "bin_end": 0.23776057462757455,
            "bin_start": 0.2139845171648171,
            "count": 1
           }
          ],
          "max": "0.23776057462757455",
          "min": "0.0",
          "nan_count": 0,
          "unique_count": 2
         }
        },
        {
         "dtype": "float64",
         "name": "adventure",
         "stats": {
          "histogram": [
           {
            "bin_end": 0.019009749873751085,
            "bin_start": 0,
            "count": 5
           },
           {
            "bin_end": 0.03801949974750217,
            "bin_start": 0.019009749873751085,
            "count": 0
           },
           {
            "bin_end": 0.057029249621253254,
            "bin_start": 0.03801949974750217,
            "count": 0
           },
           {
            "bin_end": 0.07603899949500434,
            "bin_start": 0.057029249621253254,
            "count": 0
           },
           {
            "bin_end": 0.09504874936875543,
            "bin_start": 0.07603899949500434,
            "count": 0
           },
           {
            "bin_end": 0.11405849924250651,
            "bin_start": 0.09504874936875543,
            "count": 0
           },
           {
            "bin_end": 0.1330682491162576,
            "bin_start": 0.11405849924250651,
            "count": 0
           },
           {
            "bin_end": 0.15207799899000868,
            "bin_start": 0.1330682491162576,
            "count": 0
           },
           {
            "bin_end": 0.17108774886375977,
            "bin_start": 0.15207799899000868,
            "count": 0
           },
           {
            "bin_end": 0.19009749873751086,
            "bin_start": 0.17108774886375977,
            "count": 1
           }
          ],
          "max": "0.19009749873751086",
          "min": "0.0",
          "nan_count": 0,
          "unique_count": 2
         }
        },
        {
         "dtype": "float64",
         "name": "adventures",
         "stats": {
          "histogram": [
           {
            "bin_end": 0.027044393700509234,
            "bin_start": 0,
            "count": 5
           },
           {
            "bin_end": 0.05408878740101847,
            "bin_start": 0.027044393700509234,
            "count": 0
           },
           {
            "bin_end": 0.0811331811015277,
            "bin_start": 0.05408878740101847,
            "count": 0
           },
           {
            "bin_end": 0.10817757480203694,
            "bin_start": 0.0811331811015277,
            "count": 0
           },
           {
            "bin_end": 0.13522196850254617,
            "bin_start": 0.10817757480203694,
            "count": 0
           },
           {
            "bin_end": 0.1622663622030554,
            "bin_start": 0.13522196850254617,
            "count": 0
           },
           {
            "bin_end": 0.18931075590356464,
            "bin_start": 0.1622663622030554,
            "count": 0
           },
           {
            "bin_end": 0.21635514960407387,
            "bin_start": 0.18931075590356464,
            "count": 0
           },
           {
            "bin_end": 0.2433995433045831,
            "bin_start": 0.21635514960407387,
            "count": 0
           },
           {
            "bin_end": 0.27044393700509234,
            "bin_start": 0.2433995433045831,
            "count": 1
           }
          ],
          "max": "0.27044393700509234",
          "min": "0.0",
          "nan_count": 0,
          "unique_count": 2
         }
        },
        {
         "dtype": "float64",
         "name": "assumes",
         "stats": {
          "histogram": [
           {
            "bin_end": 0.013565031766112132,
            "bin_start": 0,
            "count": 5
           },
           {
            "bin_end": 0.027130063532224264,
            "bin_start": 0.013565031766112132,
            "count": 0
           },
           {
            "bin_end": 0.0406950952983364,
            "bin_start": 0.027130063532224264,
            "count": 0
           },
           {
            "bin_end": 0.05426012706444853,
            "bin_start": 0.0406950952983364,
            "count": 0
           },
           {
            "bin_end": 0.06782515883056066,
            "bin_start": 0.05426012706444853,
            "count": 0
           },
           {
            "bin_end": 0.0813901905966728,
            "bin_start": 0.06782515883056066,
            "count": 0
           },
           {
            "bin_end": 0.09495522236278492,
            "bin_start": 0.0813901905966728,
            "count": 0
           },
           {
            "bin_end": 0.10852025412889706,
            "bin_start": 0.09495522236278492,
            "count": 0
           },
           {
            "bin_end": 0.1220852858950092,
            "bin_start": 0.10852025412889706,
            "count": 0
           },
           {
            "bin_end": 0.13565031766112132,
            "bin_start": 0.1220852858950092,
            "count": 1
           }
          ],
          "max": "0.13565031766112132",
          "min": "0.0",
          "nan_count": 0,
          "unique_count": 2
         }
        },
        {
         "dtype": "float64",
         "name": "attorney",
         "stats": {
          "histogram": [
           {
            "bin_end": 0.027130063532224264,
            "bin_start": 0,
            "count": 5
           },
           {
            "bin_end": 0.05426012706444853,
            "bin_start": 0.027130063532224264,
            "count": 0
           },
           {
            "bin_end": 0.0813901905966728,
            "bin_start": 0.05426012706444853,
            "count": 0
           },
           {
            "bin_end": 0.10852025412889706,
            "bin_start": 0.0813901905966728,
            "count": 0
           },
           {
            "bin_end": 0.13565031766112132,
            "bin_start": 0.10852025412889706,
            "count": 0
           },
           {
            "bin_end": 0.1627803811933456,
            "bin_start": 0.13565031766112132,
            "count": 0
           },
           {
            "bin_end": 0.18991044472556984,
            "bin_start": 0.1627803811933456,
            "count": 0
           },
           {
            "bin_end": 0.2170405082577941,
            "bin_start": 0.18991044472556984,
            "count": 0
           },
           {
            "bin_end": 0.2441705717900184,
            "bin_start": 0.2170405082577941,
            "count": 0
           },
           {
            "bin_end": 0.27130063532224263,
            "bin_start": 0.2441705717900184,
            "count": 1
           }
          ],
          "max": "0.27130063532224263",
          "min": "0.0",
          "nan_count": 0,
          "unique_count": 2
         }
        },
        {
         "dtype": "float64",
         "name": "awesomeness",
         "stats": {
          "histogram": [
           {
            "bin_end": 0.027044393700509234,
            "bin_start": 0,
            "count": 5
           },
           {
            "bin_end": 0.05408878740101847,
            "bin_start": 0.027044393700509234,
            "count": 0
           },
           {
            "bin_end": 0.0811331811015277,
            "bin_start": 0.05408878740101847,
            "count": 0
           },
           {
            "bin_end": 0.10817757480203694,
            "bin_start": 0.0811331811015277,
            "count": 0
           },
           {
            "bin_end": 0.13522196850254617,
            "bin_start": 0.10817757480203694,
            "count": 0
           },
           {
            "bin_end": 0.1622663622030554,
            "bin_start": 0.13522196850254617,
            "count": 0
           },
           {
            "bin_end": 0.18931075590356464,
            "bin_start": 0.1622663622030554,
            "count": 0
           },
           {
            "bin_end": 0.21635514960407387,
            "bin_start": 0.18931075590356464,
            "count": 0
           },
           {
            "bin_end": 0.2433995433045831,
            "bin_start": 0.21635514960407387,
            "count": 0
           },
           {
            "bin_end": 0.27044393700509234,
            "bin_start": 0.2433995433045831,
            "count": 1
           }
          ],
          "max": "0.27044393700509234",
          "min": "0.0",
          "nan_count": 0,
          "unique_count": 2
         }
        },
        {
         "dtype": "float64",
         "name": "bane",
         "stats": {
          "histogram": [
           {
            "bin_end": 0.013565031766112132,
            "bin_start": 0,
            "count": 5
           },
           {
            "bin_end": 0.027130063532224264,
            "bin_start": 0.013565031766112132,
            "count": 0
           },
           {
            "bin_end": 0.0406950952983364,
            "bin_start": 0.027130063532224264,
            "count": 0
           },
           {
            "bin_end": 0.05426012706444853,
            "bin_start": 0.0406950952983364,
            "count": 0
           },
           {
            "bin_end": 0.06782515883056066,
            "bin_start": 0.05426012706444853,
            "count": 0
           },
           {
            "bin_end": 0.0813901905966728,
            "bin_start": 0.06782515883056066,
            "count": 0
           },
           {
            "bin_end": 0.09495522236278492,
            "bin_start": 0.0813901905966728,
            "count": 0
           },
           {
            "bin_end": 0.10852025412889706,
            "bin_start": 0.09495522236278492,
            "count": 0
           },
           {
            "bin_end": 0.1220852858950092,
            "bin_start": 0.10852025412889706,
            "count": 0
           },
           {
            "bin_end": 0.13565031766112132,
            "bin_start": 0.1220852858950092,
            "count": 1
           }
          ],
          "max": "0.13565031766112132",
          "min": "0.0",
          "nan_count": 0,
          "unique_count": 2
         }
        },
        {
         "dtype": "float64",
         "name": "barsoom",
         "stats": {
          "histogram": [
           {
            "bin_end": 0.035345802290989034,
            "bin_start": 0,
            "count": 5
           },
           {
            "bin_end": 0.07069160458197807,
            "bin_start": 0.035345802290989034,
            "count": 0
           },
           {
            "bin_end": 0.1060374068729671,
            "bin_start": 0.07069160458197807,
            "count": 0
           },
           {
            "bin_end": 0.14138320916395614,
            "bin_start": 0.1060374068729671,
            "count": 0
           },
           {
            "bin_end": 0.17672901145494518,
            "bin_start": 0.14138320916395614,
            "count": 0
           },
           {
            "bin_end": 0.2120748137459342,
            "bin_start": 0.17672901145494518,
            "count": 0
           },
           {
            "bin_end": 0.24742061603692322,
            "bin_start": 0.2120748137459342,
            "count": 0
           },
           {
            "bin_end": 0.2827664183279123,
            "bin_start": 0.24742061603692322,
            "count": 0
           },
           {
            "bin_end": 0.3181122206189013,
            "bin_start": 0.2827664183279123,
            "count": 0
           },
           {
            "bin_end": 0.3534580229098903,
            "bin_start": 0.3181122206189013,
            "count": 1
           }
          ],
          "max": "0.3534580229098903",
          "min": "0.0",
          "nan_count": 0,
          "unique_count": 2
         }
        },
        {
         "dtype": "float64",
         "name": "batman",
         "stats": {
          "histogram": [
           {
            "bin_end": 0.027130063532224264,
            "bin_start": 0,
            "count": 5
           },
           {
            "bin_end": 0.05426012706444853,
            "bin_start": 0.027130063532224264,
            "count": 0
           },
           {
            "bin_end": 0.0813901905966728,
            "bin_start": 0.05426012706444853,
            "count": 0
           },
           {
            "bin_end": 0.10852025412889706,
            "bin_start": 0.0813901905966728,
            "count": 0
           },
           {
            "bin_end": 0.13565031766112132,
            "bin_start": 0.10852025412889706,
            "count": 0
           },
           {
            "bin_end": 0.1627803811933456,
            "bin_start": 0.13565031766112132,
            "count": 0
           },
           {
            "bin_end": 0.18991044472556984,
            "bin_start": 0.1627803811933456,
            "count": 0
           },
           {
            "bin_end": 0.2170405082577941,
            "bin_start": 0.18991044472556984,
            "count": 0
           },
           {
            "bin_end": 0.2441705717900184,
            "bin_start": 0.2170405082577941,
            "count": 0
           },
           {
            "bin_end": 0.27130063532224263,
            "bin_start": 0.2441705717900184,
            "count": 1
           }
          ],
          "max": "0.27130063532224263",
          "min": "0.0",
          "nan_count": 0,
          "unique_count": 2
         }
        },
        {
         "dtype": "float64",
         "name": "branded",
         "stats": {
          "histogram": [
           {
            "bin_end": 0.013565031766112132,
            "bin_start": 0,
            "count": 5
           },
           {
            "bin_end": 0.027130063532224264,
            "bin_start": 0.013565031766112132,
            "count": 0
           },
           {
            "bin_end": 0.0406950952983364,
            "bin_start": 0.027130063532224264,
            "count": 0
           },
           {
            "bin_end": 0.05426012706444853,
            "bin_start": 0.0406950952983364,
            "count": 0
           },
           {
            "bin_end": 0.06782515883056066,
            "bin_start": 0.05426012706444853,
            "count": 0
           },
           {
            "bin_end": 0.0813901905966728,
            "bin_start": 0.06782515883056066,
            "count": 0
           },
           {
            "bin_end": 0.09495522236278492,
            "bin_start": 0.0813901905966728,
            "count": 0
           },
           {
            "bin_end": 0.10852025412889706,
            "bin_start": 0.09495522236278492,
            "count": 0
           },
           {
            "bin_end": 0.1220852858950092,
            "bin_start": 0.10852025412889706,
            "count": 0
           },
           {
            "bin_end": 0.13565031766112132,
            "bin_start": 0.1220852858950092,
            "count": 1
           }
          ],
          "max": "0.13565031766112132",
          "min": "0.0",
          "nan_count": 0,
          "unique_count": 2
         }
        },
        {
         "dtype": "float64",
         "name": "brink",
         "stats": {
          "histogram": [
           {
            "bin_end": 0.017672901145494517,
            "bin_start": 0,
            "count": 5
           },
           {
            "bin_end": 0.035345802290989034,
            "bin_start": 0.017672901145494517,
            "count": 0
           },
           {
            "bin_end": 0.05301870343648355,
            "bin_start": 0.035345802290989034,
            "count": 0
           },
           {
            "bin_end": 0.07069160458197807,
            "bin_start": 0.05301870343648355,
            "count": 0
           },
           {
            "bin_end": 0.08836450572747259,
            "bin_start": 0.07069160458197807,
            "count": 0
           },
           {
            "bin_end": 0.1060374068729671,
            "bin_start": 0.08836450572747259,
            "count": 0
           },
           {
            "bin_end": 0.12371030801846161,
            "bin_start": 0.1060374068729671,
            "count": 0
           },
           {
            "bin_end": 0.14138320916395614,
            "bin_start": 0.12371030801846161,
            "count": 0
           },
           {
            "bin_end": 0.15905611030945066,
            "bin_start": 0.14138320916395614,
            "count": 0
           },
           {
            "bin_end": 0.17672901145494516,
            "bin_start": 0.15905611030945066,
            "count": 1
           }
          ],
          "max": "0.17672901145494516",
          "min": "0.0",
          "nan_count": 0,
          "unique_count": 2
         }
        },
        {
         "dtype": "float64",
         "name": "brother",
         "stats": {
          "histogram": [
           {
            "bin_end": 0.03333333333333333,
            "bin_start": 0,
            "count": 5
           },
           {
            "bin_end": 0.06666666666666667,
            "bin_start": 0.03333333333333333,
            "count": 0
           },
           {
            "bin_end": 0.1,
            "bin_start": 0.06666666666666667,
            "count": 0
           },
           {
            "bin_end": 0.13333333333333333,
            "bin_start": 0.1,
            "count": 0
           },
           {
            "bin_end": 0.16666666666666666,
            "bin_start": 0.13333333333333333,
            "count": 0
           },
           {
            "bin_end": 0.2,
            "bin_start": 0.16666666666666666,
            "count": 0
           },
           {
            "bin_end": 0.23333333333333334,
            "bin_start": 0.2,
            "count": 0
           },
           {
            "bin_end": 0.26666666666666666,
            "bin_start": 0.23333333333333334,
            "count": 0
           },
           {
            "bin_end": 0.3,
            "bin_start": 0.26666666666666666,
            "count": 0
           },
           {
            "bin_end": 0.3333333333333333,
            "bin_start": 0.3,
            "count": 1
           }
          ],
          "max": "0.3333333333333333",
          "min": "0.0",
          "nan_count": 0,
          "unique_count": 2
         }
        },
        {
         "dtype": "float64",
         "name": "captain",
         "stats": {
          "histogram": [
           {
            "bin_end": 0.017672901145494517,
            "bin_start": 0,
            "count": 5
           },
           {
            "bin_end": 0.035345802290989034,
            "bin_start": 0.017672901145494517,
            "count": 0
           },
           {
            "bin_end": 0.05301870343648355,
            "bin_start": 0.035345802290989034,
            "count": 0
           },
           {
            "bin_end": 0.07069160458197807,
            "bin_start": 0.05301870343648355,
            "count": 0
           },
           {
            "bin_end": 0.08836450572747259,
            "bin_start": 0.07069160458197807,
            "count": 0
           },
           {
            "bin_end": 0.1060374068729671,
            "bin_start": 0.08836450572747259,
            "count": 0
           },
           {
            "bin_end": 0.12371030801846161,
            "bin_start": 0.1060374068729671,
            "count": 0
           },
           {
            "bin_end": 0.14138320916395614,
            "bin_start": 0.12371030801846161,
            "count": 0
           },
           {
            "bin_end": 0.15905611030945066,
            "bin_start": 0.14138320916395614,
            "count": 0
           },
           {
            "bin_end": 0.17672901145494516,
            "bin_start": 0.15905611030945066,
            "count": 1
           }
          ],
          "max": "0.17672901145494516",
          "min": "0.0",
          "nan_count": 0,
          "unique_count": 2
         }
        },
        {
         "dtype": "float64",
         "name": "car",
         "stats": {
          "histogram": [
           {
            "bin_end": 0.019009749873751085,
            "bin_start": 0,
            "count": 5
           },
           {
            "bin_end": 0.03801949974750217,
            "bin_start": 0.019009749873751085,
            "count": 0
           },
           {
            "bin_end": 0.057029249621253254,
            "bin_start": 0.03801949974750217,
            "count": 0
           },
           {
            "bin_end": 0.07603899949500434,
            "bin_start": 0.057029249621253254,
            "count": 0
           },
           {
            "bin_end": 0.09504874936875543,
            "bin_start": 0.07603899949500434,
            "count": 0
           },
           {
            "bin_end": 0.11405849924250651,
            "bin_start": 0.09504874936875543,
            "count": 0
           },
           {
            "bin_end": 0.1330682491162576,
            "bin_start": 0.11405849924250651,
            "count": 0
           },
           {
            "bin_end": 0.15207799899000868,
            "bin_start": 0.1330682491162576,
            "count": 0
           },
           {
            "bin_end": 0.17108774886375977,
            "bin_start": 0.15207799899000868,
            "count": 0
           },
           {
            "bin_end": 0.19009749873751086,
            "bin_start": 0.17108774886375977,
            "count": 1
           }
          ],
          "max": "0.19009749873751086",
          "min": "0.0",
          "nan_count": 0,
          "unique_count": 2
         }
        },
        {
         "dtype": "float64",
         "name": "carter",
         "stats": {
          "histogram": [
           {
            "bin_end": 0.035345802290989034,
            "bin_start": 0,
            "count": 5
           },
           {
            "bin_end": 0.07069160458197807,
            "bin_start": 0.035345802290989034,
            "count": 0
           },
           {
            "bin_end": 0.1060374068729671,
            "bin_start": 0.07069160458197807,
            "count": 0
           },
           {
            "bin_end": 0.14138320916395614,
            "bin_start": 0.1060374068729671,
            "count": 0
           },
           {
            "bin_end": 0.17672901145494518,
            "bin_start": 0.14138320916395614,
            "count": 0
           },
           {
            "bin_end": 0.2120748137459342,
            "bin_start": 0.17672901145494518,
            "count": 0
           },
           {
            "bin_end": 0.24742061603692322,
            "bin_start": 0.2120748137459342,
            "count": 0
           },
           {
            "bin_end": 0.2827664183279123,
            "bin_start": 0.24742061603692322,
            "count": 0
           },
           {
            "bin_end": 0.3181122206189013,
            "bin_start": 0.2827664183279123,
            "count": 0
           },
           {
            "bin_end": 0.3534580229098903,
            "bin_start": 0.3181122206189013,
            "count": 1
           }
          ],
          "max": "0.3534580229098903",
          "min": "0.0",
          "nan_count": 0,
          "unique_count": 2
         }
        },
        {
         "dtype": "float64",
         "name": "caught",
         "stats": {
          "histogram": [
           {
            "bin_end": 0.019009749873751085,
            "bin_start": 0,
            "count": 5
           },
           {
            "bin_end": 0.03801949974750217,
            "bin_start": 0.019009749873751085,
            "count": 0
           },
           {
            "bin_end": 0.057029249621253254,
            "bin_start": 0.03801949974750217,
            "count": 0
           },
           {
            "bin_end": 0.07603899949500434,
            "bin_start": 0.057029249621253254,
            "count": 0
           },
           {
            "bin_end": 0.09504874936875543,
            "bin_start": 0.07603899949500434,
            "count": 0
           },
           {
            "bin_end": 0.11405849924250651,
            "bin_start": 0.09504874936875543,
            "count": 0
           },
           {
            "bin_end": 0.1330682491162576,
            "bin_start": 0.11405849924250651,
            "count": 0
           },
           {
            "bin_end": 0.15207799899000868,
            "bin_start": 0.1330682491162576,
            "count": 0
           },
           {
            "bin_end": 0.17108774886375977,
            "bin_start": 0.15207799899000868,
            "count": 0
           },
           {
            "bin_end": 0.19009749873751086,
            "bin_start": 0.17108774886375977,
            "count": 1
           }
          ],
          "max": "0.19009749873751086",
          "min": "0.0",
          "nan_count": 0,
          "unique_count": 2
         }
        },
        {
         "dtype": "float64",
         "name": "championship",
         "stats": {
          "histogram": [
           {
            "bin_end": 0.019009749873751085,
            "bin_start": 0,
            "count": 5
           },
           {
            "bin_end": 0.03801949974750217,
            "bin_start": 0.019009749873751085,
            "count": 0
           },
           {
            "bin_end": 0.057029249621253254,
            "bin_start": 0.03801949974750217,
            "count": 0
           },
           {
            "bin_end": 0.07603899949500434,
            "bin_start": 0.057029249621253254,
            "count": 0
           },
           {
            "bin_end": 0.09504874936875543,
            "bin_start": 0.07603899949500434,
            "count": 0
           },
           {
            "bin_end": 0.11405849924250651,
            "bin_start": 0.09504874936875543,
            "count": 0
           },
           {
            "bin_end": 0.1330682491162576,
            "bin_start": 0.11405849924250651,
            "count": 0
           },
           {
            "bin_end": 0.15207799899000868,
            "bin_start": 0.1330682491162576,
            "count": 0
           },
           {
            "bin_end": 0.17108774886375977,
            "bin_start": 0.15207799899000868,
            "count": 0
           },
           {
            "bin_end": 0.19009749873751086,
            "bin_start": 0.17108774886375977,
            "count": 1
           }
          ],
          "max": "0.19009749873751086",
          "min": "0.0",
          "nan_count": 0,
          "unique_count": 2
         }
        },
        {
         "dtype": "float64",
         "name": "city",
         "stats": {
          "histogram": [
           {
            "bin_end": 0.027130063532224264,
            "bin_start": 0,
            "count": 5
           },
           {
            "bin_end": 0.05426012706444853,
            "bin_start": 0.027130063532224264,
            "count": 0
           },
           {
            "bin_end": 0.0813901905966728,
            "bin_start": 0.05426012706444853,
            "count": 0
           },
           {
            "bin_end": 0.10852025412889706,
            "bin_start": 0.0813901905966728,
            "count": 0
           },
           {
            "bin_end": 0.13565031766112132,
            "bin_start": 0.10852025412889706,
            "count": 0
           },
           {
            "bin_end": 0.1627803811933456,
            "bin_start": 0.13565031766112132,
            "count": 0
           },
           {
            "bin_end": 0.18991044472556984,
            "bin_start": 0.1627803811933456,
            "count": 0
           },
           {
            "bin_end": 0.2170405082577941,
            "bin_start": 0.18991044472556984,
            "count": 0
           },
           {
            "bin_end": 0.2441705717900184,
            "bin_start": 0.2170405082577941,
            "count": 0
           },
           {
            "bin_end": 0.27130063532224263,
            "bin_start": 0.2441705717900184,
            "count": 1
           }
          ],
          "max": "0.27130063532224263",
          "min": "0.0",
          "nan_count": 0,
          "unique_count": 2
         }
        },
        {
         "dtype": "float64",
         "name": "closer",
         "stats": {
          "histogram": [
           {
            "bin_end": 0.027044393700509234,
            "bin_start": 0,
            "count": 5
           },
           {
            "bin_end": 0.05408878740101847,
            "bin_start": 0.027044393700509234,
            "count": 0
           },
           {
            "bin_end": 0.0811331811015277,
            "bin_start": 0.05408878740101847,
            "count": 0
           },
           {
            "bin_end": 0.10817757480203694,
            "bin_start": 0.0811331811015277,
            "count": 0
           },
           {
            "bin_end": 0.13522196850254617,
            "bin_start": 0.10817757480203694,
            "count": 0
           },
           {
            "bin_end": 0.1622663622030554,
            "bin_start": 0.13522196850254617,
            "count": 0
           },
           {
            "bin_end": 0.18931075590356464,
            "bin_start": 0.1622663622030554,
            "count": 0
           },
           {
            "bin_end": 0.21635514960407387,
            "bin_start": 0.18931075590356464,
            "count": 0
           },
           {
            "bin_end": 0.2433995433045831,
            "bin_start": 0.21635514960407387,
            "count": 0
           },
           {
            "bin_end": 0.27044393700509234,
            "bin_start": 0.2433995433045831,
            "count": 1
           }
          ],
          "max": "0.27044393700509234",
          "min": "0.0",
          "nan_count": 0,
          "unique_count": 2
         }
        },
        {
         "dtype": "float64",
         "name": "collapse",
         "stats": {
          "histogram": [
           {
            "bin_end": 0.017672901145494517,
            "bin_start": 0,
            "count": 5
           },
           {
            "bin_end": 0.035345802290989034,
            "bin_start": 0.017672901145494517,
            "count": 0
           },
           {
            "bin_end": 0.05301870343648355,
            "bin_start": 0.035345802290989034,
            "count": 0
           },
           {
            "bin_end": 0.07069160458197807,
            "bin_start": 0.05301870343648355,
            "count": 0
           },
           {
            "bin_end": 0.08836450572747259,
            "bin_start": 0.07069160458197807,
            "count": 0
           },
           {
            "bin_end": 0.1060374068729671,
            "bin_start": 0.08836450572747259,
            "count": 0
           },
           {
            "bin_end": 0.12371030801846161,
            "bin_start": 0.1060374068729671,
            "count": 0
           },
           {
            "bin_end": 0.14138320916395614,
            "bin_start": 0.12371030801846161,
            "count": 0
           },
           {
            "bin_end": 0.15905611030945066,
            "bin_start": 0.14138320916395614,
            "count": 0
           },
           {
            "bin_end": 0.17672901145494516,
            "bin_start": 0.15905611030945066,
            "count": 1
           }
          ],
          "max": "0.17672901145494516",
          "min": "0.0",
          "nan_count": 0,
          "unique_count": 2
         }
        },
        {
         "dtype": "float64",
         "name": "comatose",
         "stats": {
          "histogram": [
           {
            "bin_end": 0.03333333333333333,
            "bin_start": 0,
            "count": 5
           },
           {
            "bin_end": 0.06666666666666667,
            "bin_start": 0.03333333333333333,
            "count": 0
           },
           {
            "bin_end": 0.1,
            "bin_start": 0.06666666666666667,
            "count": 0
           },
           {
            "bin_end": 0.13333333333333333,
            "bin_start": 0.1,
            "count": 0
           },
           {
            "bin_end": 0.16666666666666666,
            "bin_start": 0.13333333333333333,
            "count": 0
           },
           {
            "bin_end": 0.2,
            "bin_start": 0.16666666666666666,
            "count": 0
           },
           {
            "bin_end": 0.23333333333333334,
            "bin_start": 0.2,
            "count": 0
           },
           {
            "bin_end": 0.26666666666666666,
            "bin_start": 0.23333333333333334,
            "count": 0
           },
           {
            "bin_end": 0.3,
            "bin_start": 0.26666666666666666,
            "count": 0
           },
           {
            "bin_end": 0.3333333333333333,
            "bin_start": 0.3,
            "count": 1
           }
          ],
          "max": "0.3333333333333333",
          "min": "0.0",
          "nan_count": 0,
          "unique_count": 2
         }
        },
        {
         "dtype": "float64",
         "name": "compete",
         "stats": {
          "histogram": [
           {
            "bin_end": 0.019009749873751085,
            "bin_start": 0,
            "count": 5
           },
           {
            "bin_end": 0.03801949974750217,
            "bin_start": 0.019009749873751085,
            "count": 0
           },
           {
            "bin_end": 0.057029249621253254,
            "bin_start": 0.03801949974750217,
            "count": 0
           },
           {
            "bin_end": 0.07603899949500434,
            "bin_start": 0.057029249621253254,
            "count": 0
           },
           {
            "bin_end": 0.09504874936875543,
            "bin_start": 0.07603899949500434,
            "count": 0
           },
           {
            "bin_end": 0.11405849924250651,
            "bin_start": 0.09504874936875543,
            "count": 0
           },
           {
            "bin_end": 0.1330682491162576,
            "bin_start": 0.11405849924250651,
            "count": 0
           },
           {
            "bin_end": 0.15207799899000868,
            "bin_start": 0.1330682491162576,
            "count": 0
           },
           {
            "bin_end": 0.17108774886375977,
            "bin_start": 0.15207799899000868,
            "count": 0
           },
           {
            "bin_end": 0.19009749873751086,
            "bin_start": 0.17108774886375977,
            "count": 1
           }
          ],
          "max": "0.19009749873751086",
          "min": "0.0",
          "nan_count": 0,
          "unique_count": 2
         }
        },
        {
         "dtype": "float64",
         "name": "conflict",
         "stats": {
          "histogram": [
           {
            "bin_end": 0.017672901145494517,
            "bin_start": 0,
            "count": 5
           },
           {
            "bin_end": 0.035345802290989034,
            "bin_start": 0.017672901145494517,
            "count": 0
           },
           {
            "bin_end": 0.05301870343648355,
            "bin_start": 0.035345802290989034,
            "count": 0
           },
           {
            "bin_end": 0.07069160458197807,
            "bin_start": 0.05301870343648355,
            "count": 0
           },
           {
            "bin_end": 0.08836450572747259,
            "bin_start": 0.07069160458197807,
            "count": 0
           },
           {
            "bin_end": 0.1060374068729671,
            "bin_start": 0.08836450572747259,
            "count": 0
           },
           {
            "bin_end": 0.12371030801846161,
            "bin_start": 0.1060374068729671,
            "count": 0
           },
           {
            "bin_end": 0.14138320916395614,
            "bin_start": 0.12371030801846161,
            "count": 0
           },
           {
            "bin_end": 0.15905611030945066,
            "bin_start": 0.14138320916395614,
            "count": 0
           },
           {
            "bin_end": 0.17672901145494516,
            "bin_start": 0.15905611030945066,
            "count": 1
           }
          ],
          "max": "0.17672901145494516",
          "min": "0.0",
          "nan_count": 0,
          "unique_count": 2
         }
        },
        {
         "dtype": "float64",
         "name": "continuing",
         "stats": {
          "histogram": [
           {
            "bin_end": 0.027044393700509234,
            "bin_start": 0,
            "count": 5
           },
           {
            "bin_end": 0.05408878740101847,
            "bin_start": 0.027044393700509234,
            "count": 0
           },
           {
            "bin_end": 0.0811331811015277,
            "bin_start": 0.05408878740101847,
            "count": 0
           },
           {
            "bin_end": 0.10817757480203694,
            "bin_start": 0.0811331811015277,
            "count": 0
           },
           {
            "bin_end": 0.13522196850254617,
            "bin_start": 0.10817757480203694,
            "count": 0
           },
           {
            "bin_end": 0.1622663622030554,
            "bin_start": 0.13522196850254617,
            "count": 0
           },
           {
            "bin_end": 0.18931075590356464,
            "bin_start": 0.1622663622030554,
            "count": 0
           },
           {
            "bin_end": 0.21635514960407387,
            "bin_start": 0.18931075590356464,
            "count": 0
           },
           {
            "bin_end": 0.2433995433045831,
            "bin_start": 0.21635514960407387,
            "count": 0
           },
           {
            "bin_end": 0.27044393700509234,
            "bin_start": 0.2433995433045831,
            "count": 1
           }
          ],
          "max": "0.27044393700509234",
          "min": "0.0",
          "nan_count": 0,
          "unique_count": 2
         }
        },
        {
         "dtype": "float64",
         "name": "crimes",
         "stats": {
          "histogram": [
           {
            "bin_end": 0.013565031766112132,
            "bin_start": 0,
            "count": 5
           },
           {
            "bin_end": 0.027130063532224264,
            "bin_start": 0.013565031766112132,
            "count": 0
           },
           {
            "bin_end": 0.0406950952983364,
            "bin_start": 0.027130063532224264,
            "count": 0
           },
           {
            "bin_end": 0.05426012706444853,
            "bin_start": 0.0406950952983364,
            "count": 0
           },
           {
            "bin_end": 0.06782515883056066,
            "bin_start": 0.05426012706444853,
            "count": 0
           },
           {
            "bin_end": 0.0813901905966728,
            "bin_start": 0.06782515883056066,
            "count": 0
           },
           {
            "bin_end": 0.09495522236278492,
            "bin_start": 0.0813901905966728,
            "count": 0
           },
           {
            "bin_end": 0.10852025412889706,
            "bin_start": 0.09495522236278492,
            "count": 0
           },
           {
            "bin_end": 0.1220852858950092,
            "bin_start": 0.10852025412889706,
            "count": 0
           },
           {
            "bin_end": 0.13565031766112132,
            "bin_start": 0.1220852858950092,
            "count": 1
           }
          ],
          "max": "0.13565031766112132",
          "min": "0.0",
          "nan_count": 0,
          "unique_count": 2
         }
        },
        {
         "dtype": "float64",
         "name": "dark",
         "stats": {
          "histogram": [
           {
            "bin_end": 0.013565031766112132,
            "bin_start": 0,
            "count": 5
           },
           {
            "bin_end": 0.027130063532224264,
            "bin_start": 0.013565031766112132,
            "count": 0
           },
           {
            "bin_end": 0.0406950952983364,
            "bin_start": 0.027130063532224264,
            "count": 0
           },
           {
            "bin_end": 0.05426012706444853,
            "bin_start": 0.0406950952983364,
            "count": 0
           },
           {
            "bin_end": 0.06782515883056066,
            "bin_start": 0.05426012706444853,
            "count": 0
           },
           {
            "bin_end": 0.0813901905966728,
            "bin_start": 0.06782515883056066,
            "count": 0
           },
           {
            "bin_end": 0.09495522236278492,
            "bin_start": 0.0813901905966728,
            "count": 0
           },
           {
            "bin_end": 0.10852025412889706,
            "bin_start": 0.09495522236278492,
            "count": 0
           },
           {
            "bin_end": 0.1220852858950092,
            "bin_start": 0.10852025412889706,
            "count": 0
           },
           {
            "bin_end": 0.13565031766112132,
            "bin_start": 0.1220852858950092,
            "count": 1
           }
          ],
          "max": "0.13565031766112132",
          "min": "0.0",
          "nan_count": 0,
          "unique_count": 2
         }
        },
        {
         "dtype": "float64",
         "name": "death",
         "stats": {
          "histogram": [
           {
            "bin_end": 0.013565031766112132,
            "bin_start": 0,
            "count": 5
           },
           {
            "bin_end": 0.027130063532224264,
            "bin_start": 0.013565031766112132,
            "count": 0
           },
           {
            "bin_end": 0.0406950952983364,
            "bin_start": 0.027130063532224264,
            "count": 0
           },
           {
            "bin_end": 0.05426012706444853,
            "bin_start": 0.0406950952983364,
            "count": 0
           },
           {
            "bin_end": 0.06782515883056066,
            "bin_start": 0.05426012706444853,
            "count": 0
           },
           {
            "bin_end": 0.0813901905966728,
            "bin_start": 0.06782515883056066,
            "count": 0
           },
           {
            "bin_end": 0.09495522236278492,
            "bin_start": 0.0813901905966728,
            "count": 0
           },
           {
            "bin_end": 0.10852025412889706,
            "bin_start": 0.09495522236278492,
            "count": 0
           },
           {
            "bin_end": 0.1220852858950092,
            "bin_start": 0.10852025412889706,
            "count": 0
           },
           {
            "bin_end": 0.13565031766112132,
            "bin_start": 0.1220852858950092,
            "count": 1
           }
          ],
          "max": "0.13565031766112132",
          "min": "0.0",
          "nan_count": 0,
          "unique_count": 2
         }
        },
        {
         "dtype": "float64",
         "name": "deckard",
         "stats": {
          "histogram": [
           {
            "bin_end": 0.03333333333333333,
            "bin_start": 0,
            "count": 5
           },
           {
            "bin_end": 0.06666666666666667,
            "bin_start": 0.03333333333333333,
            "count": 0
           },
           {
            "bin_end": 0.1,
            "bin_start": 0.06666666666666667,
            "count": 0
           },
           {
            "bin_end": 0.13333333333333333,
            "bin_start": 0.1,
            "count": 0
           },
           {
            "bin_end": 0.16666666666666666,
            "bin_start": 0.13333333333333333,
            "count": 0
           },
           {
            "bin_end": 0.2,
            "bin_start": 0.16666666666666666,
            "count": 0
           },
           {
            "bin_end": 0.23333333333333334,
            "bin_start": 0.2,
            "count": 0
           },
           {
            "bin_end": 0.26666666666666666,
            "bin_start": 0.23333333333333334,
            "count": 0
           },
           {
            "bin_end": 0.3,
            "bin_start": 0.26666666666666666,
            "count": 0
           },
           {
            "bin_end": 0.3333333333333333,
            "bin_start": 0.3,
            "count": 1
           }
          ],
          "max": "0.3333333333333333",
          "min": "0.0",
          "nan_count": 0,
          "unique_count": 2
         }
        },
        {
         "dtype": "float64",
         "name": "dent",
         "stats": {
          "histogram": [
           {
            "bin_end": 0.027130063532224264,
            "bin_start": 0,
            "count": 5
           },
           {
            "bin_end": 0.05426012706444853,
            "bin_start": 0.027130063532224264,
            "count": 0
           },
           {
            "bin_end": 0.0813901905966728,
            "bin_start": 0.05426012706444853,
            "count": 0
           },
           {
            "bin_end": 0.10852025412889706,
            "bin_start": 0.0813901905966728,
            "count": 0
           },
           {
            "bin_end": 0.13565031766112132,
            "bin_start": 0.10852025412889706,
            "count": 0
           },
           {
            "bin_end": 0.1627803811933456,
            "bin_start": 0.13565031766112132,
            "count": 0
           },
           {
            "bin_end": 0.18991044472556984,
            "bin_start": 0.1627803811933456,
            "count": 0
           },
           {
            "bin_end": 0.2170405082577941,
            "bin_start": 0.18991044472556984,
            "count": 0
           },
           {
            "bin_end": 0.2441705717900184,
            "bin_start": 0.2170405082577941,
            "count": 0
           },
           {
            "bin_end": 0.27130063532224263,
            "bin_start": 0.2441705717900184,
            "count": 1
           }
          ],
          "max": "0.27130063532224263",
          "min": "0.0",
          "nan_count": 0,
          "unique_count": 2
         }
        },
        {
         "dtype": "float64",
         "name": "department",
         "stats": {
          "histogram": [
           {
            "bin_end": 0.013565031766112132,
            "bin_start": 0,
            "count": 5
           },
           {
            "bin_end": 0.027130063532224264,
            "bin_start": 0.013565031766112132,
            "count": 0
           },
           {
            "bin_end": 0.0406950952983364,
            "bin_start": 0.027130063532224264,
            "count": 0
           },
           {
            "bin_end": 0.05426012706444853,
            "bin_start": 0.0406950952983364,
            "count": 0
           },
           {
            "bin_end": 0.06782515883056066,
            "bin_start": 0.05426012706444853,
            "count": 0
           },
           {
            "bin_end": 0.0813901905966728,
            "bin_start": 0.06782515883056066,
            "count": 0
           },
           {
            "bin_end": 0.09495522236278492,
            "bin_start": 0.0813901905966728,
            "count": 0
           },
           {
            "bin_end": 0.10852025412889706,
            "bin_start": 0.09495522236278492,
            "count": 0
           },
           {
            "bin_end": 0.1220852858950092,
            "bin_start": 0.10852025412889706,
            "count": 0
           },
           {
            "bin_end": 0.13565031766112132,
            "bin_start": 0.1220852858950092,
            "count": 1
           }
          ],
          "max": "0.13565031766112132",
          "min": "0.0",
          "nan_count": 0,
          "unique_count": 2
         }
        },
        {
         "dtype": "float64",
         "name": "different",
         "stats": {
          "histogram": [
           {
            "bin_end": 0.027044393700509234,
            "bin_start": 0,
            "count": 5
           },
           {
            "bin_end": 0.05408878740101847,
            "bin_start": 0.027044393700509234,
            "count": 0
           },
           {
            "bin_end": 0.0811331811015277,
            "bin_start": 0.05408878740101847,
            "count": 0
           },
           {
            "bin_end": 0.10817757480203694,
            "bin_start": 0.0811331811015277,
            "count": 0
           },
           {
            "bin_end": 0.13522196850254617,
            "bin_start": 0.10817757480203694,
            "count": 0
           },
           {
            "bin_end": 0.1622663622030554,
            "bin_start": 0.13522196850254617,
            "count": 0
           },
           {
            "bin_end": 0.18931075590356464,
            "bin_start": 0.1622663622030554,
            "count": 0
           },
           {
            "bin_end": 0.21635514960407387,
            "bin_start": 0.18931075590356464,
            "count": 0
           },
           {
            "bin_end": 0.2433995433045831,
            "bin_start": 0.21635514960407387,
            "count": 0
           },
           {
            "bin_end": 0.27044393700509234,
            "bin_start": 0.2433995433045831,
            "count": 1
           }
          ],
          "max": "0.27044393700509234",
          "min": "0.0",
          "nan_count": 0,
          "unique_count": 2
         }
        },
        {
         "dtype": "float64",
         "name": "discovering",
         "stats": {
          "histogram": [
           {
            "bin_end": 0.023776057462757454,
            "bin_start": 0,
            "count": 5
           },
           {
            "bin_end": 0.04755211492551491,
            "bin_start": 0.023776057462757454,
            "count": 0
           },
           {
            "bin_end": 0.07132817238827235,
            "bin_start": 0.04755211492551491,
            "count": 0
           },
           {
            "bin_end": 0.09510422985102981,
            "bin_start": 0.07132817238827235,
            "count": 0
           },
           {
            "bin_end": 0.11888028731378728,
            "bin_start": 0.09510422985102981,
            "count": 0
           },
           {
            "bin_end": 0.1426563447765447,
            "bin_start": 0.11888028731378728,
            "count": 0
           },
           {
            "bin_end": 0.16643240223930217,
            "bin_start": 0.1426563447765447,
            "count": 0
           },
           {
            "bin_end": 0.19020845970205963,
            "bin_start": 0.16643240223930217,
            "count": 0
           },
           {
            "bin_end": 0.2139845171648171,
            "bin_start": 0.19020845970205963,
            "count": 0
           },
           {
            "bin_end": 0.23776057462757455,
            "bin_start": 0.2139845171648171,
            "count": 1
           }
          ],
          "max": "0.23776057462757455",
          "min": "0.0",
          "nan_count": 0,
          "unique_count": 2
         }
        },
        {
         "dtype": "float64",
         "name": "district",
         "stats": {
          "histogram": [
           {
            "bin_end": 0.013565031766112132,
            "bin_start": 0,
            "count": 5
           },
           {
            "bin_end": 0.027130063532224264,
            "bin_start": 0.013565031766112132,
            "count": 0
           },
           {
            "bin_end": 0.0406950952983364,
            "bin_start": 0.027130063532224264,
            "count": 0
           },
           {
            "bin_end": 0.05426012706444853,
            "bin_start": 0.0406950952983364,
            "count": 0
           },
           {
            "bin_end": 0.06782515883056066,
            "bin_start": 0.05426012706444853,
            "count": 0
           },
           {
            "bin_end": 0.0813901905966728,
            "bin_start": 0.06782515883056066,
            "count": 0
           },
           {
            "bin_end": 0.09495522236278492,
            "bin_start": 0.0813901905966728,
            "count": 0
           },
           {
            "bin_end": 0.10852025412889706,
            "bin_start": 0.09495522236278492,
            "count": 0
           },
           {
            "bin_end": 0.1220852858950092,
            "bin_start": 0.10852025412889706,
            "count": 0
           },
           {
            "bin_end": 0.13565031766112132,
            "bin_start": 0.1220852858950092,
            "count": 1
           }
          ],
          "max": "0.13565031766112132",
          "min": "0.0",
          "nan_count": 0,
          "unique_count": 2
         }
        },
        {
         "dtype": "float64",
         "name": "dominic",
         "stats": {
          "histogram": [
           {
            "bin_end": 0.03333333333333333,
            "bin_start": 0,
            "count": 5
           },
           {
            "bin_end": 0.06666666666666667,
            "bin_start": 0.03333333333333333,
            "count": 0
           },
           {
            "bin_end": 0.1,
            "bin_start": 0.06666666666666667,
            "count": 0
           },
           {
            "bin_end": 0.13333333333333333,
            "bin_start": 0.1,
            "count": 0
           },
           {
            "bin_end": 0.16666666666666666,
            "bin_start": 0.13333333333333333,
            "count": 0
           },
           {
            "bin_end": 0.2,
            "bin_start": 0.16666666666666666,
            "count": 0
           },
           {
            "bin_end": 0.23333333333333334,
            "bin_start": 0.2,
            "count": 0
           },
           {
            "bin_end": 0.26666666666666666,
            "bin_start": 0.23333333333333334,
            "count": 0
           },
           {
            "bin_end": 0.3,
            "bin_start": 0.26666666666666666,
            "count": 0
           },
           {
            "bin_end": 0.3333333333333333,
            "bin_start": 0.3,
            "count": 1
           }
          ],
          "max": "0.3333333333333333",
          "min": "0.0",
          "nan_count": 0,
          "unique_count": 2
         }
        },
        {
         "dtype": "float64",
         "name": "earth",
         "stats": {
          "histogram": [
           {
            "bin_end": 0.023776057462757454,
            "bin_start": 0,
            "count": 5
           },
           {
            "bin_end": 0.04755211492551491,
            "bin_start": 0.023776057462757454,
            "count": 0
           },
           {
            "bin_end": 0.07132817238827235,
            "bin_start": 0.04755211492551491,
            "count": 0
           },
           {
            "bin_end": 0.09510422985102981,
            "bin_start": 0.07132817238827235,
            "count": 0
           },
           {
            "bin_end": 0.11888028731378728,
            "bin_start": 0.09510422985102981,
            "count": 0
           },
           {
            "bin_end": 0.1426563447765447,
            "bin_start": 0.11888028731378728,
            "count": 0
           },
           {
            "bin_end": 0.16643240223930217,
            "bin_start": 0.1426563447765447,
            "count": 0
           },
           {
            "bin_end": 0.19020845970205963,
            "bin_start": 0.16643240223930217,
            "count": 0
           },
           {
            "bin_end": 0.2139845171648171,
            "bin_start": 0.19020845970205963,
            "count": 0
           },
           {
            "bin_end": 0.23776057462757455,
            "bin_start": 0.2139845171648171,
            "count": 1
           }
          ],
          "max": "0.23776057462757455",
          "min": "0.0",
          "nan_count": 0,
          "unique_count": 2
         }
        },
        {
         "dtype": "float64",
         "name": "embroiled",
         "stats": {
          "histogram": [
           {
            "bin_end": 0.017672901145494517,
            "bin_start": 0,
            "count": 5
           },
           {
            "bin_end": 0.035345802290989034,
            "bin_start": 0.017672901145494517,
            "count": 0
           },
           {
            "bin_end": 0.05301870343648355,
            "bin_start": 0.035345802290989034,
            "count": 0
           },
           {
            "bin_end": 0.07069160458197807,
            "bin_start": 0.05301870343648355,
            "count": 0
           },
           {
            "bin_end": 0.08836450572747259,
            "bin_start": 0.07069160458197807,
            "count": 0
           },
           {
            "bin_end": 0.1060374068729671,
            "bin_start": 0.08836450572747259,
            "count": 0
           },
           {
            "bin_end": 0.12371030801846161,
            "bin_start": 0.1060374068729671,
            "count": 0
           },
           {
            "bin_end": 0.14138320916395614,
            "bin_start": 0.12371030801846161,
            "count": 0
           },
           {
            "bin_end": 0.15905611030945066,
            "bin_start": 0.14138320916395614,
            "count": 0
           },
           {
            "bin_end": 0.17672901145494516,
            "bin_start": 0.15905611030945066,
            "count": 1
           }
          ],
          "max": "0.17672901145494516",
          "min": "0.0",
          "nan_count": 0,
          "unique_count": 2
         }
        },
        {
         "dtype": "float64",
         "name": "encounters",
         "stats": {
          "histogram": [
           {
            "bin_end": 0.013565031766112132,
            "bin_start": 0,
            "count": 5
           },
           {
            "bin_end": 0.027130063532224264,
            "bin_start": 0.013565031766112132,
            "count": 0
           },
           {
            "bin_end": 0.0406950952983364,
            "bin_start": 0.027130063532224264,
            "count": 0
           },
           {
            "bin_end": 0.05426012706444853,
            "bin_start": 0.0406950952983364,
            "count": 0
           },
           {
            "bin_end": 0.06782515883056066,
            "bin_start": 0.05426012706444853,
            "count": 0
           },
           {
            "bin_end": 0.0813901905966728,
            "bin_start": 0.06782515883056066,
            "count": 0
           },
           {
            "bin_end": 0.09495522236278492,
            "bin_start": 0.0813901905966728,
            "count": 0
           },
           {
            "bin_end": 0.10852025412889706,
            "bin_start": 0.09495522236278492,
            "count": 0
           },
           {
            "bin_end": 0.1220852858950092,
            "bin_start": 0.10852025412889706,
            "count": 0
           },
           {
            "bin_end": 0.13565031766112132,
            "bin_start": 0.1220852858950092,
            "count": 1
           }
          ],
          "max": "0.13565031766112132",
          "min": "0.0",
          "nan_count": 0,
          "unique_count": 2
         }
        },
        {
         "dtype": "float64",
         "name": "enemy",
         "stats": {
          "histogram": [
           {
            "bin_end": 0.013565031766112132,
            "bin_start": 0,
            "count": 5
           },
           {
            "bin_end": 0.027130063532224264,
            "bin_start": 0.013565031766112132,
            "count": 0
           },
           {
            "bin_end": 0.0406950952983364,
            "bin_start": 0.027130063532224264,
            "count": 0
           },
           {
            "bin_end": 0.05426012706444853,
            "bin_start": 0.0406950952983364,
            "count": 0
           },
           {
            "bin_end": 0.06782515883056066,
            "bin_start": 0.05426012706444853,
            "count": 0
           },
           {
            "bin_end": 0.0813901905966728,
            "bin_start": 0.06782515883056066,
            "count": 0
           },
           {
            "bin_end": 0.09495522236278492,
            "bin_start": 0.0813901905966728,
            "count": 0
           },
           {
            "bin_end": 0.10852025412889706,
            "bin_start": 0.09495522236278492,
            "count": 0
           },
           {
            "bin_end": 0.1220852858950092,
            "bin_start": 0.10852025412889706,
            "count": 0
           },
           {
            "bin_end": 0.13565031766112132,
            "bin_start": 0.1220852858950092,
            "count": 1
           }
          ],
          "max": "0.13565031766112132",
          "min": "0.0",
          "nan_count": 0,
          "unique_count": 2
         }
        },
        {
         "dtype": "float64",
         "name": "epic",
         "stats": {
          "histogram": [
           {
            "bin_end": 0.022176789709832535,
            "bin_start": 0,
            "count": 4
           },
           {
            "bin_end": 0.04435357941966507,
            "bin_start": 0.022176789709832535,
            "count": 0
           },
           {
            "bin_end": 0.06653036912949761,
            "bin_start": 0.04435357941966507,
            "count": 0
           },
           {
            "bin_end": 0.08870715883933014,
            "bin_start": 0.06653036912949761,
            "count": 0
           },
           {
            "bin_end": 0.11088394854916267,
            "bin_start": 0.08870715883933014,
            "count": 0
           },
           {
            "bin_end": 0.13306073825899523,
            "bin_start": 0.11088394854916267,
            "count": 0
           },
           {
            "bin_end": 0.15523752796882775,
            "bin_start": 0.13306073825899523,
            "count": 1
           },
           {
            "bin_end": 0.17741431767866028,
            "bin_start": 0.15523752796882775,
            "count": 0
           },
           {
            "bin_end": 0.1995911073884928,
            "bin_start": 0.17741431767866028,
            "count": 0
           },
           {
            "bin_end": 0.22176789709832534,
            "bin_start": 0.1995911073884928,
            "count": 1
           }
          ],
          "max": "0.22176789709832534",
          "min": "0.0",
          "nan_count": 0,
          "unique_count": 3
         }
        },
        {
         "dtype": "float64",
         "name": "espionage",
         "stats": {
          "histogram": [
           {
            "bin_end": 0.019009749873751085,
            "bin_start": 0,
            "count": 5
           },
           {
            "bin_end": 0.03801949974750217,
            "bin_start": 0.019009749873751085,
            "count": 0
           },
           {
            "bin_end": 0.057029249621253254,
            "bin_start": 0.03801949974750217,
            "count": 0
           },
           {
            "bin_end": 0.07603899949500434,
            "bin_start": 0.057029249621253254,
            "count": 0
           },
           {
            "bin_end": 0.09504874936875543,
            "bin_start": 0.07603899949500434,
            "count": 0
           },
           {
            "bin_end": 0.11405849924250651,
            "bin_start": 0.09504874936875543,
            "count": 0
           },
           {
            "bin_end": 0.1330682491162576,
            "bin_start": 0.11405849924250651,
            "count": 0
           },
           {
            "bin_end": 0.15207799899000868,
            "bin_start": 0.1330682491162576,
            "count": 0
           },
           {
            "bin_end": 0.17108774886375977,
            "bin_start": 0.15207799899000868,
            "count": 0
           },
           {
            "bin_end": 0.19009749873751086,
            "bin_start": 0.17108774886375977,
            "count": 1
           }
          ],
          "max": "0.19009749873751086",
          "min": "0.0",
          "nan_count": 0,
          "unique_count": 2
         }
        },
        {
         "dtype": "float64",
         "name": "exotic",
         "stats": {
          "histogram": [
           {
            "bin_end": 0.017672901145494517,
            "bin_start": 0,
            "count": 5
           },
           {
            "bin_end": 0.035345802290989034,
            "bin_start": 0.017672901145494517,
            "count": 0
           },
           {
            "bin_end": 0.05301870343648355,
            "bin_start": 0.035345802290989034,
            "count": 0
           },
           {
            "bin_end": 0.07069160458197807,
            "bin_start": 0.05301870343648355,
            "count": 0
           },
           {
            "bin_end": 0.08836450572747259,
            "bin_start": 0.07069160458197807,
            "count": 0
           },
           {
            "bin_end": 0.1060374068729671,
            "bin_start": 0.08836450572747259,
            "count": 0
           },
           {
            "bin_end": 0.12371030801846161,
            "bin_start": 0.1060374068729671,
            "count": 0
           },
           {
            "bin_end": 0.14138320916395614,
            "bin_start": 0.12371030801846161,
            "count": 0
           },
           {
            "bin_end": 0.15905611030945066,
            "bin_start": 0.14138320916395614,
            "count": 0
           },
           {
            "bin_end": 0.17672901145494516,
            "bin_start": 0.15905611030945066,
            "count": 1
           }
          ],
          "max": "0.17672901145494516",
          "min": "0.0",
          "nan_count": 0,
          "unique_count": 2
         }
        },
        {
         "dtype": "float64",
         "name": "face",
         "stats": {
          "histogram": [
           {
            "bin_end": 0.027044393700509234,
            "bin_start": 0,
            "count": 5
           },
           {
            "bin_end": 0.05408878740101847,
            "bin_start": 0.027044393700509234,
            "count": 0
           },
           {
            "bin_end": 0.0811331811015277,
            "bin_start": 0.05408878740101847,
            "count": 0
           },
           {
            "bin_end": 0.10817757480203694,
            "bin_start": 0.0811331811015277,
            "count": 0
           },
           {
            "bin_end": 0.13522196850254617,
            "bin_start": 0.10817757480203694,
            "count": 0
           },
           {
            "bin_end": 0.1622663622030554,
            "bin_start": 0.13522196850254617,
            "count": 0
           },
           {
            "bin_end": 0.18931075590356464,
            "bin_start": 0.1622663622030554,
            "count": 0
           },
           {
            "bin_end": 0.21635514960407387,
            "bin_start": 0.18931075590356464,
            "count": 0
           },
           {
            "bin_end": 0.2433995433045831,
            "bin_start": 0.21635514960407387,
            "count": 0
           },
           {
            "bin_end": 0.27044393700509234,
            "bin_start": 0.2433995433045831,
            "count": 1
           }
          ],
          "max": "0.27044393700509234",
          "min": "0.0",
          "nan_count": 0,
          "unique_count": 2
         }
        },
        {
         "dtype": "float64",
         "name": "family",
         "stats": {
          "histogram": [
           {
            "bin_end": 0.03333333333333333,
            "bin_start": 0,
            "count": 5
           },
           {
            "bin_end": 0.06666666666666667,
            "bin_start": 0.03333333333333333,
            "count": 0
           },
           {
            "bin_end": 0.1,
            "bin_start": 0.06666666666666667,
            "count": 0
           },
           {
            "bin_end": 0.13333333333333333,
            "bin_start": 0.1,
            "count": 0
           },
           {
            "bin_end": 0.16666666666666666,
            "bin_start": 0.13333333333333333,
            "count": 0
           },
           {
            "bin_end": 0.2,
            "bin_start": 0.16666666666666666,
            "count": 0
           },
           {
            "bin_end": 0.23333333333333334,
            "bin_start": 0.2,
            "count": 0
           },
           {
            "bin_end": 0.26666666666666666,
            "bin_start": 0.23333333333333334,
            "count": 0
           },
           {
            "bin_end": 0.3,
            "bin_start": 0.26666666666666666,
            "count": 0
           },
           {
            "bin_end": 0.3333333333333333,
            "bin_start": 0.3,
            "count": 1
           }
          ],
          "max": "0.3333333333333333",
          "min": "0.0",
          "nan_count": 0,
          "unique_count": 2
         }
        },
        {
         "dtype": "float64",
         "name": "finds",
         "stats": {
          "histogram": [
           {
            "bin_end": 0.023776057462757454,
            "bin_start": 0,
            "count": 5
           },
           {
            "bin_end": 0.04755211492551491,
            "bin_start": 0.023776057462757454,
            "count": 0
           },
           {
            "bin_end": 0.07132817238827235,
            "bin_start": 0.04755211492551491,
            "count": 0
           },
           {
            "bin_end": 0.09510422985102981,
            "bin_start": 0.07132817238827235,
            "count": 0
           },
           {
            "bin_end": 0.11888028731378728,
            "bin_start": 0.09510422985102981,
            "count": 0
           },
           {
            "bin_end": 0.1426563447765447,
            "bin_start": 0.11888028731378728,
            "count": 0
           },
           {
            "bin_end": 0.16643240223930217,
            "bin_start": 0.1426563447765447,
            "count": 0
           },
           {
            "bin_end": 0.19020845970205963,
            "bin_start": 0.16643240223930217,
            "count": 0
           },
           {
            "bin_end": 0.2139845171648171,
            "bin_start": 0.19020845970205963,
            "count": 0
           },
           {
            "bin_end": 0.23776057462757455,
            "bin_start": 0.2139845171648171,
            "count": 1
           }
          ],
          "max": "0.23776057462757455",
          "min": "0.0",
          "nan_count": 0,
          "unique_count": 2
         }
        },
        {
         "dtype": "float64",
         "name": "finest",
         "stats": {
          "histogram": [
           {
            "bin_end": 0.013565031766112132,
            "bin_start": 0,
            "count": 5
           },
           {
            "bin_end": 0.027130063532224264,
            "bin_start": 0.013565031766112132,
            "count": 0
           },
           {
            "bin_end": 0.0406950952983364,
            "bin_start": 0.027130063532224264,
            "count": 0
           },
           {
            "bin_end": 0.05426012706444853,
            "bin_start": 0.0406950952983364,
            "count": 0
           },
           {
            "bin_end": 0.06782515883056066,
            "bin_start": 0.05426012706444853,
            "count": 0
           },
           {
            "bin_end": 0.0813901905966728,
            "bin_start": 0.06782515883056066,
            "count": 0
           },
           {
            "bin_end": 0.09495522236278492,
            "bin_start": 0.0813901905966728,
            "count": 0
           },
           {
            "bin_end": 0.10852025412889706,
            "bin_start": 0.09495522236278492,
            "count": 0
           },
           {
            "bin_end": 0.1220852858950092,
            "bin_start": 0.10852025412889706,
            "count": 0
           },
           {
            "bin_end": 0.13565031766112132,
            "bin_start": 0.1220852858950092,
            "count": 1
           }
          ],
          "max": "0.13565031766112132",
          "min": "0.0",
          "nan_count": 0,
          "unique_count": 2
         }
        },
        {
         "dtype": "float64",
         "name": "following",
         "stats": {
          "histogram": [
           {
            "bin_end": 0.013565031766112132,
            "bin_start": 0,
            "count": 5
           },
           {
            "bin_end": 0.027130063532224264,
            "bin_start": 0.013565031766112132,
            "count": 0
           },
           {
            "bin_end": 0.0406950952983364,
            "bin_start": 0.027130063532224264,
            "count": 0
           },
           {
            "bin_end": 0.05426012706444853,
            "bin_start": 0.0406950952983364,
            "count": 0
           },
           {
            "bin_end": 0.06782515883056066,
            "bin_start": 0.05426012706444853,
            "count": 0
           },
           {
            "bin_end": 0.0813901905966728,
            "bin_start": 0.06782515883056066,
            "count": 0
           },
           {
            "bin_end": 0.09495522236278492,
            "bin_start": 0.0813901905966728,
            "count": 0
           },
           {
            "bin_end": 0.10852025412889706,
            "bin_start": 0.09495522236278492,
            "count": 0
           },
           {
            "bin_end": 0.1220852858950092,
            "bin_start": 0.10852025412889706,
            "count": 0
           },
           {
            "bin_end": 0.13565031766112132,
            "bin_start": 0.1220852858950092,
            "count": 1
           }
          ],
          "max": "0.13565031766112132",
          "min": "0.0",
          "nan_count": 0,
          "unique_count": 2
         }
        },
        {
         "dtype": "float64",
         "name": "gets",
         "stats": {
          "histogram": [
           {
            "bin_end": 0.019009749873751085,
            "bin_start": 0,
            "count": 5
           },
           {
            "bin_end": 0.03801949974750217,
            "bin_start": 0.019009749873751085,
            "count": 0
           },
           {
            "bin_end": 0.057029249621253254,
            "bin_start": 0.03801949974750217,
            "count": 0
           },
           {
            "bin_end": 0.07603899949500434,
            "bin_start": 0.057029249621253254,
            "count": 0
           },
           {
            "bin_end": 0.09504874936875543,
            "bin_start": 0.07603899949500434,
            "count": 0
           },
           {
            "bin_end": 0.11405849924250651,
            "bin_start": 0.09504874936875543,
            "count": 0
           },
           {
            "bin_end": 0.1330682491162576,
            "bin_start": 0.11405849924250651,
            "count": 0
           },
           {
            "bin_end": 0.15207799899000868,
            "bin_start": 0.1330682491162576,
            "count": 0
           },
           {
            "bin_end": 0.17108774886375977,
            "bin_start": 0.15207799899000868,
            "count": 0
           },
           {
            "bin_end": 0.19009749873751086,
            "bin_start": 0.17108774886375977,
            "count": 1
           }
          ],
          "max": "0.19009749873751086",
          "min": "0.0",
          "nan_count": 0,
          "unique_count": 2
         }
        },
        {
         "dtype": "float64",
         "name": "gotham",
         "stats": {
          "histogram": [
           {
            "bin_end": 0.027130063532224264,
            "bin_start": 0,
            "count": 5
           },
           {
            "bin_end": 0.05426012706444853,
            "bin_start": 0.027130063532224264,
            "count": 0
           },
           {
            "bin_end": 0.0813901905966728,
            "bin_start": 0.05426012706444853,
            "count": 0
           },
           {
            "bin_end": 0.10852025412889706,
            "bin_start": 0.0813901905966728,
            "count": 0
           },
           {
            "bin_end": 0.13565031766112132,
            "bin_start": 0.10852025412889706,
            "count": 0
           },
           {
            "bin_end": 0.1627803811933456,
            "bin_start": 0.13565031766112132,
            "count": 0
           },
           {
            "bin_end": 0.18991044472556984,
            "bin_start": 0.1627803811933456,
            "count": 0
           },
           {
            "bin_end": 0.2170405082577941,
            "bin_start": 0.18991044472556984,
            "count": 0
           },
           {
            "bin_end": 0.2441705717900184,
            "bin_start": 0.2170405082577941,
            "count": 0
           },
           {
            "bin_end": 0.27130063532224263,
            "bin_start": 0.2441705717900184,
            "count": 1
           }
          ],
          "max": "0.27130063532224263",
          "min": "0.0",
          "nan_count": 0,
          "unique_count": 2
         }
        },
        {
         "dtype": "float64",
         "name": "grand",
         "stats": {
          "histogram": [
           {
            "bin_end": 0.019009749873751085,
            "bin_start": 0,
            "count": 5
           },
           {
            "bin_end": 0.03801949974750217,
            "bin_start": 0.019009749873751085,
            "count": 0
           },
           {
            "bin_end": 0.057029249621253254,
            "bin_start": 0.03801949974750217,
            "count": 0
           },
           {
            "bin_end": 0.07603899949500434,
            "bin_start": 0.057029249621253254,
            "count": 0
           },
           {
            "bin_end": 0.09504874936875543,
            "bin_start": 0.07603899949500434,
            "count": 0
           },
           {
            "bin_end": 0.11405849924250651,
            "bin_start": 0.09504874936875543,
            "count": 0
           },
           {
            "bin_end": 0.1330682491162576,
            "bin_start": 0.11405849924250651,
            "count": 0
           },
           {
            "bin_end": 0.15207799899000868,
            "bin_start": 0.1330682491162576,
            "count": 0
           },
           {
            "bin_end": 0.17108774886375977,
            "bin_start": 0.15207799899000868,
            "count": 0
           },
           {
            "bin_end": 0.19009749873751086,
            "bin_start": 0.17108774886375977,
            "count": 1
           }
          ],
          "max": "0.19009749873751086",
          "min": "0.0",
          "nan_count": 0,
          "unique_count": 2
         }
        },
        {
         "dtype": "float64",
         "name": "hands",
         "stats": {
          "histogram": [
           {
            "bin_end": 0.017672901145494517,
            "bin_start": 0,
            "count": 5
           },
           {
            "bin_end": 0.035345802290989034,
            "bin_start": 0.017672901145494517,
            "count": 0
           },
           {
            "bin_end": 0.05301870343648355,
            "bin_start": 0.035345802290989034,
            "count": 0
           },
           {
            "bin_end": 0.07069160458197807,
            "bin_start": 0.05301870343648355,
            "count": 0
           },
           {
            "bin_end": 0.08836450572747259,
            "bin_start": 0.07069160458197807,
            "count": 0
           },
           {
            "bin_end": 0.1060374068729671,
            "bin_start": 0.08836450572747259,
            "count": 0
           },
           {
            "bin_end": 0.12371030801846161,
            "bin_start": 0.1060374068729671,
            "count": 0
           },
           {
            "bin_end": 0.14138320916395614,
            "bin_start": 0.12371030801846161,
            "count": 0
           },
           {
            "bin_end": 0.15905611030945066,
            "bin_start": 0.14138320916395614,
            "count": 0
           },
           {
            "bin_end": 0.17672901145494516,
            "bin_start": 0.15905611030945066,
            "count": 1
           }
          ],
          "max": "0.17672901145494516",
          "min": "0.0",
          "nan_count": 0,
          "unique_count": 2
         }
        },
        {
         "dtype": "float64",
         "name": "harvey",
         "stats": {
          "histogram": [
           {
            "bin_end": 0.013565031766112132,
            "bin_start": 0,
            "count": 5
           },
           {
            "bin_end": 0.027130063532224264,
            "bin_start": 0.013565031766112132,
            "count": 0
           },
           {
            "bin_end": 0.0406950952983364,
            "bin_start": 0.027130063532224264,
            "count": 0
           },
           {
            "bin_end": 0.05426012706444853,
            "bin_start": 0.0406950952983364,
            "count": 0
           },
           {
            "bin_end": 0.06782515883056066,
            "bin_start": 0.05426012706444853,
            "count": 0
           },
           {
            "bin_end": 0.0813901905966728,
            "bin_start": 0.06782515883056066,
            "count": 0
           },
           {
            "bin_end": 0.09495522236278492,
            "bin_start": 0.0813901905966728,
            "count": 0
           },
           {
            "bin_end": 0.10852025412889706,
            "bin_start": 0.09495522236278492,
            "count": 0
           },
           {
            "bin_end": 0.1220852858950092,
            "bin_start": 0.10852025412889706,
            "count": 0
           },
           {
            "bin_end": 0.13565031766112132,
            "bin_start": 0.1220852858950092,
            "count": 1
           }
          ],
          "max": "0.13565031766112132",
          "min": "0.0",
          "nan_count": 0,
          "unique_count": 2
         }
        },
        {
         "dtype": "float64",
         "name": "head",
         "stats": {
          "histogram": [
           {
            "bin_end": 0.019009749873751085,
            "bin_start": 0,
            "count": 5
           },
           {
            "bin_end": 0.03801949974750217,
            "bin_start": 0.019009749873751085,
            "count": 0
           },
           {
            "bin_end": 0.057029249621253254,
            "bin_start": 0.03801949974750217,
            "count": 0
           },
           {
            "bin_end": 0.07603899949500434,
            "bin_start": 0.057029249621253254,
            "count": 0
           },
           {
            "bin_end": 0.09504874936875543,
            "bin_start": 0.07603899949500434,
            "count": 0
           },
           {
            "bin_end": 0.11405849924250651,
            "bin_start": 0.09504874936875543,
            "count": 0
           },
           {
            "bin_end": 0.1330682491162576,
            "bin_start": 0.11405849924250651,
            "count": 0
           },
           {
            "bin_end": 0.15207799899000868,
            "bin_start": 0.1330682491162576,
            "count": 0
           },
           {
            "bin_end": 0.17108774886375977,
            "bin_start": 0.15207799899000868,
            "count": 0
           },
           {
            "bin_end": 0.19009749873751086,
            "bin_start": 0.17108774886375977,
            "count": 1
           }
          ],
          "max": "0.19009749873751086",
          "min": "0.0",
          "nan_count": 0,
          "unique_count": 2
         }
        },
        {
         "dtype": "float64",
         "name": "home",
         "stats": {
          "histogram": [
           {
            "bin_end": 0.027044393700509234,
            "bin_start": 0,
            "count": 5
           },
           {
            "bin_end": 0.05408878740101847,
            "bin_start": 0.027044393700509234,
            "count": 0
           },
           {
            "bin_end": 0.0811331811015277,
            "bin_start": 0.05408878740101847,
            "count": 0
           },
           {
            "bin_end": 0.10817757480203694,
            "bin_start": 0.0811331811015277,
            "count": 0
           },
           {
            "bin_end": 0.13522196850254617,
            "bin_start": 0.10817757480203694,
            "count": 0
           },
           {
            "bin_end": 0.1622663622030554,
            "bin_start": 0.13522196850254617,
            "count": 0
           },
           {
            "bin_end": 0.18931075590356464,
            "bin_start": 0.1622663622030554,
            "count": 0
           },
           {
            "bin_end": 0.21635514960407387,
            "bin_start": 0.18931075590356464,
            "count": 0
           },
           {
            "bin_end": 0.2433995433045831,
            "bin_start": 0.21635514960407387,
            "count": 0
           },
           {
            "bin_end": 0.27044393700509234,
            "bin_start": 0.2433995433045831,
            "count": 1
           }
          ],
          "max": "0.27044393700509234",
          "min": "0.0",
          "nan_count": 0,
          "unique_count": 2
         }
        },
        {
         "dtype": "float64",
         "name": "hugely",
         "stats": {
          "histogram": [
           {
            "bin_end": 0.027044393700509234,
            "bin_start": 0,
            "count": 5
           },
           {
            "bin_end": 0.05408878740101847,
            "bin_start": 0.027044393700509234,
            "count": 0
           },
           {
            "bin_end": 0.0811331811015277,
            "bin_start": 0.05408878740101847,
            "count": 0
           },
           {
            "bin_end": 0.10817757480203694,
            "bin_start": 0.0811331811015277,
            "count": 0
           },
           {
            "bin_end": 0.13522196850254617,
            "bin_start": 0.10817757480203694,
            "count": 0
           },
           {
            "bin_end": 0.1622663622030554,
            "bin_start": 0.13522196850254617,
            "count": 0
           },
           {
            "bin_end": 0.18931075590356464,
            "bin_start": 0.1622663622030554,
            "count": 0
           },
           {
            "bin_end": 0.21635514960407387,
            "bin_start": 0.18931075590356464,
            "count": 0
           },
           {
            "bin_end": 0.2433995433045831,
            "bin_start": 0.21635514960407387,
            "count": 0
           },
           {
            "bin_end": 0.27044393700509234,
            "bin_start": 0.2433995433045831,
            "count": 1
           }
          ],
          "max": "0.27044393700509234",
          "min": "0.0",
          "nan_count": 0,
          "unique_count": 2
         }
        },
        {
         "dtype": "float64",
         "name": "humanity",
         "stats": {
          "histogram": [
           {
            "bin_end": 0.017672901145494517,
            "bin_start": 0,
            "count": 5
           },
           {
            "bin_end": 0.035345802290989034,
            "bin_start": 0.017672901145494517,
            "count": 0
           },
           {
            "bin_end": 0.05301870343648355,
            "bin_start": 0.035345802290989034,
            "count": 0
           },
           {
            "bin_end": 0.07069160458197807,
            "bin_start": 0.05301870343648355,
            "count": 0
           },
           {
            "bin_end": 0.08836450572747259,
            "bin_start": 0.07069160458197807,
            "count": 0
           },
           {
            "bin_end": 0.1060374068729671,
            "bin_start": 0.08836450572747259,
            "count": 0
           },
           {
            "bin_end": 0.12371030801846161,
            "bin_start": 0.1060374068729671,
            "count": 0
           },
           {
            "bin_end": 0.14138320916395614,
            "bin_start": 0.12371030801846161,
            "count": 0
           },
           {
            "bin_end": 0.15905611030945066,
            "bin_start": 0.14138320916395614,
            "count": 0
           },
           {
            "bin_end": 0.17672901145494516,
            "bin_start": 0.15905611030945066,
            "count": 1
           }
          ],
          "max": "0.17672901145494516",
          "min": "0.0",
          "nan_count": 0,
          "unique_count": 2
         }
        },
        {
         "dtype": "float64",
         "name": "hunted",
         "stats": {
          "histogram": [
           {
            "bin_end": 0.013565031766112132,
            "bin_start": 0,
            "count": 5
           },
           {
            "bin_end": 0.027130063532224264,
            "bin_start": 0.013565031766112132,
            "count": 0
           },
           {
            "bin_end": 0.0406950952983364,
            "bin_start": 0.027130063532224264,
            "count": 0
           },
           {
            "bin_end": 0.05426012706444853,
            "bin_start": 0.0406950952983364,
            "count": 0
           },
           {
            "bin_end": 0.06782515883056066,
            "bin_start": 0.05426012706444853,
            "count": 0
           },
           {
            "bin_end": 0.0813901905966728,
            "bin_start": 0.06782515883056066,
            "count": 0
           },
           {
            "bin_end": 0.09495522236278492,
            "bin_start": 0.0813901905966728,
            "count": 0
           },
           {
            "bin_end": 0.10852025412889706,
            "bin_start": 0.09495522236278492,
            "count": 0
           },
           {
            "bin_end": 0.1220852858950092,
            "bin_start": 0.10852025412889706,
            "count": 0
           },
           {
            "bin_end": 0.13565031766112132,
            "bin_start": 0.1220852858950092,
            "count": 1
           }
          ],
          "max": "0.13565031766112132",
          "min": "0.0",
          "nan_count": 0,
          "unique_count": 2
         }
        },
        {
         "dtype": "float64",
         "name": "inexplicably",
         "stats": {
          "histogram": [
           {
            "bin_end": 0.017672901145494517,
            "bin_start": 0,
            "count": 5
           },
           {
            "bin_end": 0.035345802290989034,
            "bin_start": 0.017672901145494517,
            "count": 0
           },
           {
            "bin_end": 0.05301870343648355,
            "bin_start": 0.035345802290989034,
            "count": 0
           },
           {
            "bin_end": 0.07069160458197807,
            "bin_start": 0.05301870343648355,
            "count": 0
           },
           {
            "bin_end": 0.08836450572747259,
            "bin_start": 0.07069160458197807,
            "count": 0
           },
           {
            "bin_end": 0.1060374068729671,
            "bin_start": 0.08836450572747259,
            "count": 0
           },
           {
            "bin_end": 0.12371030801846161,
            "bin_start": 0.1060374068729671,
            "count": 0
           },
           {
            "bin_end": 0.14138320916395614,
            "bin_start": 0.12371030801846161,
            "count": 0
           },
           {
            "bin_end": 0.15905611030945066,
            "bin_start": 0.14138320916395614,
            "count": 0
           },
           {
            "bin_end": 0.17672901145494516,
            "bin_start": 0.15905611030945066,
            "count": 1
           }
          ],
          "max": "0.17672901145494516",
          "min": "0.0",
          "nan_count": 0,
          "unique_count": 2
         }
        },
        {
         "dtype": "float64",
         "name": "international",
         "stats": {
          "histogram": [
           {
            "bin_end": 0.019009749873751085,
            "bin_start": 0,
            "count": 5
           },
           {
            "bin_end": 0.03801949974750217,
            "bin_start": 0.019009749873751085,
            "count": 0
           },
           {
            "bin_end": 0.057029249621253254,
            "bin_start": 0.03801949974750217,
            "count": 0
           },
           {
            "bin_end": 0.07603899949500434,
            "bin_start": 0.057029249621253254,
            "count": 0
           },
           {
            "bin_end": 0.09504874936875543,
            "bin_start": 0.07603899949500434,
            "count": 0
           },
           {
            "bin_end": 0.11405849924250651,
            "bin_start": 0.09504874936875543,
            "count": 0
           },
           {
            "bin_end": 0.1330682491162576,
            "bin_start": 0.11405849924250651,
            "count": 0
           },
           {
            "bin_end": 0.15207799899000868,
            "bin_start": 0.1330682491162576,
            "count": 0
           },
           {
            "bin_end": 0.17108774886375977,
            "bin_start": 0.15207799899000868,
            "count": 0
           },
           {
            "bin_end": 0.19009749873751086,
            "bin_start": 0.17108774886375977,
            "count": 1
           }
          ],
          "max": "0.19009749873751086",
          "min": "0.0",
          "nan_count": 0,
          "unique_count": 2
         }
        },
        {
         "dtype": "float64",
         "name": "intriguing",
         "stats": {
          "histogram": [
           {
            "bin_end": 0.019009749873751085,
            "bin_start": 0,
            "count": 5
           },
           {
            "bin_end": 0.03801949974750217,
            "bin_start": 0.019009749873751085,
            "count": 0
           },
           {
            "bin_end": 0.057029249621253254,
            "bin_start": 0.03801949974750217,
            "count": 0
           },
           {
            "bin_end": 0.07603899949500434,
            "bin_start": 0.057029249621253254,
            "count": 0
           },
           {
            "bin_end": 0.09504874936875543,
            "bin_start": 0.07603899949500434,
            "count": 0
           },
           {
            "bin_end": 0.11405849924250651,
            "bin_start": 0.09504874936875543,
            "count": 0
           },
           {
            "bin_end": 0.1330682491162576,
            "bin_start": 0.11405849924250651,
            "count": 0
           },
           {
            "bin_end": 0.15207799899000868,
            "bin_start": 0.1330682491162576,
            "count": 0
           },
           {
            "bin_end": 0.17108774886375977,
            "bin_start": 0.15207799899000868,
            "count": 0
           },
           {
            "bin_end": 0.19009749873751086,
            "bin_start": 0.17108774886375977,
            "count": 1
           }
          ],
          "max": "0.19009749873751086",
          "min": "0.0",
          "nan_count": 0,
          "unique_count": 2
         }
        },
        {
         "dtype": "float64",
         "name": "john",
         "stats": {
          "histogram": [
           {
            "bin_end": 0.017672901145494517,
            "bin_start": 0,
            "count": 5
           },
           {
            "bin_end": 0.035345802290989034,
            "bin_start": 0.017672901145494517,
            "count": 0
           },
           {
            "bin_end": 0.05301870343648355,
            "bin_start": 0.035345802290989034,
            "count": 0
           },
           {
            "bin_end": 0.07069160458197807,
            "bin_start": 0.05301870343648355,
            "count": 0
           },
           {
            "bin_end": 0.08836450572747259,
            "bin_start": 0.07069160458197807,
            "count": 0
           },
           {
            "bin_end": 0.1060374068729671,
            "bin_start": 0.08836450572747259,
            "count": 0
           },
           {
            "bin_end": 0.12371030801846161,
            "bin_start": 0.1060374068729671,
            "count": 0
           },
           {
            "bin_end": 0.14138320916395614,
            "bin_start": 0.12371030801846161,
            "count": 0
           },
           {
            "bin_end": 0.15905611030945066,
            "bin_start": 0.14138320916395614,
            "count": 0
           },
           {
            "bin_end": 0.17672901145494516,
            "bin_start": 0.15905611030945066,
            "count": 1
           }
          ],
          "max": "0.17672901145494516",
          "min": "0.0",
          "nan_count": 0,
          "unique_count": 2
         }
        },
        {
         "dtype": "float64",
         "name": "knight",
         "stats": {
          "histogram": [
           {
            "bin_end": 0.013565031766112132,
            "bin_start": 0,
            "count": 5
           },
           {
            "bin_end": 0.027130063532224264,
            "bin_start": 0.013565031766112132,
            "count": 0
           },
           {
            "bin_end": 0.0406950952983364,
            "bin_start": 0.027130063532224264,
            "count": 0
           },
           {
            "bin_end": 0.05426012706444853,
            "bin_start": 0.0406950952983364,
            "count": 0
           },
           {
            "bin_end": 0.06782515883056066,
            "bin_start": 0.05426012706444853,
            "count": 0
           },
           {
            "bin_end": 0.0813901905966728,
            "bin_start": 0.06782515883056066,
            "count": 0
           },
           {
            "bin_end": 0.09495522236278492,
            "bin_start": 0.0813901905966728,
            "count": 0
           },
           {
            "bin_end": 0.10852025412889706,
            "bin_start": 0.09495522236278492,
            "count": 0
           },
           {
            "bin_end": 0.1220852858950092,
            "bin_start": 0.10852025412889706,
            "count": 0
           },
           {
            "bin_end": 0.13565031766112132,
            "bin_start": 0.1220852858950092,
            "count": 1
           }
          ],
          "max": "0.13565031766112132",
          "min": "0.0",
          "nan_count": 0,
          "unique_count": 2
         }
        },
        {
         "dtype": "float64",
         "name": "kyle",
         "stats": {
          "histogram": [
           {
            "bin_end": 0.013565031766112132,
            "bin_start": 0,
            "count": 5
           },
           {
            "bin_end": 0.027130063532224264,
            "bin_start": 0.013565031766112132,
            "count": 0
           },
           {
            "bin_end": 0.0406950952983364,
            "bin_start": 0.027130063532224264,
            "count": 0
           },
           {
            "bin_end": 0.05426012706444853,
            "bin_start": 0.0406950952983364,
            "count": 0
           },
           {
            "bin_end": 0.06782515883056066,
            "bin_start": 0.05426012706444853,
            "count": 0
           },
           {
            "bin_end": 0.0813901905966728,
            "bin_start": 0.06782515883056066,
            "count": 0
           },
           {
            "bin_end": 0.09495522236278492,
            "bin_start": 0.0813901905966728,
            "count": 0
           },
           {
            "bin_end": 0.10852025412889706,
            "bin_start": 0.09495522236278492,
            "count": 0
           },
           {
            "bin_end": 0.1220852858950092,
            "bin_start": 0.10852025412889706,
            "count": 0
           },
           {
            "bin_end": 0.13565031766112132,
            "bin_start": 0.1220852858950092,
            "count": 1
           }
          ],
          "max": "0.13565031766112132",
          "min": "0.0",
          "nan_count": 0,
          "unique_count": 2
         }
        },
        {
         "dtype": "float64",
         "name": "late",
         "stats": {
          "histogram": [
           {
            "bin_end": 0.013565031766112132,
            "bin_start": 0,
            "count": 5
           },
           {
            "bin_end": 0.027130063532224264,
            "bin_start": 0.013565031766112132,
            "count": 0
           },
           {
            "bin_end": 0.0406950952983364,
            "bin_start": 0.027130063532224264,
            "count": 0
           },
           {
            "bin_end": 0.05426012706444853,
            "bin_start": 0.0406950952983364,
            "count": 0
           },
           {
            "bin_end": 0.06782515883056066,
            "bin_start": 0.05426012706444853,
            "count": 0
           },
           {
            "bin_end": 0.0813901905966728,
            "bin_start": 0.06782515883056066,
            "count": 0
           },
           {
            "bin_end": 0.09495522236278492,
            "bin_start": 0.0813901905966728,
            "count": 0
           },
           {
            "bin_end": 0.10852025412889706,
            "bin_start": 0.09495522236278492,
            "count": 0
           },
           {
            "bin_end": 0.1220852858950092,
            "bin_start": 0.10852025412889706,
            "count": 0
           },
           {
            "bin_end": 0.13565031766112132,
            "bin_start": 0.1220852858950092,
            "count": 1
           }
          ],
          "max": "0.13565031766112132",
          "min": "0.0",
          "nan_count": 0,
          "unique_count": 2
         }
        },
        {
         "dtype": "float64",
         "name": "later",
         "stats": {
          "histogram": [
           {
            "bin_end": 0.013565031766112132,
            "bin_start": 0,
            "count": 5
           },
           {
            "bin_end": 0.027130063532224264,
            "bin_start": 0.013565031766112132,
            "count": 0
           },
           {
            "bin_end": 0.0406950952983364,
            "bin_start": 0.027130063532224264,
            "count": 0
           },
           {
            "bin_end": 0.05426012706444853,
            "bin_start": 0.0406950952983364,
            "count": 0
           },
           {
            "bin_end": 0.06782515883056066,
            "bin_start": 0.05426012706444853,
            "count": 0
           },
           {
            "bin_end": 0.0813901905966728,
            "bin_start": 0.06782515883056066,
            "count": 0
           },
           {
            "bin_end": 0.09495522236278492,
            "bin_start": 0.0813901905966728,
            "count": 0
           },
           {
            "bin_end": 0.10852025412889706,
            "bin_start": 0.09495522236278492,
            "count": 0
           },
           {
            "bin_end": 0.1220852858950092,
            "bin_start": 0.10852025412889706,
            "count": 0
           },
           {
            "bin_end": 0.13565031766112132,
            "bin_start": 0.1220852858950092,
            "count": 1
           }
          ],
          "max": "0.13565031766112132",
          "min": "0.0",
          "nan_count": 0,
          "unique_count": 2
         }
        },
        {
         "dtype": "float64",
         "name": "leader",
         "stats": {
          "histogram": [
           {
            "bin_end": 0.013565031766112132,
            "bin_start": 0,
            "count": 5
           },
           {
            "bin_end": 0.027130063532224264,
            "bin_start": 0.013565031766112132,
            "count": 0
           },
           {
            "bin_end": 0.0406950952983364,
            "bin_start": 0.027130063532224264,
            "count": 0
           },
           {
            "bin_end": 0.05426012706444853,
            "bin_start": 0.0406950952983364,
            "count": 0
           },
           {
            "bin_end": 0.06782515883056066,
            "bin_start": 0.05426012706444853,
            "count": 0
           },
           {
            "bin_end": 0.0813901905966728,
            "bin_start": 0.06782515883056066,
            "count": 0
           },
           {
            "bin_end": 0.09495522236278492,
            "bin_start": 0.0813901905966728,
            "count": 0
           },
           {
            "bin_end": 0.10852025412889706,
            "bin_start": 0.09495522236278492,
            "count": 0
           },
           {
            "bin_end": 0.1220852858950092,
            "bin_start": 0.10852025412889706,
            "count": 0
           },
           {
            "bin_end": 0.13565031766112132,
            "bin_start": 0.1220852858950092,
            "count": 1
           }
          ],
          "max": "0.13565031766112132",
          "min": "0.0",
          "nan_count": 0,
          "unique_count": 2
         }
        },
        {
         "dtype": "float64",
         "name": "legendary",
         "stats": {
          "histogram": [
           {
            "bin_end": 0.027044393700509234,
            "bin_start": 0,
            "count": 5
           },
           {
            "bin_end": 0.05408878740101847,
            "bin_start": 0.027044393700509234,
            "count": 0
           },
           {
            "bin_end": 0.0811331811015277,
            "bin_start": 0.05408878740101847,
            "count": 0
           },
           {
            "bin_end": 0.10817757480203694,
            "bin_start": 0.0811331811015277,
            "count": 0
           },
           {
            "bin_end": 0.13522196850254617,
            "bin_start": 0.10817757480203694,
            "count": 0
           },
           {
            "bin_end": 0.1622663622030554,
            "bin_start": 0.13522196850254617,
            "count": 0
           },
           {
            "bin_end": 0.18931075590356464,
            "bin_start": 0.1622663622030554,
            "count": 0
           },
           {
            "bin_end": 0.21635514960407387,
            "bin_start": 0.18931075590356464,
            "count": 0
           },
           {
            "bin_end": 0.2433995433045831,
            "bin_start": 0.21635514960407387,
            "count": 0
           },
           {
            "bin_end": 0.27044393700509234,
            "bin_start": 0.2433995433045831,
            "count": 1
           }
          ],
          "max": "0.27044393700509234",
          "min": "0.0",
          "nan_count": 0,
          "unique_count": 2
         }
        },
        {
         "dtype": "float64",
         "name": "light",
         "stats": {
          "histogram": [
           {
            "bin_end": 0.023776057462757454,
            "bin_start": 0,
            "count": 5
           },
           {
            "bin_end": 0.04755211492551491,
            "bin_start": 0.023776057462757454,
            "count": 0
           },
           {
            "bin_end": 0.07132817238827235,
            "bin_start": 0.04755211492551491,
            "count": 0
           },
           {
            "bin_end": 0.09510422985102981,
            "bin_start": 0.07132817238827235,
            "count": 0
           },
           {
            "bin_end": 0.11888028731378728,
            "bin_start": 0.09510422985102981,
            "count": 0
           },
           {
            "bin_end": 0.1426563447765447,
            "bin_start": 0.11888028731378728,
            "count": 0
           },
           {
            "bin_end": 0.16643240223930217,
            "bin_start": 0.1426563447765447,
            "count": 0
           },
           {
            "bin_end": 0.19020845970205963,
            "bin_start": 0.16643240223930217,
            "count": 0
           },
           {
            "bin_end": 0.2139845171648171,
            "bin_start": 0.19020845970205963,
            "count": 0
           },
           {
            "bin_end": 0.23776057462757455,
            "bin_start": 0.2139845171648171,
            "count": 1
           }
          ],
          "max": "0.23776057462757455",
          "min": "0.0",
          "nan_count": 0,
          "unique_count": 2
         }
        },
        {
         "dtype": "float64",
         "name": "lightning",
         "stats": {
          "histogram": [
           {
            "bin_end": 0.019009749873751085,
            "bin_start": 0,
            "count": 5
           },
           {
            "bin_end": 0.03801949974750217,
            "bin_start": 0.019009749873751085,
            "count": 0
           },
           {
            "bin_end": 0.057029249621253254,
            "bin_start": 0.03801949974750217,
            "count": 0
           },
           {
            "bin_end": 0.07603899949500434,
            "bin_start": 0.057029249621253254,
            "count": 0
           },
           {
            "bin_end": 0.09504874936875543,
            "bin_start": 0.07603899949500434,
            "count": 0
           },
           {
            "bin_end": 0.11405849924250651,
            "bin_start": 0.09504874936875543,
            "count": 0
           },
           {
            "bin_end": 0.1330682491162576,
            "bin_start": 0.11405849924250651,
            "count": 0
           },
           {
            "bin_end": 0.15207799899000868,
            "bin_start": 0.1330682491162576,
            "count": 0
           },
           {
            "bin_end": 0.17108774886375977,
            "bin_start": 0.15207799899000868,
            "count": 0
           },
           {
            "bin_end": 0.19009749873751086,
            "bin_start": 0.17108774886375977,
            "count": 1
           }
          ],
          "max": "0.19009749873751086",
          "min": "0.0",
          "nan_count": 0,
          "unique_count": 2
         }
        },
        {
         "dtype": "float64",
         "name": "little",
         "stats": {
          "histogram": [
           {
            "bin_end": 0.027044393700509234,
            "bin_start": 0,
            "count": 5
           },
           {
            "bin_end": 0.05408878740101847,
            "bin_start": 0.027044393700509234,
            "count": 0
           },
           {
            "bin_end": 0.0811331811015277,
            "bin_start": 0.05408878740101847,
            "count": 0
           },
           {
            "bin_end": 0.10817757480203694,
            "bin_start": 0.0811331811015277,
            "count": 0
           },
           {
            "bin_end": 0.13522196850254617,
            "bin_start": 0.10817757480203694,
            "count": 0
           },
           {
            "bin_end": 0.1622663622030554,
            "bin_start": 0.13522196850254617,
            "count": 0
           },
           {
            "bin_end": 0.18931075590356464,
            "bin_start": 0.1622663622030554,
            "count": 0
           },
           {
            "bin_end": 0.21635514960407387,
            "bin_start": 0.18931075590356464,
            "count": 0
           },
           {
            "bin_end": 0.2433995433045831,
            "bin_start": 0.21635514960407387,
            "count": 0
           },
           {
            "bin_end": 0.27044393700509234,
            "bin_start": 0.2433995433045831,
            "count": 1
           }
          ],
          "max": "0.27044393700509234",
          "min": "0.0",
          "nan_count": 0,
          "unique_count": 2
         }
        },
        {
         "dtype": "float64",
         "name": "manhunt",
         "stats": {
          "histogram": [
           {
            "bin_end": 0.023776057462757454,
            "bin_start": 0,
            "count": 5
           },
           {
            "bin_end": 0.04755211492551491,
            "bin_start": 0.023776057462757454,
            "count": 0
           },
           {
            "bin_end": 0.07132817238827235,
            "bin_start": 0.04755211492551491,
            "count": 0
           },
           {
            "bin_end": 0.09510422985102981,
            "bin_start": 0.07132817238827235,
            "count": 0
           },
           {
            "bin_end": 0.11888028731378728,
            "bin_start": 0.09510422985102981,
            "count": 0
           },
           {
            "bin_end": 0.1426563447765447,
            "bin_start": 0.11888028731378728,
            "count": 0
           },
           {
            "bin_end": 0.16643240223930217,
            "bin_start": 0.1426563447765447,
            "count": 0
           },
           {
            "bin_end": 0.19020845970205963,
            "bin_start": 0.16643240223930217,
            "count": 0
           },
           {
            "bin_end": 0.2139845171648171,
            "bin_start": 0.19020845970205963,
            "count": 0
           },
           {
            "bin_end": 0.23776057462757455,
            "bin_start": 0.2139845171648171,
            "count": 1
           }
          ],
          "max": "0.23776057462757455",
          "min": "0.0",
          "nan_count": 0,
          "unique_count": 2
         }
        },
        {
         "dtype": "float64",
         "name": "mars",
         "stats": {
          "histogram": [
           {
            "bin_end": 0.017672901145494517,
            "bin_start": 0,
            "count": 5
           },
           {
            "bin_end": 0.035345802290989034,
            "bin_start": 0.017672901145494517,
            "count": 0
           },
           {
            "bin_end": 0.05301870343648355,
            "bin_start": 0.035345802290989034,
            "count": 0
           },
           {
            "bin_end": 0.07069160458197807,
            "bin_start": 0.05301870343648355,
            "count": 0
           },
           {
            "bin_end": 0.08836450572747259,
            "bin_start": 0.07069160458197807,
            "count": 0
           },
           {
            "bin_end": 0.1060374068729671,
            "bin_start": 0.08836450572747259,
            "count": 0
           },
           {
            "bin_end": 0.12371030801846161,
            "bin_start": 0.1060374068729671,
            "count": 0
           },
           {
            "bin_end": 0.14138320916395614,
            "bin_start": 0.12371030801846161,
            "count": 0
           },
           {
            "bin_end": 0.15905611030945066,
            "bin_start": 0.14138320916395614,
            "count": 0
           },
           {
            "bin_end": 0.17672901145494516,
            "bin_start": 0.15905611030945066,
            "count": 1
           }
          ],
          "max": "0.17672901145494516",
          "min": "0.0",
          "nan_count": 0,
          "unique_count": 2
         }
        },
        {
         "dtype": "float64",
         "name": "mater",
         "stats": {
          "histogram": [
           {
            "bin_end": 0.03801949974750217,
            "bin_start": 0,
            "count": 5
           },
           {
            "bin_end": 0.07603899949500434,
            "bin_start": 0.03801949974750217,
            "count": 0
           },
           {
            "bin_end": 0.11405849924250651,
            "bin_start": 0.07603899949500434,
            "count": 0
           },
           {
            "bin_end": 0.15207799899000868,
            "bin_start": 0.11405849924250651,
            "count": 0
           },
           {
            "bin_end": 0.19009749873751086,
            "bin_start": 0.15207799899000868,
            "count": 0
           },
           {
            "bin_end": 0.22811699848501302,
            "bin_start": 0.19009749873751086,
            "count": 0
           },
           {
            "bin_end": 0.2661364982325152,
            "bin_start": 0.22811699848501302,
            "count": 0
           },
           {
            "bin_end": 0.30415599798001736,
            "bin_start": 0.2661364982325152,
            "count": 0
           },
           {
            "bin_end": 0.34217549772751954,
            "bin_start": 0.30415599798001736,
            "count": 0
           },
           {
            "bin_end": 0.3801949974750217,
            "bin_start": 0.34217549772751954,
            "count": 1
           }
          ],
          "max": "0.3801949974750217",
          "min": "0.0",
          "nan_count": 0,
          "unique_count": 2
         }
        },
        {
         "dtype": "float64",
         "name": "mcqueen",
         "stats": {
          "histogram": [
           {
            "bin_end": 0.019009749873751085,
            "bin_start": 0,
            "count": 5
           },
           {
            "bin_end": 0.03801949974750217,
            "bin_start": 0.019009749873751085,
            "count": 0
           },
           {
            "bin_end": 0.057029249621253254,
            "bin_start": 0.03801949974750217,
            "count": 0
           },
           {
            "bin_end": 0.07603899949500434,
            "bin_start": 0.057029249621253254,
            "count": 0
           },
           {
            "bin_end": 0.09504874936875543,
            "bin_start": 0.07603899949500434,
            "count": 0
           },
           {
            "bin_end": 0.11405849924250651,
            "bin_start": 0.09504874936875543,
            "count": 0
           },
           {
            "bin_end": 0.1330682491162576,
            "bin_start": 0.11405849924250651,
            "count": 0
           },
           {
            "bin_end": 0.15207799899000868,
            "bin_start": 0.1330682491162576,
            "count": 0
           },
           {
            "bin_end": 0.17108774886375977,
            "bin_start": 0.15207799899000868,
            "count": 0
           },
           {
            "bin_end": 0.19009749873751086,
            "bin_start": 0.17108774886375977,
            "count": 1
           }
          ],
          "max": "0.19009749873751086",
          "min": "0.0",
          "nan_count": 0,
          "unique_count": 2
         }
        },
        {
         "dtype": "float64",
         "name": "military",
         "stats": {
          "histogram": [
           {
            "bin_end": 0.017672901145494517,
            "bin_start": 0,
            "count": 5
           },
           {
            "bin_end": 0.035345802290989034,
            "bin_start": 0.017672901145494517,
            "count": 0
           },
           {
            "bin_end": 0.05301870343648355,
            "bin_start": 0.035345802290989034,
            "count": 0
           },
           {
            "bin_end": 0.07069160458197807,
            "bin_start": 0.05301870343648355,
            "count": 0
           },
           {
            "bin_end": 0.08836450572747259,
            "bin_start": 0.07069160458197807,
            "count": 0
           },
           {
            "bin_end": 0.1060374068729671,
            "bin_start": 0.08836450572747259,
            "count": 0
           },
           {
            "bin_end": 0.12371030801846161,
            "bin_start": 0.1060374068729671,
            "count": 0
           },
           {
            "bin_end": 0.14138320916395614,
            "bin_start": 0.12371030801846161,
            "count": 0
           },
           {
            "bin_end": 0.15905611030945066,
            "bin_start": 0.14138320916395614,
            "count": 0
           },
           {
            "bin_end": 0.17672901145494516,
            "bin_start": 0.15905611030945066,
            "count": 1
           }
          ],
          "max": "0.17672901145494516",
          "min": "0.0",
          "nan_count": 0,
          "unique_count": 2
         }
        },
        {
         "dtype": "float64",
         "name": "mysterious",
         "stats": {
          "histogram": [
           {
            "bin_end": 0.014492031753661039,
            "bin_start": 0,
            "count": 4
           },
           {
            "bin_end": 0.028984063507322078,
            "bin_start": 0.014492031753661039,
            "count": 0
           },
           {
            "bin_end": 0.043476095260983116,
            "bin_start": 0.028984063507322078,
            "count": 0
           },
           {
            "bin_end": 0.057968127014644155,
            "bin_start": 0.043476095260983116,
            "count": 0
           },
           {
            "bin_end": 0.0724601587683052,
            "bin_start": 0.057968127014644155,
            "count": 0
           },
           {
            "bin_end": 0.08695219052196623,
            "bin_start": 0.0724601587683052,
            "count": 0
           },
           {
            "bin_end": 0.10144422227562727,
            "bin_start": 0.08695219052196623,
            "count": 0
           },
           {
            "bin_end": 0.11593625402928831,
            "bin_start": 0.10144422227562727,
            "count": 1
           },
           {
            "bin_end": 0.13042828578294935,
            "bin_start": 0.11593625402928831,
            "count": 0
           },
           {
            "bin_end": 0.1449203175366104,
            "bin_start": 0.13042828578294935,
            "count": 1
           }
          ],
          "max": "0.1449203175366104",
          "min": "0.0",
          "nan_count": 0,
          "unique_count": 3
         }
        },
        {
         "dtype": "float64",
         "name": "new",
         "stats": {
          "histogram": [
           {
            "bin_end": 0.013565031766112132,
            "bin_start": 0,
            "count": 5
           },
           {
            "bin_end": 0.027130063532224264,
            "bin_start": 0.013565031766112132,
            "count": 0
           },
           {
            "bin_end": 0.0406950952983364,
            "bin_start": 0.027130063532224264,
            "count": 0
           },
           {
            "bin_end": 0.05426012706444853,
            "bin_start": 0.0406950952983364,
            "count": 0
           },
           {
            "bin_end": 0.06782515883056066,
            "bin_start": 0.05426012706444853,
            "count": 0
           },
           {
            "bin_end": 0.0813901905966728,
            "bin_start": 0.06782515883056066,
            "count": 0
           },
           {
            "bin_end": 0.09495522236278492,
            "bin_start": 0.0813901905966728,
            "count": 0
           },
           {
            "bin_end": 0.10852025412889706,
            "bin_start": 0.09495522236278492,
            "count": 0
           },
           {
            "bin_end": 0.1220852858950092,
            "bin_start": 0.10852025412889706,
            "count": 0
           },
           {
            "bin_end": 0.13565031766112132,
            "bin_start": 0.1220852858950092,
            "count": 1
           }
          ],
          "max": "0.13565031766112132",
          "min": "0.0",
          "nan_count": 0,
          "unique_count": 2
         }
        },
        {
         "dtype": "float64",
         "name": "orb",
         "stats": {
          "histogram": [
           {
            "bin_end": 0.023776057462757454,
            "bin_start": 0,
            "count": 5
           },
           {
            "bin_end": 0.04755211492551491,
            "bin_start": 0.023776057462757454,
            "count": 0
           },
           {
            "bin_end": 0.07132817238827235,
            "bin_start": 0.04755211492551491,
            "count": 0
           },
           {
            "bin_end": 0.09510422985102981,
            "bin_start": 0.07132817238827235,
            "count": 0
           },
           {
            "bin_end": 0.11888028731378728,
            "bin_start": 0.09510422985102981,
            "count": 0
           },
           {
            "bin_end": 0.1426563447765447,
            "bin_start": 0.11888028731378728,
            "count": 0
           },
           {
            "bin_end": 0.16643240223930217,
            "bin_start": 0.1426563447765447,
            "count": 0
           },
           {
            "bin_end": 0.19020845970205963,
            "bin_start": 0.16643240223930217,
            "count": 0
           },
           {
            "bin_end": 0.2139845171648171,
            "bin_start": 0.19020845970205963,
            "count": 0
           },
           {
            "bin_end": 0.23776057462757455,
            "bin_start": 0.2139845171648171,
            "count": 1
           }
          ],
          "max": "0.23776057462757455",
          "min": "0.0",
          "nan_count": 0,
          "unique_count": 2
         }
        },
        {
         "dtype": "float64",
         "name": "overseas",
         "stats": {
          "histogram": [
           {
            "bin_end": 0.019009749873751085,
            "bin_start": 0,
            "count": 5
           },
           {
            "bin_end": 0.03801949974750217,
            "bin_start": 0.019009749873751085,
            "count": 0
           },
           {
            "bin_end": 0.057029249621253254,
            "bin_start": 0.03801949974750217,
            "count": 0
           },
           {
            "bin_end": 0.07603899949500434,
            "bin_start": 0.057029249621253254,
            "count": 0
           },
           {
            "bin_end": 0.09504874936875543,
            "bin_start": 0.07603899949500434,
            "count": 0
           },
           {
            "bin_end": 0.11405849924250651,
            "bin_start": 0.09504874936875543,
            "count": 0
           },
           {
            "bin_end": 0.1330682491162576,
            "bin_start": 0.11405849924250651,
            "count": 0
           },
           {
            "bin_end": 0.15207799899000868,
            "bin_start": 0.1330682491162576,
            "count": 0
           },
           {
            "bin_end": 0.17108774886375977,
            "bin_start": 0.15207799899000868,
            "count": 0
           },
           {
            "bin_end": 0.19009749873751086,
            "bin_start": 0.17108774886375977,
            "count": 1
           }
          ],
          "max": "0.19009749873751086",
          "min": "0.0",
          "nan_count": 0,
          "unique_count": 2
         }
        },
        {
         "dtype": "float64",
         "name": "overwhelms",
         "stats": {
          "histogram": [
           {
            "bin_end": 0.013565031766112132,
            "bin_start": 0,
            "count": 5
           },
           {
            "bin_end": 0.027130063532224264,
            "bin_start": 0.013565031766112132,
            "count": 0
           },
           {
            "bin_end": 0.0406950952983364,
            "bin_start": 0.027130063532224264,
            "count": 0
           },
           {
            "bin_end": 0.05426012706444853,
            "bin_start": 0.0406950952983364,
            "count": 0
           },
           {
            "bin_end": 0.06782515883056066,
            "bin_start": 0.05426012706444853,
            "count": 0
           },
           {
            "bin_end": 0.0813901905966728,
            "bin_start": 0.06782515883056066,
            "count": 0
           },
           {
            "bin_end": 0.09495522236278492,
            "bin_start": 0.0813901905966728,
            "count": 0
           },
           {
            "bin_end": 0.10852025412889706,
            "bin_start": 0.09495522236278492,
            "count": 0
           },
           {
            "bin_end": 0.1220852858950092,
            "bin_start": 0.10852025412889706,
            "count": 0
           },
           {
            "bin_end": 0.13565031766112132,
            "bin_start": 0.1220852858950092,
            "count": 1
           }
          ],
          "max": "0.13565031766112132",
          "min": "0.0",
          "nan_count": 0,
          "unique_count": 2
         }
        },
        {
         "dtype": "float64",
         "name": "pal",
         "stats": {
          "histogram": [
           {
            "bin_end": 0.019009749873751085,
            "bin_start": 0,
            "count": 5
           },
           {
            "bin_end": 0.03801949974750217,
            "bin_start": 0.019009749873751085,
            "count": 0
           },
           {
            "bin_end": 0.057029249621253254,
            "bin_start": 0.03801949974750217,
            "count": 0
           },
           {
            "bin_end": 0.07603899949500434,
            "bin_start": 0.057029249621253254,
            "count": 0
           },
           {
            "bin_end": 0.09504874936875543,
            "bin_start": 0.07603899949500434,
            "count": 0
           },
           {
            "bin_end": 0.11405849924250651,
            "bin_start": 0.09504874936875543,
            "count": 0
           },
           {
            "bin_end": 0.1330682491162576,
            "bin_start": 0.11405849924250651,
            "count": 0
           },
           {
            "bin_end": 0.15207799899000868,
            "bin_start": 0.1330682491162576,
            "count": 0
           },
           {
            "bin_end": 0.17108774886375977,
            "bin_start": 0.15207799899000868,
            "count": 0
           },
           {
            "bin_end": 0.19009749873751086,
            "bin_start": 0.17108774886375977,
            "count": 1
           }
          ],
          "max": "0.19009749873751086",
          "min": "0.0",
          "nan_count": 0,
          "unique_count": 2
         }
        },
        {
         "dtype": "float64",
         "name": "people",
         "stats": {
          "histogram": [
           {
            "bin_end": 0.017672901145494517,
            "bin_start": 0,
            "count": 5
           },
           {
            "bin_end": 0.035345802290989034,
            "bin_start": 0.017672901145494517,
            "count": 0
           },
           {
            "bin_end": 0.05301870343648355,
            "bin_start": 0.035345802290989034,
            "count": 0
           },
           {
            "bin_end": 0.07069160458197807,
            "bin_start": 0.05301870343648355,
            "count": 0
           },
           {
            "bin_end": 0.08836450572747259,
            "bin_start": 0.07069160458197807,
            "count": 0
           },
           {
            "bin_end": 0.1060374068729671,
            "bin_start": 0.08836450572747259,
            "count": 0
           },
           {
            "bin_end": 0.12371030801846161,
            "bin_start": 0.1060374068729671,
            "count": 0
           },
           {
            "bin_end": 0.14138320916395614,
            "bin_start": 0.12371030801846161,
            "count": 0
           },
           {
            "bin_end": 0.15905611030945066,
            "bin_start": 0.14138320916395614,
            "count": 0
           },
           {
            "bin_end": 0.17672901145494516,
            "bin_start": 0.15905611030945066,
            "count": 1
           }
          ],
          "max": "0.17672901145494516",
          "min": "0.0",
          "nan_count": 0,
          "unique_count": 2
         }
        },
        {
         "dtype": "float64",
         "name": "peter",
         "stats": {
          "histogram": [
           {
            "bin_end": 0.023776057462757454,
            "bin_start": 0,
            "count": 5
           },
           {
            "bin_end": 0.04755211492551491,
            "bin_start": 0.023776057462757454,
            "count": 0
           },
           {
            "bin_end": 0.07132817238827235,
            "bin_start": 0.04755211492551491,
            "count": 0
           },
           {
            "bin_end": 0.09510422985102981,
            "bin_start": 0.07132817238827235,
            "count": 0
           },
           {
            "bin_end": 0.11888028731378728,
            "bin_start": 0.09510422985102981,
            "count": 0
           },
           {
            "bin_end": 0.1426563447765447,
            "bin_start": 0.11888028731378728,
            "count": 0
           },
           {
            "bin_end": 0.16643240223930217,
            "bin_start": 0.1426563447765447,
            "count": 0
           },
           {
            "bin_end": 0.19020845970205963,
            "bin_start": 0.16643240223930217,
            "count": 0
           },
           {
            "bin_end": 0.2139845171648171,
            "bin_start": 0.19020845970205963,
            "count": 0
           },
           {
            "bin_end": 0.23776057462757455,
            "bin_start": 0.2139845171648171,
            "count": 1
           }
          ],
          "max": "0.23776057462757455",
          "min": "0.0",
          "nan_count": 0,
          "unique_count": 2
         }
        },
        {
         "dtype": "float64",
         "name": "planet",
         "stats": {
          "histogram": [
           {
            "bin_end": 0.017672901145494517,
            "bin_start": 0,
            "count": 5
           },
           {
            "bin_end": 0.035345802290989034,
            "bin_start": 0.017672901145494517,
            "count": 0
           },
           {
            "bin_end": 0.05301870343648355,
            "bin_start": 0.035345802290989034,
            "count": 0
           },
           {
            "bin_end": 0.07069160458197807,
            "bin_start": 0.05301870343648355,
            "count": 0
           },
           {
            "bin_end": 0.08836450572747259,
            "bin_start": 0.07069160458197807,
            "count": 0
           },
           {
            "bin_end": 0.1060374068729671,
            "bin_start": 0.08836450572747259,
            "count": 0
           },
           {
            "bin_end": 0.12371030801846161,
            "bin_start": 0.1060374068729671,
            "count": 0
           },
           {
            "bin_end": 0.14138320916395614,
            "bin_start": 0.12371030801846161,
            "count": 0
           },
           {
            "bin_end": 0.15905611030945066,
            "bin_start": 0.14138320916395614,
            "count": 0
           },
           {
            "bin_end": 0.17672901145494516,
            "bin_start": 0.15905611030945066,
            "count": 1
           }
          ],
          "max": "0.17672901145494516",
          "min": "0.0",
          "nan_count": 0,
          "unique_count": 2
         }
        },
        {
         "dtype": "float64",
         "name": "po",
         "stats": {
          "histogram": [
           {
            "bin_end": 0.027044393700509234,
            "bin_start": 0,
            "count": 5
           },
           {
            "bin_end": 0.05408878740101847,
            "bin_start": 0.027044393700509234,
            "count": 0
           },
           {
            "bin_end": 0.0811331811015277,
            "bin_start": 0.05408878740101847,
            "count": 0
           },
           {
            "bin_end": 0.10817757480203694,
            "bin_start": 0.0811331811015277,
            "count": 0
           },
           {
            "bin_end": 0.13522196850254617,
            "bin_start": 0.10817757480203694,
            "count": 0
           },
           {
            "bin_end": 0.1622663622030554,
            "bin_start": 0.13522196850254617,
            "count": 0
           },
           {
            "bin_end": 0.18931075590356464,
            "bin_start": 0.1622663622030554,
            "count": 0
           },
           {
            "bin_end": 0.21635514960407387,
            "bin_start": 0.18931075590356464,
            "count": 0
           },
           {
            "bin_end": 0.2433995433045831,
            "bin_start": 0.21635514960407387,
            "count": 0
           },
           {
            "bin_end": 0.27044393700509234,
            "bin_start": 0.2433995433045831,
            "count": 1
           }
          ],
          "max": "0.27044393700509234",
          "min": "0.0",
          "nan_count": 0,
          "unique_count": 2
         }
        },
        {
         "dtype": "float64",
         "name": "police",
         "stats": {
          "histogram": [
           {
            "bin_end": 0.013565031766112132,
            "bin_start": 0,
            "count": 5
           },
           {
            "bin_end": 0.027130063532224264,
            "bin_start": 0.013565031766112132,
            "count": 0
           },
           {
            "bin_end": 0.0406950952983364,
            "bin_start": 0.027130063532224264,
            "count": 0
           },
           {
            "bin_end": 0.05426012706444853,
            "bin_start": 0.0406950952983364,
            "count": 0
           },
           {
            "bin_end": 0.06782515883056066,
            "bin_start": 0.05426012706444853,
            "count": 0
           },
           {
            "bin_end": 0.0813901905966728,
            "bin_start": 0.06782515883056066,
            "count": 0
           },
           {
            "bin_end": 0.09495522236278492,
            "bin_start": 0.0813901905966728,
            "count": 0
           },
           {
            "bin_end": 0.10852025412889706,
            "bin_start": 0.09495522236278492,
            "count": 0
           },
           {
            "bin_end": 0.1220852858950092,
            "bin_start": 0.10852025412889706,
            "count": 0
           },
           {
            "bin_end": 0.13565031766112132,
            "bin_start": 0.1220852858950092,
            "count": 1
           }
          ],
          "max": "0.13565031766112132",
          "min": "0.0",
          "nan_count": 0,
          "unique_count": 2
         }
        },
        {
         "dtype": "float64",
         "name": "prime",
         "stats": {
          "histogram": [
           {
            "bin_end": 0.023776057462757454,
            "bin_start": 0,
            "count": 5
           },
           {
            "bin_end": 0.04755211492551491,
            "bin_start": 0.023776057462757454,
            "count": 0
           },
           {
            "bin_end": 0.07132817238827235,
            "bin_start": 0.04755211492551491,
            "count": 0
           },
           {
            "bin_end": 0.09510422985102981,
            "bin_start": 0.07132817238827235,
            "count": 0
           },
           {
            "bin_end": 0.11888028731378728,
            "bin_start": 0.09510422985102981,
            "count": 0
           },
           {
            "bin_end": 0.1426563447765447,
            "bin_start": 0.11888028731378728,
            "count": 0
           },
           {
            "bin_end": 0.16643240223930217,
            "bin_start": 0.1426563447765447,
            "count": 0
           },
           {
            "bin_end": 0.19020845970205963,
            "bin_start": 0.16643240223930217,
            "count": 0
           },
           {
            "bin_end": 0.2139845171648171,
            "bin_start": 0.19020845970205963,
            "count": 0
           },
           {
            "bin_end": 0.23776057462757455,
            "bin_start": 0.2139845171648171,
            "count": 1
           }
          ],
          "max": "0.23776057462757455",
          "min": "0.0",
          "nan_count": 0,
          "unique_count": 2
         }
        },
        {
         "dtype": "float64",
         "name": "prix",
         "stats": {
          "histogram": [
           {
            "bin_end": 0.019009749873751085,
            "bin_start": 0,
            "count": 5
           },
           {
            "bin_end": 0.03801949974750217,
            "bin_start": 0.019009749873751085,
            "count": 0
           },
           {
            "bin_end": 0.057029249621253254,
            "bin_start": 0.03801949974750217,
            "count": 0
           },
           {
            "bin_end": 0.07603899949500434,
            "bin_start": 0.057029249621253254,
            "count": 0
           },
           {
            "bin_end": 0.09504874936875543,
            "bin_start": 0.07603899949500434,
            "count": 0
           },
           {
            "bin_end": 0.11405849924250651,
            "bin_start": 0.09504874936875543,
            "count": 0
           },
           {
            "bin_end": 0.1330682491162576,
            "bin_start": 0.11405849924250651,
            "count": 0
           },
           {
            "bin_end": 0.15207799899000868,
            "bin_start": 0.1330682491162576,
            "count": 0
           },
           {
            "bin_end": 0.17108774886375977,
            "bin_start": 0.15207799899000868,
            "count": 0
           },
           {
            "bin_end": 0.19009749873751086,
            "bin_start": 0.17108774886375977,
            "count": 1
           }
          ],
          "max": "0.19009749873751086",
          "min": "0.0",
          "nan_count": 0,
          "unique_count": 2
         }
        },
        {
         "dtype": "float64",
         "name": "protect",
         "stats": {
          "histogram": [
           {
            "bin_end": 0.027130063532224264,
            "bin_start": 0,
            "count": 5
           },
           {
            "bin_end": 0.05426012706444853,
            "bin_start": 0.027130063532224264,
            "count": 0
           },
           {
            "bin_end": 0.0813901905966728,
            "bin_start": 0.05426012706444853,
            "count": 0
           },
           {
            "bin_end": 0.10852025412889706,
            "bin_start": 0.0813901905966728,
            "count": 0
           },
           {
            "bin_end": 0.13565031766112132,
            "bin_start": 0.10852025412889706,
            "count": 0
           },
           {
            "bin_end": 0.1627803811933456,
            "bin_start": 0.13565031766112132,
            "count": 0
           },
           {
            "bin_end": 0.18991044472556984,
            "bin_start": 0.1627803811933456,
            "count": 0
           },
           {
            "bin_end": 0.2170405082577941,
            "bin_start": 0.18991044472556984,
            "count": 0
           },
           {
            "bin_end": 0.2441705717900184,
            "bin_start": 0.2170405082577941,
            "count": 0
           },
           {
            "bin_end": 0.27130063532224263,
            "bin_start": 0.2441705717900184,
            "count": 1
           }
          ],
          "max": "0.27130063532224263",
          "min": "0.0",
          "nan_count": 0,
          "unique_count": 2
         }
        },
        {
         "dtype": "float64",
         "name": "quill",
         "stats": {
          "histogram": [
           {
            "bin_end": 0.023776057462757454,
            "bin_start": 0,
            "count": 5
           },
           {
            "bin_end": 0.04755211492551491,
            "bin_start": 0.023776057462757454,
            "count": 0
           },
           {
            "bin_end": 0.07132817238827235,
            "bin_start": 0.04755211492551491,
            "count": 0
           },
           {
            "bin_end": 0.09510422985102981,
            "bin_start": 0.07132817238827235,
            "count": 0
           },
           {
            "bin_end": 0.11888028731378728,
            "bin_start": 0.09510422985102981,
            "count": 0
           },
           {
            "bin_end": 0.1426563447765447,
            "bin_start": 0.11888028731378728,
            "count": 0
           },
           {
            "bin_end": 0.16643240223930217,
            "bin_start": 0.1426563447765447,
            "count": 0
           },
           {
            "bin_end": 0.19020845970205963,
            "bin_start": 0.16643240223930217,
            "count": 0
           },
           {
            "bin_end": 0.2139845171648171,
            "bin_start": 0.19020845970205963,
            "count": 0
           },
           {
            "bin_end": 0.23776057462757455,
            "bin_start": 0.2139845171648171,
            "count": 1
           }
          ],
          "max": "0.23776057462757455",
          "min": "0.0",
          "nan_count": 0,
          "unique_count": 2
         }
        },
        {
         "dtype": "float64",
         "name": "race",
         "stats": {
          "histogram": [
           {
            "bin_end": 0.03801949974750217,
            "bin_start": 0,
            "count": 5
           },
           {
            "bin_end": 0.07603899949500434,
            "bin_start": 0.03801949974750217,
            "count": 0
           },
           {
            "bin_end": 0.11405849924250651,
            "bin_start": 0.07603899949500434,
            "count": 0
           },
           {
            "bin_end": 0.15207799899000868,
            "bin_start": 0.11405849924250651,
            "count": 0
           },
           {
            "bin_end": 0.19009749873751086,
            "bin_start": 0.15207799899000868,
            "count": 0
           },
           {
            "bin_end": 0.22811699848501302,
            "bin_start": 0.19009749873751086,
            "count": 0
           },
           {
            "bin_end": 0.2661364982325152,
            "bin_start": 0.22811699848501302,
            "count": 0
           },
           {
            "bin_end": 0.30415599798001736,
            "bin_start": 0.2661364982325152,
            "count": 0
           },
           {
            "bin_end": 0.34217549772751954,
            "bin_start": 0.30415599798001736,
            "count": 0
           },
           {
            "bin_end": 0.3801949974750217,
            "bin_start": 0.34217549772751954,
            "count": 1
           }
          ],
          "max": "0.3801949974750217",
          "min": "0.0",
          "nan_count": 0,
          "unique_count": 2
         }
        },
        {
         "dtype": "float64",
         "name": "realizes",
         "stats": {
          "histogram": [
           {
            "bin_end": 0.017672901145494517,
            "bin_start": 0,
            "count": 5
           },
           {
            "bin_end": 0.035345802290989034,
            "bin_start": 0.017672901145494517,
            "count": 0
           },
           {
            "bin_end": 0.05301870343648355,
            "bin_start": 0.035345802290989034,
            "count": 0
           },
           {
            "bin_end": 0.07069160458197807,
            "bin_start": 0.05301870343648355,
            "count": 0
           },
           {
            "bin_end": 0.08836450572747259,
            "bin_start": 0.07069160458197807,
            "count": 0
           },
           {
            "bin_end": 0.1060374068729671,
            "bin_start": 0.08836450572747259,
            "count": 0
           },
           {
            "bin_end": 0.12371030801846161,
            "bin_start": 0.1060374068729671,
            "count": 0
           },
           {
            "bin_end": 0.14138320916395614,
            "bin_start": 0.12371030801846161,
            "count": 0
           },
           {
            "bin_end": 0.15905611030945066,
            "bin_start": 0.14138320916395614,
            "count": 0
           },
           {
            "bin_end": 0.17672901145494516,
            "bin_start": 0.15905611030945066,
            "count": 1
           }
          ],
          "max": "0.17672901145494516",
          "min": "0.0",
          "nan_count": 0,
          "unique_count": 2
         }
        },
        {
         "dtype": "float64",
         "name": "rediscovers",
         "stats": {
          "histogram": [
           {
            "bin_end": 0.017672901145494517,
            "bin_start": 0,
            "count": 5
           },
           {
            "bin_end": 0.035345802290989034,
            "bin_start": 0.017672901145494517,
            "count": 0
           },
           {
            "bin_end": 0.05301870343648355,
            "bin_start": 0.035345802290989034,
            "count": 0
           },
           {
            "bin_end": 0.07069160458197807,
            "bin_start": 0.05301870343648355,
            "count": 0
           },
           {
            "bin_end": 0.08836450572747259,
            "bin_start": 0.07069160458197807,
            "count": 0
           },
           {
            "bin_end": 0.1060374068729671,
            "bin_start": 0.08836450572747259,
            "count": 0
           },
           {
            "bin_end": 0.12371030801846161,
            "bin_start": 0.1060374068729671,
            "count": 0
           },
           {
            "bin_end": 0.14138320916395614,
            "bin_start": 0.12371030801846161,
            "count": 0
           },
           {
            "bin_end": 0.15905611030945066,
            "bin_start": 0.14138320916395614,
            "count": 0
           },
           {
            "bin_end": 0.17672901145494516,
            "bin_start": 0.15905611030945066,
            "count": 1
           }
          ],
          "max": "0.17672901145494516",
          "min": "0.0",
          "nan_count": 0,
          "unique_count": 2
         }
        },
        {
         "dtype": "float64",
         "name": "reluctantly",
         "stats": {
          "histogram": [
           {
            "bin_end": 0.017672901145494517,
            "bin_start": 0,
            "count": 5
           },
           {
            "bin_end": 0.035345802290989034,
            "bin_start": 0.017672901145494517,
            "count": 0
           },
           {
            "bin_end": 0.05301870343648355,
            "bin_start": 0.035345802290989034,
            "count": 0
           },
           {
            "bin_end": 0.07069160458197807,
            "bin_start": 0.05301870343648355,
            "count": 0
           },
           {
            "bin_end": 0.08836450572747259,
            "bin_start": 0.07069160458197807,
            "count": 0
           },
           {
            "bin_end": 0.1060374068729671,
            "bin_start": 0.08836450572747259,
            "count": 0
           },
           {
            "bin_end": 0.12371030801846161,
            "bin_start": 0.1060374068729671,
            "count": 0
           },
           {
            "bin_end": 0.14138320916395614,
            "bin_start": 0.12371030801846161,
            "count": 0
           },
           {
            "bin_end": 0.15905611030945066,
            "bin_start": 0.14138320916395614,
            "count": 0
           },
           {
            "bin_end": 0.17672901145494516,
            "bin_start": 0.15905611030945066,
            "count": 1
           }
          ],
          "max": "0.17672901145494516",
          "min": "0.0",
          "nan_count": 0,
          "unique_count": 2
         }
        },
        {
         "dtype": "float64",
         "name": "reputation",
         "stats": {
          "histogram": [
           {
            "bin_end": 0.013565031766112132,
            "bin_start": 0,
            "count": 5
           },
           {
            "bin_end": 0.027130063532224264,
            "bin_start": 0.013565031766112132,
            "count": 0
           },
           {
            "bin_end": 0.0406950952983364,
            "bin_start": 0.027130063532224264,
            "count": 0
           },
           {
            "bin_end": 0.05426012706444853,
            "bin_start": 0.0406950952983364,
            "count": 0
           },
           {
            "bin_end": 0.06782515883056066,
            "bin_start": 0.05426012706444853,
            "count": 0
           },
           {
            "bin_end": 0.0813901905966728,
            "bin_start": 0.06782515883056066,
            "count": 0
           },
           {
            "bin_end": 0.09495522236278492,
            "bin_start": 0.0813901905966728,
            "count": 0
           },
           {
            "bin_end": 0.10852025412889706,
            "bin_start": 0.09495522236278492,
            "count": 0
           },
           {
            "bin_end": 0.1220852858950092,
            "bin_start": 0.10852025412889706,
            "count": 0
           },
           {
            "bin_end": 0.13565031766112132,
            "bin_start": 0.1220852858950092,
            "count": 1
           }
          ],
          "max": "0.13565031766112132",
          "min": "0.0",
          "nan_count": 0,
          "unique_count": 2
         }
        },
        {
         "dtype": "float64",
         "name": "responsibility",
         "stats": {
          "histogram": [
           {
            "bin_end": 0.013565031766112132,
            "bin_start": 0,
            "count": 5
           },
           {
            "bin_end": 0.027130063532224264,
            "bin_start": 0.013565031766112132,
            "count": 0
           },
           {
            "bin_end": 0.0406950952983364,
            "bin_start": 0.027130063532224264,
            "count": 0
           },
           {
            "bin_end": 0.05426012706444853,
            "bin_start": 0.0406950952983364,
            "count": 0
           },
           {
            "bin_end": 0.06782515883056066,
            "bin_start": 0.05426012706444853,
            "count": 0
           },
           {
            "bin_end": 0.0813901905966728,
            "bin_start": 0.06782515883056066,
            "count": 0
           },
           {
            "bin_end": 0.09495522236278492,
            "bin_start": 0.0813901905966728,
            "count": 0
           },
           {
            "bin_end": 0.10852025412889706,
            "bin_start": 0.09495522236278492,
            "count": 0
           },
           {
            "bin_end": 0.1220852858950092,
            "bin_start": 0.10852025412889706,
            "count": 0
           },
           {
            "bin_end": 0.13565031766112132,
            "bin_start": 0.1220852858950092,
            "count": 1
           }
          ],
          "max": "0.13565031766112132",
          "min": "0.0",
          "nan_count": 0,
          "unique_count": 2
         }
        },
        {
         "dtype": "float64",
         "name": "rests",
         "stats": {
          "histogram": [
           {
            "bin_end": 0.017672901145494517,
            "bin_start": 0,
            "count": 5
           },
           {
            "bin_end": 0.035345802290989034,
            "bin_start": 0.017672901145494517,
            "count": 0
           },
           {
            "bin_end": 0.05301870343648355,
            "bin_start": 0.035345802290989034,
            "count": 0
           },
           {
            "bin_end": 0.07069160458197807,
            "bin_start": 0.05301870343648355,
            "count": 0
           },
           {
            "bin_end": 0.08836450572747259,
            "bin_start": 0.07069160458197807,
            "count": 0
           },
           {
            "bin_end": 0.1060374068729671,
            "bin_start": 0.08836450572747259,
            "count": 0
           },
           {
            "bin_end": 0.12371030801846161,
            "bin_start": 0.1060374068729671,
            "count": 0
           },
           {
            "bin_end": 0.14138320916395614,
            "bin_start": 0.12371030801846161,
            "count": 0
           },
           {
            "bin_end": 0.15905611030945066,
            "bin_start": 0.14138320916395614,
            "count": 0
           },
           {
            "bin_end": 0.17672901145494516,
            "bin_start": 0.15905611030945066,
            "count": 1
           }
          ],
          "max": "0.17672901145494516",
          "min": "0.0",
          "nan_count": 0,
          "unique_count": 2
         }
        },
        {
         "dtype": "float64",
         "name": "resurfaces",
         "stats": {
          "histogram": [
           {
            "bin_end": 0.013565031766112132,
            "bin_start": 0,
            "count": 5
           },
           {
            "bin_end": 0.027130063532224264,
            "bin_start": 0.013565031766112132,
            "count": 0
           },
           {
            "bin_end": 0.0406950952983364,
            "bin_start": 0.027130063532224264,
            "count": 0
           },
           {
            "bin_end": 0.05426012706444853,
            "bin_start": 0.0406950952983364,
            "count": 0
           },
           {
            "bin_end": 0.06782515883056066,
            "bin_start": 0.05426012706444853,
            "count": 0
           },
           {
            "bin_end": 0.0813901905966728,
            "bin_start": 0.06782515883056066,
            "count": 0
           },
           {
            "bin_end": 0.09495522236278492,
            "bin_start": 0.0813901905966728,
            "count": 0
           },
           {
            "bin_end": 0.10852025412889706,
            "bin_start": 0.09495522236278492,
            "count": 0
           },
           {
            "bin_end": 0.1220852858950092,
            "bin_start": 0.10852025412889706,
            "count": 0
           },
           {
            "bin_end": 0.13565031766112132,
            "bin_start": 0.1220852858950092,
            "count": 1
           }
          ],
          "max": "0.13565031766112132",
          "min": "0.0",
          "nan_count": 0,
          "unique_count": 2
         }
        },
        {
         "dtype": "float64",
         "name": "revenge",
         "stats": {
          "histogram": [
           {
            "bin_end": 0.03333333333333333,
            "bin_start": 0,
            "count": 5
           },
           {
            "bin_end": 0.06666666666666667,
            "bin_start": 0.03333333333333333,
            "count": 0
           },
           {
            "bin_end": 0.1,
            "bin_start": 0.06666666666666667,
            "count": 0
           },
           {
            "bin_end": 0.13333333333333333,
            "bin_start": 0.1,
            "count": 0
           },
           {
            "bin_end": 0.16666666666666666,
            "bin_start": 0.13333333333333333,
            "count": 0
           },
           {
            "bin_end": 0.2,
            "bin_start": 0.16666666666666666,
            "count": 0
           },
           {
            "bin_end": 0.23333333333333334,
            "bin_start": 0.2,
            "count": 0
           },
           {
            "bin_end": 0.26666666666666666,
            "bin_start": 0.23333333333333334,
            "count": 0
           },
           {
            "bin_end": 0.3,
            "bin_start": 0.26666666666666666,
            "count": 0
           },
           {
            "bin_end": 0.3333333333333333,
            "bin_start": 0.3,
            "count": 1
           }
          ],
          "max": "0.3333333333333333",
          "min": "0.0",
          "nan_count": 0,
          "unique_count": 2
         }
        },
        {
         "dtype": "float64",
         "name": "road",
         "stats": {
          "histogram": [
           {
            "bin_end": 0.019009749873751085,
            "bin_start": 0,
            "count": 5
           },
           {
            "bin_end": 0.03801949974750217,
            "bin_start": 0.019009749873751085,
            "count": 0
           },
           {
            "bin_end": 0.057029249621253254,
            "bin_start": 0.03801949974750217,
            "count": 0
           },
           {
            "bin_end": 0.07603899949500434,
            "bin_start": 0.057029249621253254,
            "count": 0
           },
           {
            "bin_end": 0.09504874936875543,
            "bin_start": 0.07603899949500434,
            "count": 0
           },
           {
            "bin_end": 0.11405849924250651,
            "bin_start": 0.09504874936875543,
            "count": 0
           },
           {
            "bin_end": 0.1330682491162576,
            "bin_start": 0.11405849924250651,
            "count": 0
           },
           {
            "bin_end": 0.15207799899000868,
            "bin_start": 0.1330682491162576,
            "count": 0
           },
           {
            "bin_end": 0.17108774886375977,
            "bin_start": 0.15207799899000868,
            "count": 0
           },
           {
            "bin_end": 0.19009749873751086,
            "bin_start": 0.17108774886375977,
            "count": 1
           }
          ],
          "max": "0.19009749873751086",
          "min": "0.0",
          "nan_count": 0,
          "unique_count": 2
         }
        },
        {
         "dtype": "float64",
         "name": "rocky",
         "stats": {
          "histogram": [
           {
            "bin_end": 0.019009749873751085,
            "bin_start": 0,
            "count": 5
           },
           {
            "bin_end": 0.03801949974750217,
            "bin_start": 0.019009749873751085,
            "count": 0
           },
           {
            "bin_end": 0.057029249621253254,
            "bin_start": 0.03801949974750217,
            "count": 0
           },
           {
            "bin_end": 0.07603899949500434,
            "bin_start": 0.057029249621253254,
            "count": 0
           },
           {
            "bin_end": 0.09504874936875543,
            "bin_start": 0.07603899949500434,
            "count": 0
           },
           {
            "bin_end": 0.11405849924250651,
            "bin_start": 0.09504874936875543,
            "count": 0
           },
           {
            "bin_end": 0.1330682491162576,
            "bin_start": 0.11405849924250651,
            "count": 0
           },
           {
            "bin_end": 0.15207799899000868,
            "bin_start": 0.1330682491162576,
            "count": 0
           },
           {
            "bin_end": 0.17108774886375977,
            "bin_start": 0.15207799899000868,
            "count": 0
           },
           {
            "bin_end": 0.19009749873751086,
            "bin_start": 0.17108774886375977,
            "count": 1
           }
          ],
          "max": "0.19009749873751086",
          "min": "0.0",
          "nan_count": 0,
          "unique_count": 2
         }
        },
        {
         "dtype": "float64",
         "name": "ronan",
         "stats": {
          "histogram": [
           {
            "bin_end": 0.023776057462757454,
            "bin_start": 0,
            "count": 5
           },
           {
            "bin_end": 0.04755211492551491,
            "bin_start": 0.023776057462757454,
            "count": 0
           },
           {
            "bin_end": 0.07132817238827235,
            "bin_start": 0.04755211492551491,
            "count": 0
           },
           {
            "bin_end": 0.09510422985102981,
            "bin_start": 0.07132817238827235,
            "count": 0
           },
           {
            "bin_end": 0.11888028731378728,
            "bin_start": 0.09510422985102981,
            "count": 0
           },
           {
            "bin_end": 0.1426563447765447,
            "bin_start": 0.11888028731378728,
            "count": 0
           },
           {
            "bin_end": 0.16643240223930217,
            "bin_start": 0.1426563447765447,
            "count": 0
           },
           {
            "bin_end": 0.19020845970205963,
            "bin_start": 0.16643240223930217,
            "count": 0
           },
           {
            "bin_end": 0.2139845171648171,
            "bin_start": 0.19020845970205963,
            "count": 0
           },
           {
            "bin_end": 0.23776057462757455,
            "bin_start": 0.2139845171648171,
            "count": 1
           }
          ],
          "max": "0.23776057462757455",
          "min": "0.0",
          "nan_count": 0,
          "unique_count": 2
         }
        },
        {
         "dtype": "float64",
         "name": "seeks",
         "stats": {
          "histogram": [
           {
            "bin_end": 0.03333333333333333,
            "bin_start": 0,
            "count": 5
           },
           {
            "bin_end": 0.06666666666666667,
            "bin_start": 0.03333333333333333,
            "count": 0
           },
           {
            "bin_end": 0.1,
            "bin_start": 0.06666666666666667,
            "count": 0
           },
           {
            "bin_end": 0.13333333333333333,
            "bin_start": 0.1,
            "count": 0
           },
           {
            "bin_end": 0.16666666666666666,
            "bin_start": 0.13333333333333333,
            "count": 0
           },
           {
            "bin_end": 0.2,
            "bin_start": 0.16666666666666666,
            "count": 0
           },
           {
            "bin_end": 0.23333333333333334,
            "bin_start": 0.2,
            "count": 0
           },
           {
            "bin_end": 0.26666666666666666,
            "bin_start": 0.23333333333333334,
            "count": 0
           },
           {
            "bin_end": 0.3,
            "bin_start": 0.26666666666666666,
            "count": 0
           },
           {
            "bin_end": 0.3333333333333333,
            "bin_start": 0.3,
            "count": 1
           }
          ],
          "max": "0.3333333333333333",
          "min": "0.0",
          "nan_count": 0,
          "unique_count": 2
         }
        },
        {
         "dtype": "float64",
         "name": "selina",
         "stats": {
          "histogram": [
           {
            "bin_end": 0.013565031766112132,
            "bin_start": 0,
            "count": 5
           },
           {
            "bin_end": 0.027130063532224264,
            "bin_start": 0.013565031766112132,
            "count": 0
           },
           {
            "bin_end": 0.0406950952983364,
            "bin_start": 0.027130063532224264,
            "count": 0
           },
           {
            "bin_end": 0.05426012706444853,
            "bin_start": 0.0406950952983364,
            "count": 0
           },
           {
            "bin_end": 0.06782515883056066,
            "bin_start": 0.05426012706444853,
            "count": 0
           },
           {
            "bin_end": 0.0813901905966728,
            "bin_start": 0.06782515883056066,
            "count": 0
           },
           {
            "bin_end": 0.09495522236278492,
            "bin_start": 0.0813901905966728,
            "count": 0
           },
           {
            "bin_end": 0.10852025412889706,
            "bin_start": 0.09495522236278492,
            "count": 0
           },
           {
            "bin_end": 0.1220852858950092,
            "bin_start": 0.10852025412889706,
            "count": 0
           },
           {
            "bin_end": 0.13565031766112132,
            "bin_start": 0.1220852858950092,
            "count": 1
           }
          ],
          "max": "0.13565031766112132",
          "min": "0.0",
          "nan_count": 0,
          "unique_count": 2
         }
        },
        {
         "dtype": "float64",
         "name": "shaw",
         "stats": {
          "histogram": [
           {
            "bin_end": 0.03333333333333333,
            "bin_start": 0,
            "count": 5
           },
           {
            "bin_end": 0.06666666666666667,
            "bin_start": 0.03333333333333333,
            "count": 0
           },
           {
            "bin_end": 0.1,
            "bin_start": 0.06666666666666667,
            "count": 0
           },
           {
            "bin_end": 0.13333333333333333,
            "bin_start": 0.1,
            "count": 0
           },
           {
            "bin_end": 0.16666666666666666,
            "bin_start": 0.13333333333333333,
            "count": 0
           },
           {
            "bin_end": 0.2,
            "bin_start": 0.16666666666666666,
            "count": 0
           },
           {
            "bin_end": 0.23333333333333334,
            "bin_start": 0.2,
            "count": 0
           },
           {
            "bin_end": 0.26666666666666666,
            "bin_start": 0.23333333333333334,
            "count": 0
           },
           {
            "bin_end": 0.3,
            "bin_start": 0.26666666666666666,
            "count": 0
           },
           {
            "bin_end": 0.3333333333333333,
            "bin_start": 0.3,
            "count": 1
           }
          ],
          "max": "0.3333333333333333",
          "min": "0.0",
          "nan_count": 0,
          "unique_count": 2
         }
        },
        {
         "dtype": "float64",
         "name": "star",
         "stats": {
          "histogram": [
           {
            "bin_end": 0.019009749873751085,
            "bin_start": 0,
            "count": 5
           },
           {
            "bin_end": 0.03801949974750217,
            "bin_start": 0.019009749873751085,
            "count": 0
           },
           {
            "bin_end": 0.057029249621253254,
            "bin_start": 0.03801949974750217,
            "count": 0
           },
           {
            "bin_end": 0.07603899949500434,
            "bin_start": 0.057029249621253254,
            "count": 0
           },
           {
            "bin_end": 0.09504874936875543,
            "bin_start": 0.07603899949500434,
            "count": 0
           },
           {
            "bin_end": 0.11405849924250651,
            "bin_start": 0.09504874936875543,
            "count": 0
           },
           {
            "bin_end": 0.1330682491162576,
            "bin_start": 0.11405849924250651,
            "count": 0
           },
           {
            "bin_end": 0.15207799899000868,
            "bin_start": 0.1330682491162576,
            "count": 0
           },
           {
            "bin_end": 0.17108774886375977,
            "bin_start": 0.15207799899000868,
            "count": 0
           },
           {
            "bin_end": 0.19009749873751086,
            "bin_start": 0.17108774886375977,
            "count": 1
           }
          ],
          "max": "0.19009749873751086",
          "min": "0.0",
          "nan_count": 0,
          "unique_count": 2
         }
        },
        {
         "dtype": "float64",
         "name": "subsequently",
         "stats": {
          "histogram": [
           {
            "bin_end": 0.013565031766112132,
            "bin_start": 0,
            "count": 5
           },
           {
            "bin_end": 0.027130063532224264,
            "bin_start": 0.013565031766112132,
            "count": 0
           },
           {
            "bin_end": 0.0406950952983364,
            "bin_start": 0.027130063532224264,
            "count": 0
           },
           {
            "bin_end": 0.05426012706444853,
            "bin_start": 0.0406950952983364,
            "count": 0
           },
           {
            "bin_end": 0.06782515883056066,
            "bin_start": 0.05426012706444853,
            "count": 0
           },
           {
            "bin_end": 0.0813901905966728,
            "bin_start": 0.06782515883056066,
            "count": 0
           },
           {
            "bin_end": 0.09495522236278492,
            "bin_start": 0.0813901905966728,
            "count": 0
           },
           {
            "bin_end": 0.10852025412889706,
            "bin_start": 0.09495522236278492,
            "count": 0
           },
           {
            "bin_end": 0.1220852858950092,
            "bin_start": 0.10852025412889706,
            "count": 0
           },
           {
            "bin_end": 0.13565031766112132,
            "bin_start": 0.1220852858950092,
            "count": 1
           }
          ],
          "max": "0.13565031766112132",
          "min": "0.0",
          "nan_count": 0,
          "unique_count": 2
         }
        },
        {
         "dtype": "float64",
         "name": "supernatural",
         "stats": {
          "histogram": [
           {
            "bin_end": 0.027044393700509234,
            "bin_start": 0,
            "count": 5
           },
           {
            "bin_end": 0.05408878740101847,
            "bin_start": 0.027044393700509234,
            "count": 0
           },
           {
            "bin_end": 0.0811331811015277,
            "bin_start": 0.05408878740101847,
            "count": 0
           },
           {
            "bin_end": 0.10817757480203694,
            "bin_start": 0.0811331811015277,
            "count": 0
           },
           {
            "bin_end": 0.13522196850254617,
            "bin_start": 0.10817757480203694,
            "count": 0
           },
           {
            "bin_end": 0.1622663622030554,
            "bin_start": 0.13522196850254617,
            "count": 0
           },
           {
            "bin_end": 0.18931075590356464,
            "bin_start": 0.1622663622030554,
            "count": 0
           },
           {
            "bin_end": 0.21635514960407387,
            "bin_start": 0.18931075590356464,
            "count": 0
           },
           {
            "bin_end": 0.2433995433045831,
            "bin_start": 0.21635514960407387,
            "count": 0
           },
           {
            "bin_end": 0.27044393700509234,
            "bin_start": 0.2433995433045831,
            "count": 1
           }
          ],
          "max": "0.27044393700509234",
          "min": "0.0",
          "nan_count": 0,
          "unique_count": 2
         }
        },
        {
         "dtype": "float64",
         "name": "survival",
         "stats": {
          "histogram": [
           {
            "bin_end": 0.017672901145494517,
            "bin_start": 0,
            "count": 5
           },
           {
            "bin_end": 0.035345802290989034,
            "bin_start": 0.017672901145494517,
            "count": 0
           },
           {
            "bin_end": 0.05301870343648355,
            "bin_start": 0.035345802290989034,
            "count": 0
           },
           {
            "bin_end": 0.07069160458197807,
            "bin_start": 0.05301870343648355,
            "count": 0
           },
           {
            "bin_end": 0.08836450572747259,
            "bin_start": 0.07069160458197807,
            "count": 0
           },
           {
            "bin_end": 0.1060374068729671,
            "bin_start": 0.08836450572747259,
            "count": 0
           },
           {
            "bin_end": 0.12371030801846161,
            "bin_start": 0.1060374068729671,
            "count": 0
           },
           {
            "bin_end": 0.14138320916395614,
            "bin_start": 0.12371030801846161,
            "count": 0
           },
           {
            "bin_end": 0.15905611030945066,
            "bin_start": 0.14138320916395614,
            "count": 0
           },
           {
            "bin_end": 0.17672901145494516,
            "bin_start": 0.15905611030945066,
            "count": 1
           }
          ],
          "max": "0.17672901145494516",
          "min": "0.0",
          "nan_count": 0,
          "unique_count": 2
         }
        },
        {
         "dtype": "float64",
         "name": "target",
         "stats": {
          "histogram": [
           {
            "bin_end": 0.023776057462757454,
            "bin_start": 0,
            "count": 5
           },
           {
            "bin_end": 0.04755211492551491,
            "bin_start": 0.023776057462757454,
            "count": 0
           },
           {
            "bin_end": 0.07132817238827235,
            "bin_start": 0.04755211492551491,
            "count": 0
           },
           {
            "bin_end": 0.09510422985102981,
            "bin_start": 0.07132817238827235,
            "count": 0
           },
           {
            "bin_end": 0.11888028731378728,
            "bin_start": 0.09510422985102981,
            "count": 0
           },
           {
            "bin_end": 0.1426563447765447,
            "bin_start": 0.11888028731378728,
            "count": 0
           },
           {
            "bin_end": 0.16643240223930217,
            "bin_start": 0.1426563447765447,
            "count": 0
           },
           {
            "bin_end": 0.19020845970205963,
            "bin_start": 0.16643240223930217,
            "count": 0
           },
           {
            "bin_end": 0.2139845171648171,
            "bin_start": 0.19020845970205963,
            "count": 0
           },
           {
            "bin_end": 0.23776057462757455,
            "bin_start": 0.2139845171648171,
            "count": 1
           }
          ],
          "max": "0.23776057462757455",
          "min": "0.0",
          "nan_count": 0,
          "unique_count": 2
         }
        },
        {
         "dtype": "float64",
         "name": "terrorist",
         "stats": {
          "histogram": [
           {
            "bin_end": 0.013565031766112132,
            "bin_start": 0,
            "count": 5
           },
           {
            "bin_end": 0.027130063532224264,
            "bin_start": 0.013565031766112132,
            "count": 0
           },
           {
            "bin_end": 0.0406950952983364,
            "bin_start": 0.027130063532224264,
            "count": 0
           },
           {
            "bin_end": 0.05426012706444853,
            "bin_start": 0.0406950952983364,
            "count": 0
           },
           {
            "bin_end": 0.06782515883056066,
            "bin_start": 0.05426012706444853,
            "count": 0
           },
           {
            "bin_end": 0.0813901905966728,
            "bin_start": 0.06782515883056066,
            "count": 0
           },
           {
            "bin_end": 0.09495522236278492,
            "bin_start": 0.0813901905966728,
            "count": 0
           },
           {
            "bin_end": 0.10852025412889706,
            "bin_start": 0.09495522236278492,
            "count": 0
           },
           {
            "bin_end": 0.1220852858950092,
            "bin_start": 0.10852025412889706,
            "count": 0
           },
           {
            "bin_end": 0.13565031766112132,
            "bin_start": 0.1220852858950092,
            "count": 1
           }
          ],
          "max": "0.13565031766112132",
          "min": "0.0",
          "nan_count": 0,
          "unique_count": 2
         }
        },
        {
         "dtype": "float64",
         "name": "threats",
         "stats": {
          "histogram": [
           {
            "bin_end": 0.027044393700509234,
            "bin_start": 0,
            "count": 5
           },
           {
            "bin_end": 0.05408878740101847,
            "bin_start": 0.027044393700509234,
            "count": 0
           },
           {
            "bin_end": 0.0811331811015277,
            "bin_start": 0.05408878740101847,
            "count": 0
           },
           {
            "bin_end": 0.10817757480203694,
            "bin_start": 0.0811331811015277,
            "count": 0
           },
           {
            "bin_end": 0.13522196850254617,
            "bin_start": 0.10817757480203694,
            "count": 0
           },
           {
            "bin_end": 0.1622663622030554,
            "bin_start": 0.13522196850254617,
            "count": 0
           },
           {
            "bin_end": 0.18931075590356464,
            "bin_start": 0.1622663622030554,
            "count": 0
           },
           {
            "bin_end": 0.21635514960407387,
            "bin_start": 0.18931075590356464,
            "count": 0
           },
           {
            "bin_end": 0.2433995433045831,
            "bin_start": 0.21635514960407387,
            "count": 0
           },
           {
            "bin_end": 0.27044393700509234,
            "bin_start": 0.2433995433045831,
            "count": 1
           }
          ],
          "max": "0.27044393700509234",
          "min": "0.0",
          "nan_count": 0,
          "unique_count": 2
         }
        },
        {
         "dtype": "float64",
         "name": "toretto",
         "stats": {
          "histogram": [
           {
            "bin_end": 0.03333333333333333,
            "bin_start": 0,
            "count": 5
           },
           {
            "bin_end": 0.06666666666666667,
            "bin_start": 0.03333333333333333,
            "count": 0
           },
           {
            "bin_end": 0.1,
            "bin_start": 0.06666666666666667,
            "count": 0
           },
           {
            "bin_end": 0.13333333333333333,
            "bin_start": 0.1,
            "count": 0
           },
           {
            "bin_end": 0.16666666666666666,
            "bin_start": 0.13333333333333333,
            "count": 0
           },
           {
            "bin_end": 0.2,
            "bin_start": 0.16666666666666666,
            "count": 0
           },
           {
            "bin_end": 0.23333333333333334,
            "bin_start": 0.2,
            "count": 0
           },
           {
            "bin_end": 0.26666666666666666,
            "bin_start": 0.23333333333333334,
            "count": 0
           },
           {
            "bin_end": 0.3,
            "bin_start": 0.26666666666666666,
            "count": 0
           },
           {
            "bin_end": 0.3333333333333333,
            "bin_start": 0.3,
            "count": 1
           }
          ],
          "max": "0.3333333333333333",
          "min": "0.0",
          "nan_count": 0,
          "unique_count": 2
         }
        },
        {
         "dtype": "float64",
         "name": "transported",
         "stats": {
          "histogram": [
           {
            "bin_end": 0.017672901145494517,
            "bin_start": 0,
            "count": 5
           },
           {
            "bin_end": 0.035345802290989034,
            "bin_start": 0.017672901145494517,
            "count": 0
           },
           {
            "bin_end": 0.05301870343648355,
            "bin_start": 0.035345802290989034,
            "count": 0
           },
           {
            "bin_end": 0.07069160458197807,
            "bin_start": 0.05301870343648355,
            "count": 0
           },
           {
            "bin_end": 0.08836450572747259,
            "bin_start": 0.07069160458197807,
            "count": 0
           },
           {
            "bin_end": 0.1060374068729671,
            "bin_start": 0.08836450572747259,
            "count": 0
           },
           {
            "bin_end": 0.12371030801846161,
            "bin_start": 0.1060374068729671,
            "count": 0
           },
           {
            "bin_end": 0.14138320916395614,
            "bin_start": 0.12371030801846161,
            "count": 0
           },
           {
            "bin_end": 0.15905611030945066,
            "bin_start": 0.14138320916395614,
            "count": 0
           },
           {
            "bin_end": 0.17672901145494516,
            "bin_start": 0.15905611030945066,
            "count": 1
           }
          ],
          "max": "0.17672901145494516",
          "min": "0.0",
          "nan_count": 0,
          "unique_count": 2
         }
        },
        {
         "dtype": "float64",
         "name": "villainous",
         "stats": {
          "histogram": [
           {
            "bin_end": 0.013565031766112132,
            "bin_start": 0,
            "count": 5
           },
           {
            "bin_end": 0.027130063532224264,
            "bin_start": 0.013565031766112132,
            "count": 0
           },
           {
            "bin_end": 0.0406950952983364,
            "bin_start": 0.027130063532224264,
            "count": 0
           },
           {
            "bin_end": 0.05426012706444853,
            "bin_start": 0.0406950952983364,
            "count": 0
           },
           {
            "bin_end": 0.06782515883056066,
            "bin_start": 0.05426012706444853,
            "count": 0
           },
           {
            "bin_end": 0.0813901905966728,
            "bin_start": 0.06782515883056066,
            "count": 0
           },
           {
            "bin_end": 0.09495522236278492,
            "bin_start": 0.0813901905966728,
            "count": 0
           },
           {
            "bin_end": 0.10852025412889706,
            "bin_start": 0.09495522236278492,
            "count": 0
           },
           {
            "bin_end": 0.1220852858950092,
            "bin_start": 0.10852025412889706,
            "count": 0
           },
           {
            "bin_end": 0.13565031766112132,
            "bin_start": 0.1220852858950092,
            "count": 1
           }
          ],
          "max": "0.13565031766112132",
          "min": "0.0",
          "nan_count": 0,
          "unique_count": 2
         }
        },
        {
         "dtype": "float64",
         "name": "wanted",
         "stats": {
          "histogram": [
           {
            "bin_end": 0.023776057462757454,
            "bin_start": 0,
            "count": 5
           },
           {
            "bin_end": 0.04755211492551491,
            "bin_start": 0.023776057462757454,
            "count": 0
           },
           {
            "bin_end": 0.07132817238827235,
            "bin_start": 0.04755211492551491,
            "count": 0
           },
           {
            "bin_end": 0.09510422985102981,
            "bin_start": 0.07132817238827235,
            "count": 0
           },
           {
            "bin_end": 0.11888028731378728,
            "bin_start": 0.09510422985102981,
            "count": 0
           },
           {
            "bin_end": 0.1426563447765447,
            "bin_start": 0.11888028731378728,
            "count": 0
           },
           {
            "bin_end": 0.16643240223930217,
            "bin_start": 0.1426563447765447,
            "count": 0
           },
           {
            "bin_end": 0.19020845970205963,
            "bin_start": 0.16643240223930217,
            "count": 0
           },
           {
            "bin_end": 0.2139845171648171,
            "bin_start": 0.19020845970205963,
            "count": 0
           },
           {
            "bin_end": 0.23776057462757455,
            "bin_start": 0.2139845171648171,
            "count": 1
           }
          ],
          "max": "0.23776057462757455",
          "min": "0.0",
          "nan_count": 0,
          "unique_count": 2
         }
        },
        {
         "dtype": "float64",
         "name": "war",
         "stats": {
          "histogram": [
           {
            "bin_end": 0.017672901145494517,
            "bin_start": 0,
            "count": 5
           },
           {
            "bin_end": 0.035345802290989034,
            "bin_start": 0.017672901145494517,
            "count": 0
           },
           {
            "bin_end": 0.05301870343648355,
            "bin_start": 0.035345802290989034,
            "count": 0
           },
           {
            "bin_end": 0.07069160458197807,
            "bin_start": 0.05301870343648355,
            "count": 0
           },
           {
            "bin_end": 0.08836450572747259,
            "bin_start": 0.07069160458197807,
            "count": 0
           },
           {
            "bin_end": 0.1060374068729671,
            "bin_start": 0.08836450572747259,
            "count": 0
           },
           {
            "bin_end": 0.12371030801846161,
            "bin_start": 0.1060374068729671,
            "count": 0
           },
           {
            "bin_end": 0.14138320916395614,
            "bin_start": 0.12371030801846161,
            "count": 0
           },
           {
            "bin_end": 0.15905611030945066,
            "bin_start": 0.14138320916395614,
            "count": 0
           },
           {
            "bin_end": 0.17672901145494516,
            "bin_start": 0.15905611030945066,
            "count": 1
           }
          ],
          "max": "0.17672901145494516",
          "min": "0.0",
          "nan_count": 0,
          "unique_count": 2
         }
        },
        {
         "dtype": "float64",
         "name": "weary",
         "stats": {
          "histogram": [
           {
            "bin_end": 0.017672901145494517,
            "bin_start": 0,
            "count": 5
           },
           {
            "bin_end": 0.035345802290989034,
            "bin_start": 0.017672901145494517,
            "count": 0
           },
           {
            "bin_end": 0.05301870343648355,
            "bin_start": 0.035345802290989034,
            "count": 0
           },
           {
            "bin_end": 0.07069160458197807,
            "bin_start": 0.05301870343648355,
            "count": 0
           },
           {
            "bin_end": 0.08836450572747259,
            "bin_start": 0.07069160458197807,
            "count": 0
           },
           {
            "bin_end": 0.1060374068729671,
            "bin_start": 0.08836450572747259,
            "count": 0
           },
           {
            "bin_end": 0.12371030801846161,
            "bin_start": 0.1060374068729671,
            "count": 0
           },
           {
            "bin_end": 0.14138320916395614,
            "bin_start": 0.12371030801846161,
            "count": 0
           },
           {
            "bin_end": 0.15905611030945066,
            "bin_start": 0.14138320916395614,
            "count": 0
           },
           {
            "bin_end": 0.17672901145494516,
            "bin_start": 0.15905611030945066,
            "count": 1
           }
          ],
          "max": "0.17672901145494516",
          "min": "0.0",
          "nan_count": 0,
          "unique_count": 2
         }
        },
        {
         "dtype": "float64",
         "name": "world",
         "stats": {
          "histogram": [
           {
            "bin_end": 0.01558826683471759,
            "bin_start": 0,
            "count": 4
           },
           {
            "bin_end": 0.03117653366943518,
            "bin_start": 0.01558826683471759,
            "count": 0
           },
           {
            "bin_end": 0.04676480050415277,
            "bin_start": 0.03117653366943518,
            "count": 0
           },
           {
            "bin_end": 0.06235306733887036,
            "bin_start": 0.04676480050415277,
            "count": 0
           },
           {
            "bin_end": 0.07794133417358795,
            "bin_start": 0.06235306733887036,
            "count": 0
           },
           {
            "bin_end": 0.09352960100830554,
            "bin_start": 0.07794133417358795,
            "count": 0
           },
           {
            "bin_end": 0.10911786784302313,
            "bin_start": 0.09352960100830554,
            "count": 0
           },
           {
            "bin_end": 0.12470613467774072,
            "bin_start": 0.10911786784302313,
            "count": 0
           },
           {
            "bin_end": 0.1402944015124583,
            "bin_start": 0.12470613467774072,
            "count": 0
           },
           {
            "bin_end": 0.1558826683471759,
            "bin_start": 0.1402944015124583,
            "count": 2
           }
          ],
          "max": "0.1558826683471759",
          "min": "0.0",
          "nan_count": 0,
          "unique_count": 3
         }
        },
        {
         "dtype": "float64",
         "name": "years",
         "stats": {
          "histogram": [
           {
            "bin_end": 0.038993414481356126,
            "bin_start": 0,
            "count": 4
           },
           {
            "bin_end": 0.07798682896271225,
            "bin_start": 0.038993414481356126,
            "count": 0
           },
           {
            "bin_end": 0.11698024344406838,
            "bin_start": 0.07798682896271225,
            "count": 1
           },
           {
            "bin_end": 0.1559736579254245,
            "bin_start": 0.11698024344406838,
            "count": 0
           },
           {
            "bin_end": 0.19496707240678063,
            "bin_start": 0.1559736579254245,
            "count": 0
           },
           {
            "bin_end": 0.23396048688813675,
            "bin_start": 0.19496707240678063,
            "count": 0
           },
           {
            "bin_end": 0.2729539013694929,
            "bin_start": 0.23396048688813675,
            "count": 0
           },
           {
            "bin_end": 0.311947315850849,
            "bin_start": 0.2729539013694929,
            "count": 0
           },
           {
            "bin_end": 0.35094073033220513,
            "bin_start": 0.311947315850849,
            "count": 0
           },
           {
            "bin_end": 0.38993414481356126,
            "bin_start": 0.35094073033220513,
            "count": 1
           }
          ],
          "max": "0.38993414481356126",
          "min": "0.0",
          "nan_count": 0,
          "unique_count": 3
         }
        },
        {
         "dtype": "int64",
         "name": "_deepnote_index_column"
        }
       ],
       "row_count": 6,
       "rows": [
        {
         "26": 0,
         "_deepnote_index_column": 0,
         "abducted": 0,
         "accuser": 0,
         "adventure": 0,
         "adventures": 0,
         "assumes": 0,
         "attorney": 0,
         "awesomeness": 0,
         "bane": 0,
         "barsoom": 0,
         "batman": 0,
         "branded": 0,
         "brink": 0,
         "brother": 0.3333333333333333,
         "captain": 0,
         "car": 0,
         "carter": 0,
         "caught": 0,
         "championship": 0,
         "city": 0,
         "closer": 0,
         "collapse": 0,
         "comatose": 0.3333333333333333,
         "compete": 0,
         "conflict": 0,
         "continuing": 0,
         "crimes": 0,
         "dark": 0,
         "death": 0,
         "deckard": 0.3333333333333333,
         "dent": 0,
         "department": 0,
         "different": 0,
         "discovering": 0,
         "district": 0,
         "dominic": 0.3333333333333333,
         "earth": 0,
         "embroiled": 0,
         "encounters": 0,
         "enemy": 0,
         "epic": 0,
         "espionage": 0,
         "exotic": 0,
         "face": 0,
         "family": 0.3333333333333333,
         "finds": 0,
         "finest": 0,
         "following": 0,
         "gets": 0,
         "gotham": 0,
         "grand": 0,
         "hands": 0,
         "harvey": 0,
         "head": 0,
         "home": 0,
         "hugely": 0,
         "humanity": 0,
         "hunted": 0,
         "inexplicably": 0,
         "international": 0,
         "intriguing": 0,
         "john": 0,
         "knight": 0,
         "kyle": 0,
         "late": 0,
         "later": 0,
         "leader": 0,
         "legendary": 0,
         "light": 0,
         "lightning": 0,
         "little": 0,
         "manhunt": 0,
         "mars": 0,
         "mater": 0,
         "mcqueen": 0,
         "military": 0,
         "mysterious": 0,
         "new": 0,
         "orb": 0,
         "overseas": 0,
         "overwhelms": 0,
         "pal": 0,
         "people": 0,
         "peter": 0,
         "planet": 0,
         "po": 0,
         "police": 0,
         "prime": 0,
         "prix": 0,
         "protect": 0,
         "quill": 0,
         "race": 0,
         "realizes": 0,
         "rediscovers": 0,
         "reluctantly": 0,
         "reputation": 0,
         "responsibility": 0,
         "rests": 0,
         "resurfaces": 0,
         "revenge": 0.3333333333333333,
         "road": 0,
         "rocky": 0,
         "ronan": 0,
         "seeks": 0.3333333333333333,
         "selina": 0,
         "shaw": 0.3333333333333333,
         "star": 0,
         "subsequently": 0,
         "supernatural": 0,
         "survival": 0,
         "target": 0,
         "terrorist": 0,
         "threats": 0,
         "toretto": 0.3333333333333333,
         "transported": 0,
         "villainous": 0,
         "wanted": 0,
         "war": 0,
         "weary": 0,
         "world": 0,
         "years": 0
        },
        {
         "26": 0,
         "_deepnote_index_column": 1,
         "abducted": 0,
         "accuser": 0,
         "adventure": 0.19009749873751086,
         "adventures": 0,
         "assumes": 0,
         "attorney": 0,
         "awesomeness": 0,
         "bane": 0,
         "barsoom": 0,
         "batman": 0,
         "branded": 0,
         "brink": 0,
         "brother": 0,
         "captain": 0,
         "car": 0.19009749873751086,
         "carter": 0,
         "caught": 0.19009749873751086,
         "championship": 0.19009749873751086,
         "city": 0,
         "closer": 0,
         "collapse": 0,
         "comatose": 0,
         "compete": 0.19009749873751086,
         "conflict": 0,
         "continuing": 0,
         "crimes": 0,
         "dark": 0,
         "death": 0,
         "deckard": 0,
         "dent": 0,
         "department": 0,
         "different": 0,
         "discovering": 0,
         "district": 0,
         "dominic": 0,
         "earth": 0,
         "embroiled": 0,
         "encounters": 0,
         "enemy": 0,
         "epic": 0,
         "espionage": 0.19009749873751086,
         "exotic": 0,
         "face": 0,
         "family": 0,
         "finds": 0,
         "finest": 0,
         "following": 0,
         "gets": 0.19009749873751086,
         "gotham": 0,
         "grand": 0.19009749873751086,
         "hands": 0,
         "harvey": 0,
         "head": 0.19009749873751086,
         "home": 0,
         "hugely": 0,
         "humanity": 0,
         "hunted": 0,
         "inexplicably": 0,
         "international": 0.19009749873751086,
         "intriguing": 0.19009749873751086,
         "john": 0,
         "knight": 0,
         "kyle": 0,
         "late": 0,
         "later": 0,
         "leader": 0,
         "legendary": 0,
         "light": 0,
         "lightning": 0.19009749873751086,
         "little": 0,
         "manhunt": 0,
         "mars": 0,
         "mater": 0.3801949974750217,
         "mcqueen": 0.19009749873751086,
         "military": 0,
         "mysterious": 0,
         "new": 0,
         "orb": 0,
         "overseas": 0.19009749873751086,
         "overwhelms": 0,
         "pal": 0.19009749873751086,
         "people": 0,
         "peter": 0,
         "planet": 0,
         "po": 0,
         "police": 0,
         "prime": 0,
         "prix": 0.19009749873751086,
         "protect": 0,
         "quill": 0,
         "race": 0.3801949974750217,
         "realizes": 0,
         "rediscovers": 0,
         "reluctantly": 0,
         "reputation": 0,
         "responsibility": 0,
         "rests": 0,
         "resurfaces": 0,
         "revenge": 0,
         "road": 0.19009749873751086,
         "rocky": 0.19009749873751086,
         "ronan": 0,
         "seeks": 0,
         "selina": 0,
         "shaw": 0,
         "star": 0.19009749873751086,
         "subsequently": 0,
         "supernatural": 0,
         "survival": 0,
         "target": 0,
         "terrorist": 0,
         "threats": 0,
         "toretto": 0,
         "transported": 0,
         "villainous": 0,
         "wanted": 0,
         "war": 0,
         "weary": 0,
         "world": 0.1558826683471759,
         "years": 0
        },
        {
         "26": 0.23776057462757455,
         "_deepnote_index_column": 2,
         "abducted": 0.23776057462757455,
         "accuser": 0.23776057462757455,
         "adventure": 0,
         "adventures": 0,
         "assumes": 0,
         "attorney": 0,
         "awesomeness": 0,
         "bane": 0,
         "barsoom": 0,
         "batman": 0,
         "branded": 0,
         "brink": 0,
         "brother": 0,
         "captain": 0,
         "car": 0,
         "carter": 0,
         "caught": 0,
         "championship": 0,
         "city": 0,
         "closer": 0,
         "collapse": 0,
         "comatose": 0,
         "compete": 0,
         "conflict": 0,
         "continuing": 0,
         "crimes": 0,
         "dark": 0,
         "death": 0,
         "deckard": 0,
         "dent": 0,
         "department": 0,
         "different": 0,
         "discovering": 0.23776057462757455,
         "district": 0,
         "dominic": 0,
         "earth": 0.23776057462757455,
         "embroiled": 0,
         "encounters": 0,
         "enemy": 0,
         "epic": 0,
         "espionage": 0,
         "exotic": 0,
         "face": 0,
         "family": 0,
         "finds": 0.23776057462757455,
         "finest": 0,
         "following": 0,
         "gets": 0,
         "gotham": 0,
         "grand": 0,
         "hands": 0,
         "harvey": 0,
         "head": 0,
         "home": 0,
         "hugely": 0,
         "humanity": 0,
         "hunted": 0,
         "inexplicably": 0,
         "international": 0,
         "intriguing": 0,
         "john": 0,
         "knight": 0,
         "kyle": 0,
         "late": 0,
         "later": 0,
         "leader": 0,
         "legendary": 0,
         "light": 0.23776057462757455,
         "lightning": 0,
         "little": 0,
         "manhunt": 0.23776057462757455,
         "mars": 0,
         "mater": 0,
         "mcqueen": 0,
         "military": 0,
         "mysterious": 0,
         "new": 0,
         "orb": 0.23776057462757455,
         "overseas": 0,
         "overwhelms": 0,
         "pal": 0,
         "people": 0,
         "peter": 0.23776057462757455,
         "planet": 0,
         "po": 0,
         "police": 0,
         "prime": 0.23776057462757455,
         "prix": 0,
         "protect": 0,
         "quill": 0.23776057462757455,
         "race": 0,
         "realizes": 0,
         "rediscovers": 0,
         "reluctantly": 0,
         "reputation": 0,
         "responsibility": 0,
         "rests": 0,
         "resurfaces": 0,
         "revenge": 0,
         "road": 0,
         "rocky": 0,
         "ronan": 0.23776057462757455,
         "seeks": 0,
         "selina": 0,
         "shaw": 0,
         "star": 0,
         "subsequently": 0,
         "supernatural": 0,
         "survival": 0,
         "target": 0.23776057462757455,
         "terrorist": 0,
         "threats": 0,
         "toretto": 0,
         "transported": 0,
         "villainous": 0,
         "wanted": 0.23776057462757455,
         "war": 0,
         "weary": 0,
         "world": 0,
         "years": 0.38993414481356126
        },
        {
         "26": 0,
         "_deepnote_index_column": 3,
         "abducted": 0,
         "accuser": 0,
         "adventure": 0,
         "adventures": 0.27044393700509234,
         "assumes": 0,
         "attorney": 0,
         "awesomeness": 0.27044393700509234,
         "bane": 0,
         "barsoom": 0,
         "batman": 0,
         "branded": 0,
         "brink": 0,
         "brother": 0,
         "captain": 0,
         "car": 0,
         "carter": 0,
         "caught": 0,
         "championship": 0,
         "city": 0,
         "closer": 0.27044393700509234,
         "collapse": 0,
         "comatose": 0,
         "compete": 0,
         "conflict": 0,
         "continuing": 0.27044393700509234,
         "crimes": 0,
         "dark": 0,
         "death": 0,
         "deckard": 0,
         "dent": 0,
         "department": 0,
         "different": 0.27044393700509234,
         "discovering": 0,
         "district": 0,
         "dominic": 0,
         "earth": 0,
         "embroiled": 0,
         "encounters": 0,
         "enemy": 0,
         "epic": 0.22176789709832534,
         "espionage": 0,
         "exotic": 0,
         "face": 0.27044393700509234,
         "family": 0,
         "finds": 0,
         "finest": 0,
         "following": 0,
         "gets": 0,
         "gotham": 0,
         "grand": 0,
         "hands": 0,
         "harvey": 0,
         "head": 0,
         "home": 0.27044393700509234,
         "hugely": 0.27044393700509234,
         "humanity": 0,
         "hunted": 0,
         "inexplicably": 0,
         "international": 0,
         "intriguing": 0,
         "john": 0,
         "knight": 0,
         "kyle": 0,
         "late": 0,
         "later": 0,
         "leader": 0,
         "legendary": 0.27044393700509234,
         "light": 0,
         "lightning": 0,
         "little": 0.27044393700509234,
         "manhunt": 0,
         "mars": 0,
         "mater": 0,
         "mcqueen": 0,
         "military": 0,
         "mysterious": 0,
         "new": 0,
         "orb": 0,
         "overseas": 0,
         "overwhelms": 0,
         "pal": 0,
         "people": 0,
         "peter": 0,
         "planet": 0,
         "po": 0.27044393700509234,
         "police": 0,
         "prime": 0,
         "prix": 0,
         "protect": 0,
         "quill": 0,
         "race": 0,
         "realizes": 0,
         "rediscovers": 0,
         "reluctantly": 0,
         "reputation": 0,
         "responsibility": 0,
         "rests": 0,
         "resurfaces": 0,
         "revenge": 0,
         "road": 0,
         "rocky": 0,
         "ronan": 0,
         "seeks": 0,
         "selina": 0,
         "shaw": 0,
         "star": 0,
         "subsequently": 0,
         "supernatural": 0.27044393700509234,
         "survival": 0,
         "target": 0,
         "terrorist": 0,
         "threats": 0.27044393700509234,
         "toretto": 0,
         "transported": 0,
         "villainous": 0,
         "wanted": 0,
         "war": 0,
         "weary": 0,
         "world": 0,
         "years": 0
        },
        {
         "26": 0,
         "_deepnote_index_column": 4,
         "abducted": 0,
         "accuser": 0,
         "adventure": 0,
         "adventures": 0,
         "assumes": 0.13565031766112132,
         "attorney": 0.27130063532224263,
         "awesomeness": 0,
         "bane": 0.13565031766112132,
         "barsoom": 0,
         "batman": 0.27130063532224263,
         "branded": 0.13565031766112132,
         "brink": 0,
         "brother": 0,
         "captain": 0,
         "car": 0,
         "carter": 0,
         "caught": 0,
         "championship": 0,
         "city": 0.27130063532224263,
         "closer": 0,
         "collapse": 0,
         "comatose": 0,
         "compete": 0,
         "conflict": 0,
         "continuing": 0,
         "crimes": 0.13565031766112132,
         "dark": 0.13565031766112132,
         "death": 0.13565031766112132,
         "deckard": 0,
         "dent": 0.27130063532224263,
         "department": 0.13565031766112132,
         "different": 0,
         "discovering": 0,
         "district": 0.13565031766112132,
         "dominic": 0,
         "earth": 0,
         "embroiled": 0,
         "encounters": 0.13565031766112132,
         "enemy": 0.13565031766112132,
         "epic": 0,
         "espionage": 0,
         "exotic": 0,
         "face": 0,
         "family": 0,
         "finds": 0,
         "finest": 0.13565031766112132,
         "following": 0.13565031766112132,
         "gets": 0,
         "gotham": 0.27130063532224263,
         "grand": 0,
         "hands": 0,
         "harvey": 0.13565031766112132,
         "head": 0,
         "home": 0,
         "hugely": 0,
         "humanity": 0,
         "hunted": 0.13565031766112132,
         "inexplicably": 0,
         "international": 0,
         "intriguing": 0,
         "john": 0,
         "knight": 0.13565031766112132,
         "kyle": 0.13565031766112132,
         "late": 0.13565031766112132,
         "later": 0.13565031766112132,
         "leader": 0.13565031766112132,
         "legendary": 0,
         "light": 0,
         "lightning": 0,
         "little": 0,
         "manhunt": 0,
         "mars": 0,
         "mater": 0,
         "mcqueen": 0,
         "military": 0,
         "mysterious": 0.11123520098681397,
         "new": 0.13565031766112132,
         "orb": 0,
         "overseas": 0,
         "overwhelms": 0.13565031766112132,
         "pal": 0,
         "people": 0,
         "peter": 0,
         "planet": 0,
         "po": 0,
         "police": 0.13565031766112132,
         "prime": 0,
         "prix": 0,
         "protect": 0.27130063532224263,
         "quill": 0,
         "race": 0,
         "realizes": 0,
         "rediscovers": 0,
         "reluctantly": 0,
         "reputation": 0.13565031766112132,
         "responsibility": 0.13565031766112132,
         "rests": 0,
         "resurfaces": 0.13565031766112132,
         "revenge": 0,
         "road": 0,
         "rocky": 0,
         "ronan": 0,
         "seeks": 0,
         "selina": 0.13565031766112132,
         "shaw": 0,
         "star": 0,
         "subsequently": 0.13565031766112132,
         "supernatural": 0,
         "survival": 0,
         "target": 0,
         "terrorist": 0.13565031766112132,
         "threats": 0,
         "toretto": 0,
         "transported": 0,
         "villainous": 0.13565031766112132,
         "wanted": 0,
         "war": 0,
         "weary": 0,
         "world": 0,
         "years": 0.11123520098681397
        },
        {
         "26": 0,
         "_deepnote_index_column": 5,
         "abducted": 0,
         "accuser": 0,
         "adventure": 0,
         "adventures": 0,
         "assumes": 0,
         "attorney": 0,
         "awesomeness": 0,
         "bane": 0,
         "barsoom": 0.3534580229098903,
         "batman": 0,
         "branded": 0,
         "brink": 0.17672901145494516,
         "brother": 0,
         "captain": 0.17672901145494516,
         "car": 0,
         "carter": 0.3534580229098903,
         "caught": 0,
         "championship": 0,
         "city": 0,
         "closer": 0,
         "collapse": 0.17672901145494516,
         "comatose": 0,
         "compete": 0,
         "conflict": 0.17672901145494516,
         "continuing": 0,
         "crimes": 0,
         "dark": 0,
         "death": 0,
         "deckard": 0,
         "dent": 0,
         "department": 0,
         "different": 0,
         "discovering": 0,
         "district": 0,
         "dominic": 0,
         "earth": 0,
         "embroiled": 0.17672901145494516,
         "encounters": 0,
         "enemy": 0,
         "epic": 0.1449203175366104,
         "espionage": 0,
         "exotic": 0.17672901145494516,
         "face": 0,
         "family": 0,
         "finds": 0,
         "finest": 0,
         "following": 0,
         "gets": 0,
         "gotham": 0,
         "grand": 0,
         "hands": 0.17672901145494516,
         "harvey": 0,
         "head": 0,
         "home": 0,
         "hugely": 0,
         "humanity": 0.17672901145494516,
         "hunted": 0,
         "inexplicably": 0.17672901145494516,
         "international": 0,
         "intriguing": 0,
         "john": 0.17672901145494516,
         "knight": 0,
         "kyle": 0,
         "late": 0,
         "later": 0,
         "leader": 0,
         "legendary": 0,
         "light": 0,
         "lightning": 0,
         "little": 0,
         "manhunt": 0,
         "mars": 0.17672901145494516,
         "mater": 0,
         "mcqueen": 0,
         "military": 0.17672901145494516,
         "mysterious": 0.1449203175366104,
         "new": 0,
         "orb": 0,
         "overseas": 0,
         "overwhelms": 0,
         "pal": 0,
         "people": 0.17672901145494516,
         "peter": 0,
         "planet": 0.17672901145494516,
         "po": 0,
         "police": 0,
         "prime": 0,
         "prix": 0,
         "protect": 0,
         "quill": 0,
         "race": 0,
         "realizes": 0.17672901145494516,
         "rediscovers": 0.17672901145494516,
         "reluctantly": 0.17672901145494516,
         "reputation": 0,
         "responsibility": 0,
         "rests": 0.17672901145494516,
         "resurfaces": 0,
         "revenge": 0,
         "road": 0,
         "rocky": 0,
         "ronan": 0,
         "seeks": 0,
         "selina": 0,
         "shaw": 0,
         "star": 0,
         "subsequently": 0,
         "supernatural": 0,
         "survival": 0.17672901145494516,
         "target": 0,
         "terrorist": 0,
         "threats": 0,
         "toretto": 0,
         "transported": 0.17672901145494516,
         "villainous": 0,
         "wanted": 0,
         "war": 0.17672901145494516,
         "weary": 0.17672901145494516,
         "world": 0.1449203175366104,
         "years": 0
        }
       ]
      },
      "text/html": [
       "<div>\n",
       "<style scoped>\n",
       "    .dataframe tbody tr th:only-of-type {\n",
       "        vertical-align: middle;\n",
       "    }\n",
       "\n",
       "    .dataframe tbody tr th {\n",
       "        vertical-align: top;\n",
       "    }\n",
       "\n",
       "    .dataframe thead th {\n",
       "        text-align: right;\n",
       "    }\n",
       "</style>\n",
       "<table border=\"1\" class=\"dataframe\">\n",
       "  <thead>\n",
       "    <tr style=\"text-align: right;\">\n",
       "      <th></th>\n",
       "      <th>26</th>\n",
       "      <th>abducted</th>\n",
       "      <th>accuser</th>\n",
       "      <th>adventure</th>\n",
       "      <th>adventures</th>\n",
       "      <th>assumes</th>\n",
       "      <th>attorney</th>\n",
       "      <th>awesomeness</th>\n",
       "      <th>bane</th>\n",
       "      <th>barsoom</th>\n",
       "      <th>...</th>\n",
       "      <th>terrorist</th>\n",
       "      <th>threats</th>\n",
       "      <th>toretto</th>\n",
       "      <th>transported</th>\n",
       "      <th>villainous</th>\n",
       "      <th>wanted</th>\n",
       "      <th>war</th>\n",
       "      <th>weary</th>\n",
       "      <th>world</th>\n",
       "      <th>years</th>\n",
       "    </tr>\n",
       "  </thead>\n",
       "  <tbody>\n",
       "    <tr>\n",
       "      <th>0</th>\n",
       "      <td>0.000000</td>\n",
       "      <td>0.000000</td>\n",
       "      <td>0.000000</td>\n",
       "      <td>0.000000</td>\n",
       "      <td>0.000000</td>\n",
       "      <td>0.00000</td>\n",
       "      <td>0.000000</td>\n",
       "      <td>0.000000</td>\n",
       "      <td>0.00000</td>\n",
       "      <td>0.000000</td>\n",
       "      <td>...</td>\n",
       "      <td>0.00000</td>\n",
       "      <td>0.000000</td>\n",
       "      <td>0.333333</td>\n",
       "      <td>0.000000</td>\n",
       "      <td>0.00000</td>\n",
       "      <td>0.000000</td>\n",
       "      <td>0.000000</td>\n",
       "      <td>0.000000</td>\n",
       "      <td>0.000000</td>\n",
       "      <td>0.000000</td>\n",
       "    </tr>\n",
       "    <tr>\n",
       "      <th>1</th>\n",
       "      <td>0.000000</td>\n",
       "      <td>0.000000</td>\n",
       "      <td>0.000000</td>\n",
       "      <td>0.190097</td>\n",
       "      <td>0.000000</td>\n",
       "      <td>0.00000</td>\n",
       "      <td>0.000000</td>\n",
       "      <td>0.000000</td>\n",
       "      <td>0.00000</td>\n",
       "      <td>0.000000</td>\n",
       "      <td>...</td>\n",
       "      <td>0.00000</td>\n",
       "      <td>0.000000</td>\n",
       "      <td>0.000000</td>\n",
       "      <td>0.000000</td>\n",
       "      <td>0.00000</td>\n",
       "      <td>0.000000</td>\n",
       "      <td>0.000000</td>\n",
       "      <td>0.000000</td>\n",
       "      <td>0.155883</td>\n",
       "      <td>0.000000</td>\n",
       "    </tr>\n",
       "    <tr>\n",
       "      <th>2</th>\n",
       "      <td>0.237761</td>\n",
       "      <td>0.237761</td>\n",
       "      <td>0.237761</td>\n",
       "      <td>0.000000</td>\n",
       "      <td>0.000000</td>\n",
       "      <td>0.00000</td>\n",
       "      <td>0.000000</td>\n",
       "      <td>0.000000</td>\n",
       "      <td>0.00000</td>\n",
       "      <td>0.000000</td>\n",
       "      <td>...</td>\n",
       "      <td>0.00000</td>\n",
       "      <td>0.000000</td>\n",
       "      <td>0.000000</td>\n",
       "      <td>0.000000</td>\n",
       "      <td>0.00000</td>\n",
       "      <td>0.237761</td>\n",
       "      <td>0.000000</td>\n",
       "      <td>0.000000</td>\n",
       "      <td>0.000000</td>\n",
       "      <td>0.389934</td>\n",
       "    </tr>\n",
       "    <tr>\n",
       "      <th>3</th>\n",
       "      <td>0.000000</td>\n",
       "      <td>0.000000</td>\n",
       "      <td>0.000000</td>\n",
       "      <td>0.000000</td>\n",
       "      <td>0.270444</td>\n",
       "      <td>0.00000</td>\n",
       "      <td>0.000000</td>\n",
       "      <td>0.270444</td>\n",
       "      <td>0.00000</td>\n",
       "      <td>0.000000</td>\n",
       "      <td>...</td>\n",
       "      <td>0.00000</td>\n",
       "      <td>0.270444</td>\n",
       "      <td>0.000000</td>\n",
       "      <td>0.000000</td>\n",
       "      <td>0.00000</td>\n",
       "      <td>0.000000</td>\n",
       "      <td>0.000000</td>\n",
       "      <td>0.000000</td>\n",
       "      <td>0.000000</td>\n",
       "      <td>0.000000</td>\n",
       "    </tr>\n",
       "    <tr>\n",
       "      <th>4</th>\n",
       "      <td>0.000000</td>\n",
       "      <td>0.000000</td>\n",
       "      <td>0.000000</td>\n",
       "      <td>0.000000</td>\n",
       "      <td>0.000000</td>\n",
       "      <td>0.13565</td>\n",
       "      <td>0.271301</td>\n",
       "      <td>0.000000</td>\n",
       "      <td>0.13565</td>\n",
       "      <td>0.000000</td>\n",
       "      <td>...</td>\n",
       "      <td>0.13565</td>\n",
       "      <td>0.000000</td>\n",
       "      <td>0.000000</td>\n",
       "      <td>0.000000</td>\n",
       "      <td>0.13565</td>\n",
       "      <td>0.000000</td>\n",
       "      <td>0.000000</td>\n",
       "      <td>0.000000</td>\n",
       "      <td>0.000000</td>\n",
       "      <td>0.111235</td>\n",
       "    </tr>\n",
       "    <tr>\n",
       "      <th>5</th>\n",
       "      <td>0.000000</td>\n",
       "      <td>0.000000</td>\n",
       "      <td>0.000000</td>\n",
       "      <td>0.000000</td>\n",
       "      <td>0.000000</td>\n",
       "      <td>0.00000</td>\n",
       "      <td>0.000000</td>\n",
       "      <td>0.000000</td>\n",
       "      <td>0.00000</td>\n",
       "      <td>0.353458</td>\n",
       "      <td>...</td>\n",
       "      <td>0.00000</td>\n",
       "      <td>0.000000</td>\n",
       "      <td>0.000000</td>\n",
       "      <td>0.176729</td>\n",
       "      <td>0.00000</td>\n",
       "      <td>0.000000</td>\n",
       "      <td>0.176729</td>\n",
       "      <td>0.176729</td>\n",
       "      <td>0.144920</td>\n",
       "      <td>0.000000</td>\n",
       "    </tr>\n",
       "  </tbody>\n",
       "</table>\n",
       "<p>6 rows × 121 columns</p>\n",
       "</div>"
      ],
      "text/plain": [
       "         26  abducted   accuser  adventure  adventures  assumes  attorney  \\\n",
       "0  0.000000  0.000000  0.000000   0.000000    0.000000  0.00000  0.000000   \n",
       "1  0.000000  0.000000  0.000000   0.190097    0.000000  0.00000  0.000000   \n",
       "2  0.237761  0.237761  0.237761   0.000000    0.000000  0.00000  0.000000   \n",
       "3  0.000000  0.000000  0.000000   0.000000    0.270444  0.00000  0.000000   \n",
       "4  0.000000  0.000000  0.000000   0.000000    0.000000  0.13565  0.271301   \n",
       "5  0.000000  0.000000  0.000000   0.000000    0.000000  0.00000  0.000000   \n",
       "\n",
       "   awesomeness     bane   barsoom  ...  terrorist   threats   toretto  \\\n",
       "0     0.000000  0.00000  0.000000  ...    0.00000  0.000000  0.333333   \n",
       "1     0.000000  0.00000  0.000000  ...    0.00000  0.000000  0.000000   \n",
       "2     0.000000  0.00000  0.000000  ...    0.00000  0.000000  0.000000   \n",
       "3     0.270444  0.00000  0.000000  ...    0.00000  0.270444  0.000000   \n",
       "4     0.000000  0.13565  0.000000  ...    0.13565  0.000000  0.000000   \n",
       "5     0.000000  0.00000  0.353458  ...    0.00000  0.000000  0.000000   \n",
       "\n",
       "   transported  villainous    wanted       war     weary     world     years  \n",
       "0     0.000000     0.00000  0.000000  0.000000  0.000000  0.000000  0.000000  \n",
       "1     0.000000     0.00000  0.000000  0.000000  0.000000  0.155883  0.000000  \n",
       "2     0.000000     0.00000  0.237761  0.000000  0.000000  0.000000  0.389934  \n",
       "3     0.000000     0.00000  0.000000  0.000000  0.000000  0.000000  0.000000  \n",
       "4     0.000000     0.13565  0.000000  0.000000  0.000000  0.000000  0.111235  \n",
       "5     0.176729     0.00000  0.000000  0.176729  0.176729  0.144920  0.000000  \n",
       "\n",
       "[6 rows x 121 columns]"
      ]
     },
     "execution_count": 15,
     "metadata": {},
     "output_type": "execute_result"
    }
   ],
   "source": [
    "pd.DataFrame(tfidf_matrix.toarray(), columns=tfidf.get_feature_names())"
   ]
  },
  {
   "cell_type": "code",
   "execution_count": 17,
   "metadata": {
    "cell_id": "2eb2e0060b60409387244e183733491e",
    "deepnote_cell_type": "code",
    "execution_context_id": "39b709e7-ae6f-4c3e-ad49-a0bbfbf219ca",
    "execution_millis": 1,
    "execution_start": 1735428260815,
    "source_hash": "4ab80e7"
   },
   "outputs": [
    {
     "data": {
      "text/plain": [
       "(6, 121)"
      ]
     },
     "execution_count": 17,
     "metadata": {},
     "output_type": "execute_result"
    }
   ],
   "source": [
    "tfidf_matrix.shape"
   ]
  },
  {
   "cell_type": "markdown",
   "metadata": {
    "cell_id": "4c688a004f1142a689f3a7bf2da75c3b",
    "deepnote_cell_type": "text-cell-h3",
    "formattedRanges": []
   },
   "source": [
    "### Similarity Matrix"
   ]
  },
  {
   "cell_type": "code",
   "execution_count": 19,
   "metadata": {
    "cell_id": "6f21cffac57b4bd786e8de046554e3e2",
    "deepnote_cell_type": "code",
    "execution_context_id": "39b709e7-ae6f-4c3e-ad49-a0bbfbf219ca",
    "execution_millis": 5,
    "execution_start": 1735428280598,
    "source_hash": "16b499f4"
   },
   "outputs": [],
   "source": [
    "from sklearn.metrics.pairwise import linear_kernel\n",
    "similarity_matrix = linear_kernel(tfidf_matrix, tfidf_matrix)"
   ]
  },
  {
   "cell_type": "code",
   "execution_count": 21,
   "metadata": {
    "cell_id": "5e672386f5c844c09d8dafe21856af5e",
    "deepnote_cell_type": "code",
    "execution_context_id": "39b709e7-ae6f-4c3e-ad49-a0bbfbf219ca",
    "execution_millis": 1,
    "execution_start": 1735428300663,
    "source_hash": "4713aa2d"
   },
   "outputs": [
    {
     "data": {
      "text/plain": [
       "array([[1.        , 0.        , 0.        , 0.        , 0.        ,\n",
       "        0.        ],\n",
       "       [0.        , 1.        , 0.        , 0.        , 0.        ,\n",
       "        0.02259057],\n",
       "       [0.        , 0.        , 1.        , 0.        , 0.0433744 ,\n",
       "        0.        ],\n",
       "       [0.        , 0.        , 0.        , 1.        , 0.        ,\n",
       "        0.03213867],\n",
       "       [0.        , 0.        , 0.0433744 , 0.        , 1.        ,\n",
       "        0.01612024],\n",
       "       [0.        , 0.02259057, 0.        , 0.03213867, 0.01612024,\n",
       "        1.        ]])"
      ]
     },
     "execution_count": 21,
     "metadata": {},
     "output_type": "execute_result"
    }
   ],
   "source": [
    "similarity_matrix"
   ]
  },
  {
   "cell_type": "markdown",
   "metadata": {
    "cell_id": "22ccd2ceb6864e9d831eca6ddf64b3d9",
    "deepnote_cell_type": "text-cell-h3",
    "formattedRanges": []
   },
   "source": [
    "### Find the Most Similar Movies"
   ]
  },
  {
   "cell_type": "code",
   "execution_count": 23,
   "metadata": {
    "cell_id": "061e1f750a614f5cb85bad671a215480",
    "deepnote_cell_type": "code",
    "execution_context_id": "39b709e7-ae6f-4c3e-ad49-a0bbfbf219ca",
    "execution_millis": 0,
    "execution_start": 1735428596423,
    "source_hash": "4577280e"
   },
   "outputs": [],
   "source": [
    "movie_title = \"John Carter\""
   ]
  },
  {
   "cell_type": "code",
   "execution_count": 39,
   "metadata": {
    "cell_id": "0fa5e15e67e64375a72e6e79062c4351",
    "deepnote_cell_type": "code",
    "execution_context_id": "39b709e7-ae6f-4c3e-ad49-a0bbfbf219ca",
    "execution_millis": 1,
    "execution_start": 1735429171107,
    "source_hash": "ef3bddf"
   },
   "outputs": [
    {
     "data": {
      "text/plain": [
       "5"
      ]
     },
     "execution_count": 39,
     "metadata": {},
     "output_type": "execute_result"
    }
   ],
   "source": [
    "# Find index of current movie\n",
    "idx = movies.loc[movies[\"title\"]==movie_title].index[0]\n",
    "idx"
   ]
  },
  {
   "cell_type": "code",
   "execution_count": 41,
   "metadata": {
    "cell_id": "b24aad1529ac445fab14fb7ac1e55a10",
    "deepnote_cell_type": "code",
    "execution_context_id": "39b709e7-ae6f-4c3e-ad49-a0bbfbf219ca",
    "execution_millis": 1,
    "execution_start": 1735429173173,
    "source_hash": "7bb27c6f"
   },
   "outputs": [
    {
     "data": {
      "text/plain": [
       "[(0, 0.0),\n",
       " (1, 0.022590565795326856),\n",
       " (2, 0.0),\n",
       " (3, 0.032138674066915646),\n",
       " (4, 0.016120240648257757),\n",
       " (5, 1.0000000000000004)]"
      ]
     },
     "execution_count": 41,
     "metadata": {},
     "output_type": "execute_result"
    }
   ],
   "source": [
    "# Produce a list of movies similar to current movie based on coefficient\n",
    "scores = list(enumerate(similarity_matrix[idx]))\n",
    "scores"
   ]
  },
  {
   "cell_type": "code",
   "execution_count": 43,
   "metadata": {
    "cell_id": "793de343b31a4c42b186d1d11163d4a5",
    "deepnote_cell_type": "code",
    "execution_context_id": "39b709e7-ae6f-4c3e-ad49-a0bbfbf219ca",
    "execution_millis": 3,
    "execution_start": 1735429175656,
    "source_hash": "2694f722"
   },
   "outputs": [],
   "source": [
    "# Sort the list\n",
    "scores = sorted(scores, key=lambda x: x[1], reverse=True)"
   ]
  },
  {
   "cell_type": "code",
   "execution_count": 31,
   "metadata": {
    "cell_id": "ba265b90e9f24519986038768af09b59",
    "deepnote_cell_type": "code",
    "execution_context_id": "39b709e7-ae6f-4c3e-ad49-a0bbfbf219ca",
    "execution_millis": 1,
    "execution_start": 1735428826907,
    "source_hash": "5ad5d988"
   },
   "outputs": [
    {
     "data": {
      "text/plain": [
       "[(5, 1.0000000000000004),\n",
       " (3, 0.032138674066915646),\n",
       " (1, 0.022590565795326856),\n",
       " (4, 0.016120240648257757),\n",
       " (0, 0.0),\n",
       " (2, 0.0)]"
      ]
     },
     "execution_count": 31,
     "metadata": {},
     "output_type": "execute_result"
    }
   ],
   "source": [
    "scores"
   ]
  },
  {
   "cell_type": "code",
   "execution_count": 45,
   "metadata": {
    "cell_id": "639baa7ca9a940d5831c7a61f391c416",
    "deepnote_cell_type": "code",
    "execution_context_id": "39b709e7-ae6f-4c3e-ad49-a0bbfbf219ca",
    "execution_millis": 0,
    "execution_start": 1735429180283,
    "source_hash": "a4a4028a"
   },
   "outputs": [
    {
     "data": {
      "text/plain": [
       "[3, 1, 4]"
      ]
     },
     "execution_count": 45,
     "metadata": {},
     "output_type": "execute_result"
    }
   ],
   "source": [
    "# Find the indicies of the three most similar movies\n",
    "movies_indices = [tpl[0] for tpl in scores[1:4]]\n",
    "movies_indices"
   ]
  },
  {
   "cell_type": "code",
   "execution_count": 49,
   "metadata": {
    "cell_id": "7081186569cc4ff9b0a7ed571a24a990",
    "deepnote_cell_type": "code",
    "execution_context_id": "39b709e7-ae6f-4c3e-ad49-a0bbfbf219ca",
    "execution_millis": 0,
    "execution_start": 1735429242779,
    "source_hash": "9e14c62a"
   },
   "outputs": [
    {
     "data": {
      "text/plain": [
       "['Kung Fu Panda 3', 'Cars 2', 'The Dark Knight Rises']"
      ]
     },
     "execution_count": 49,
     "metadata": {},
     "output_type": "execute_result"
    }
   ],
   "source": [
    "# Find the titles of the three most similar movies\n",
    "list(movies[\"title\"].iloc[movies_indices])"
   ]
  },
  {
   "cell_type": "code",
   "execution_count": 51,
   "metadata": {
    "cell_id": "2ec39b9b3cea4b70972ffdb720c3203d",
    "deepnote_cell_type": "code",
    "execution_context_id": "39b709e7-ae6f-4c3e-ad49-a0bbfbf219ca",
    "execution_millis": 0,
    "execution_start": 1735429315427,
    "source_hash": "7fbd74eb"
   },
   "outputs": [],
   "source": [
    "# Package as a function\n",
    "def similar_movies(movie_title, nr_movies):\n",
    "    idx = movies.loc[movies[\"title\"]==movie_title].index[0]\n",
    "    scores = list(enumerate(similarity_matrix[idx]))\n",
    "    scores = sorted(scores, key=lambda x: x[1], reverse=True)\n",
    "    movies_indices = [tpl[0] for tpl in scores[1:nr_movies+1]]\n",
    "    similar_titles = list(movies[\"title\"].iloc[movies_indices])\n",
    "    return similar_titles"
   ]
  },
  {
   "cell_type": "code",
   "execution_count": 53,
   "metadata": {
    "cell_id": "98f5555835504d24a14fa0eddb37b7a5",
    "deepnote_cell_type": "code",
    "execution_context_id": "39b709e7-ae6f-4c3e-ad49-a0bbfbf219ca",
    "execution_millis": 1,
    "execution_start": 1735429344343,
    "source_hash": "64e855d1"
   },
   "outputs": [
    {
     "data": {
      "text/plain": [
       "['John Carter', 'Furious 7', 'Cars 2']"
      ]
     },
     "execution_count": 53,
     "metadata": {},
     "output_type": "execute_result"
    }
   ],
   "source": [
    "# Call the function\n",
    "similar_movies(\"Kung Fu Panda 3\", 3)"
   ]
  },
  {
   "cell_type": "markdown",
   "metadata": {
    "created_in_deepnote_cell": true,
    "deepnote_cell_type": "markdown"
   },
   "source": [
    "<a style='text-decoration:none;line-height:16px;display:flex;color:#5B5B62;padding:10px;justify-content:end;' href='https://deepnote.com?utm_source=created-in-deepnote-cell&projectId=1b62e3ae-6540-4276-9746-8c027c90c951' target=\"_blank\">\n",
    "<img alt='Created in deepnote.com' style='display:inline;max-height:16px;margin:0px;margin-right:7.5px;' src='data:image/svg+xml;base64,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' > </img>\n",
    "Created in <span style='font-weight:600;margin-left:4px;'>Deepnote</span></a>"
   ]
  }
 ],
 "metadata": {
  "deepnote_notebook_id": "7bbbbc1501314566bfb6e06f7c03686a",
  "kernelspec": {
   "display_name": ".venv",
   "language": "python",
   "name": "python3"
  },
  "language_info": {
   "codemirror_mode": {
    "name": "ipython",
    "version": 3
   },
   "file_extension": ".py",
   "mimetype": "text/x-python",
   "name": "python",
   "nbconvert_exporter": "python",
   "pygments_lexer": "ipython3",
   "version": "3.12.3"
  }
 },
 "nbformat": 4,
 "nbformat_minor": 0
}
